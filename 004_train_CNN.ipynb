{
 "cells": [
  {
   "cell_type": "code",
   "execution_count": 135,
   "id": "3ac13f6c-a061-4c24-a5fc-081ea6283a62",
   "metadata": {},
   "outputs": [],
   "source": [
    "%load_ext autoreload\n",
    "%autoreload 2"
   ]
  },
  {
   "cell_type": "markdown",
   "id": "9dab7de8-eb23-47d7-a771-28a2397d0a54",
   "metadata": {},
   "source": [
    "# Modelo CNN con generador, embedings de smiles y data-augmentation\n",
    "\n",
    "### Use env project_nlp"
   ]
  },
  {
   "cell_type": "code",
   "execution_count": 136,
   "id": "21bee0a3-79a7-43b2-9ac2-15cad5630e22",
   "metadata": {},
   "outputs": [],
   "source": [
    "import pandas as pd\n",
    "import numpy as np\n",
    "from datagen import smiles_dict, smiles_to_seq"
   ]
  },
  {
   "cell_type": "markdown",
   "id": "20aa799f-b75c-4d23-869b-fea6d041a6e9",
   "metadata": {},
   "source": [
    "### smiles_dict"
   ]
  },
  {
   "cell_type": "code",
   "execution_count": 137,
   "id": "628a3149-eabe-4de3-8404-d86eb6ad3baf",
   "metadata": {},
   "outputs": [
    {
     "data": {
      "text/plain": [
       "42"
      ]
     },
     "execution_count": 137,
     "metadata": {},
     "output_type": "execute_result"
    }
   ],
   "source": [
    "len(smiles_dict)"
   ]
  },
  {
   "cell_type": "markdown",
   "id": "b9c9312c-4232-414c-b0ff-1e6fb6dba1a6",
   "metadata": {},
   "source": [
    "smiles_dict nos da un tokenizador para simplificar el problema. Puede ver como se construyó en la notebook **deep_chem**.\n",
    "Si al momento de correr el modelo con este diccionario encuentra problemas de key_error, puede agregar los faltantes al diccionario\n",
    "\n",
    "Mirar dentro de **datagen.py** como se usa este diccionario con la función **smiles_to_seq** para tokenizar. El código es muy sencillo"
   ]
  },
  {
   "cell_type": "code",
   "execution_count": 138,
   "id": "e29ef48f-4b67-42a4-83af-e7d0bb980c4b",
   "metadata": {},
   "outputs": [
    {
     "name": "stdout",
     "output_type": "stream",
     "text": [
      "{'#': 1, '(': 2, ')': 3, '+': 4, '-': 5, '/': 6, '1': 7, '2': 8, '3': 9, '4': 10, '5': 11, '6': 12, '7': 13, '8': 14, '=': 15, 'C': 16, 'F': 17, 'H': 18, 'I': 19, 'N': 20, 'O': 21, 'P': 22, 'S': 23, '[': 24, '\\\\': 25, ']': 26, '_': 27, 'c': 28, 'Cl': 29, 'Br': 30, 'n': 31, 'o': 32, 's': 33, '@': 34, '.': 35, 'a': 36, 'B': 37, 'e': 38, 'i': 39, '9': 40, '10': 41, '11': 42}\n"
     ]
    }
   ],
   "source": [
    "print(smiles_dict)"
   ]
  },
  {
   "cell_type": "markdown",
   "id": "b103a4e0-038d-406b-aab8-5c9452ede04e",
   "metadata": {},
   "source": [
    "# Carga de los datos"
   ]
  },
  {
   "cell_type": "code",
   "execution_count": 139,
   "id": "353a2d75-f0f4-4563-9842-c68d77118161",
   "metadata": {},
   "outputs": [],
   "source": [
    "df = pd.read_csv('data/acetylcholinesterase_02_bioactivity_data_preprocessed.csv')"
   ]
  },
  {
   "cell_type": "code",
   "execution_count": 140,
   "id": "4e7fcdcb-ad53-4ebf-bc17-a241c79269da",
   "metadata": {},
   "outputs": [],
   "source": [
    "max_len_idx = df['canonical_smiles'].apply(len).argmax()\n",
    "min_len_idx = df['canonical_smiles'].apply(len).argmin()\n",
    "max_sequence_len = len(df['canonical_smiles'].iloc[max_len_idx]) + 20"
   ]
  },
  {
   "cell_type": "code",
   "execution_count": 141,
   "id": "d1554fa5-d9ee-456c-be20-80571e319fc6",
   "metadata": {},
   "outputs": [
    {
     "data": {
      "text/html": [
       "<div>\n",
       "<style scoped>\n",
       "    .dataframe tbody tr th:only-of-type {\n",
       "        vertical-align: middle;\n",
       "    }\n",
       "\n",
       "    .dataframe tbody tr th {\n",
       "        vertical-align: top;\n",
       "    }\n",
       "\n",
       "    .dataframe thead th {\n",
       "        text-align: right;\n",
       "    }\n",
       "</style>\n",
       "<table border=\"1\" class=\"dataframe\">\n",
       "  <thead>\n",
       "    <tr style=\"text-align: right;\">\n",
       "      <th></th>\n",
       "      <th>molecule_chembl_id</th>\n",
       "      <th>canonical_smiles</th>\n",
       "      <th>standard_value</th>\n",
       "      <th>standard_value_norm</th>\n",
       "      <th>pIC50</th>\n",
       "    </tr>\n",
       "  </thead>\n",
       "  <tbody>\n",
       "    <tr>\n",
       "      <th>0</th>\n",
       "      <td>CHEMBL133897</td>\n",
       "      <td>CCOc1nn(-c2cccc(OCc3ccccc3)c2)c(=O)o1</td>\n",
       "      <td>750.0</td>\n",
       "      <td>750.0</td>\n",
       "      <td>6.124939</td>\n",
       "    </tr>\n",
       "    <tr>\n",
       "      <th>1</th>\n",
       "      <td>CHEMBL336398</td>\n",
       "      <td>O=C(N1CCCCC1)n1nc(-c2ccc(Cl)cc2)nc1SCC1CC1</td>\n",
       "      <td>100.0</td>\n",
       "      <td>100.0</td>\n",
       "      <td>7.000000</td>\n",
       "    </tr>\n",
       "    <tr>\n",
       "      <th>2</th>\n",
       "      <td>CHEMBL131588</td>\n",
       "      <td>CN(C(=O)n1nc(-c2ccc(Cl)cc2)nc1SCC(F)(F)F)c1ccccc1</td>\n",
       "      <td>50000.0</td>\n",
       "      <td>50000.0</td>\n",
       "      <td>4.301030</td>\n",
       "    </tr>\n",
       "    <tr>\n",
       "      <th>3</th>\n",
       "      <td>CHEMBL130628</td>\n",
       "      <td>O=C(N1CCCCC1)n1nc(-c2ccc(Cl)cc2)nc1SCC(F)(F)F</td>\n",
       "      <td>300.0</td>\n",
       "      <td>300.0</td>\n",
       "      <td>6.522879</td>\n",
       "    </tr>\n",
       "    <tr>\n",
       "      <th>4</th>\n",
       "      <td>CHEMBL130478</td>\n",
       "      <td>CSc1nc(-c2ccc(OC(F)(F)F)cc2)nn1C(=O)N(C)C</td>\n",
       "      <td>800.0</td>\n",
       "      <td>800.0</td>\n",
       "      <td>6.096910</td>\n",
       "    </tr>\n",
       "  </tbody>\n",
       "</table>\n",
       "</div>"
      ],
      "text/plain": [
       "  molecule_chembl_id                                   canonical_smiles  \\\n",
       "0       CHEMBL133897              CCOc1nn(-c2cccc(OCc3ccccc3)c2)c(=O)o1   \n",
       "1       CHEMBL336398         O=C(N1CCCCC1)n1nc(-c2ccc(Cl)cc2)nc1SCC1CC1   \n",
       "2       CHEMBL131588  CN(C(=O)n1nc(-c2ccc(Cl)cc2)nc1SCC(F)(F)F)c1ccccc1   \n",
       "3       CHEMBL130628      O=C(N1CCCCC1)n1nc(-c2ccc(Cl)cc2)nc1SCC(F)(F)F   \n",
       "4       CHEMBL130478          CSc1nc(-c2ccc(OC(F)(F)F)cc2)nn1C(=O)N(C)C   \n",
       "\n",
       "   standard_value  standard_value_norm     pIC50  \n",
       "0           750.0                750.0  6.124939  \n",
       "1           100.0                100.0  7.000000  \n",
       "2         50000.0              50000.0  4.301030  \n",
       "3           300.0                300.0  6.522879  \n",
       "4           800.0                800.0  6.096910  "
      ]
     },
     "execution_count": 141,
     "metadata": {},
     "output_type": "execute_result"
    }
   ],
   "source": [
    "df.head()"
   ]
  },
  {
   "cell_type": "code",
   "execution_count": 142,
   "id": "9675f7e8-a8e6-44ff-b1c5-b229cbbeb2e9",
   "metadata": {},
   "outputs": [],
   "source": [
    "X = df['canonical_smiles'].values\n",
    "y = df['pIC50'].values"
   ]
  },
  {
   "cell_type": "markdown",
   "id": "dd87900d-dca2-4f0e-a5c2-58fef4266a67",
   "metadata": {},
   "source": [
    "# Data augmentation:\n",
    "\n",
    "https://arxiv.org/pdf/1703.07076.pdf\n",
    "\n",
    "https://github.com/EBjerrum/molvecgen\n",
    "\n",
    "https://github.com/Ebjerrum/SMILES-enumeration"
   ]
  },
  {
   "cell_type": "markdown",
   "id": "605fb205-e7e7-45fb-99bd-2e6f490977a8",
   "metadata": {},
   "source": [
    "En la publicación de arriba se describe una técnica de aumentación de datos para los smiles. Leerla si es de su interes (Opcional)\n",
    "\n",
    "En el módulo **dataug.py**, tomando como referencia los repositorios arriba citados se implementó la aumentación de datos"
   ]
  },
  {
   "cell_type": "code",
   "execution_count": 143,
   "id": "d4733af9-9c49-4c2f-bb1d-dc7f180cc66f",
   "metadata": {},
   "outputs": [
    {
     "name": "stdout",
     "output_type": "stream",
     "text": [
      "c1(=O)n(-c2cccc(OCc3ccccc3)c2)nc(OCC)o1\n",
      "c1(-n2c(=O)oc(OCC)n2)cc(OCc2ccccc2)ccc1\n",
      "n1(-c2cccc(OCc3ccccc3)c2)c(=O)oc(OCC)n1\n",
      "c1(OCc2ccccc2)cc(-n2nc(OCC)oc2=O)ccc1\n",
      "c1ccc(-n2nc(OCC)oc2=O)cc1OCc1ccccc1\n",
      "c1(OCC)nn(-c2cc(OCc3ccccc3)ccc2)c(=O)o1\n",
      "c1ccc(COc2cc(-n3nc(OCC)oc3=O)ccc2)cc1\n",
      "c1(OCC)oc(=O)n(-c2cccc(OCc3ccccc3)c2)n1\n",
      "c1cc(COc2cc(-n3c(=O)oc(OCC)n3)ccc2)ccc1\n",
      "c1(=O)oc(OCC)nn1-c1cc(OCc2ccccc2)ccc1\n"
     ]
    }
   ],
   "source": [
    "from dataaug import SmilesEnumerator\n",
    "\n",
    "sme = SmilesEnumerator()\n",
    "for i in range(10):\n",
    "    print(sme.randomize_smiles('CCOc1nn(-c2cccc(OCc3ccccc3)c2)c(=O)o1'))\n",
    "    "
   ]
  },
  {
   "cell_type": "code",
   "execution_count": 144,
   "id": "8244c492-92d8-4844-8d7b-0c706a3457ae",
   "metadata": {},
   "outputs": [
    {
     "data": {
      "text/plain": [
       "'c1cc(COc2cc(-n3c(=O)oc(OCC)n3)ccc2)ccc1'"
      ]
     },
     "execution_count": 144,
     "metadata": {},
     "output_type": "execute_result"
    }
   ],
   "source": [
    "sme.randomize_smiles(X[0])"
   ]
  },
  {
   "cell_type": "markdown",
   "id": "7a1923d3-1df0-4df1-a43c-ec30eff6fe4d",
   "metadata": {},
   "source": [
    "# DataGenerator"
   ]
  },
  {
   "cell_type": "markdown",
   "id": "fc6a3c67-9f44-4052-9e93-9e274f08c1b5",
   "metadata": {},
   "source": [
    "Construir un generador al que se le pase al instanciarlo:\n",
    "- X: smiles (formula química)\n",
    "- y: pIC50\n",
    "- batch_size\n",
    "- max_sequence_len (int): La máxima longitud de las secuencias (para hacer el padding)\n",
    "- data_augmentation (boolean): si quiero hacer o no data-augmentation. \n",
    "- shuffle (boolean)\n",
    "\n",
    "Guardarlo en el módulo **datagen.py** con el nombre de la clase **DataGenerator**\n",
    "\n",
    "Notar que el módulo **datagen.py** ya tiene una estructura para completar"
   ]
  },
  {
   "cell_type": "markdown",
   "id": "f602f3e4-24aa-41ee-9f83-89ec3acc96f1",
   "metadata": {},
   "source": [
    "### Importamos el módulo y lo probamos"
   ]
  },
  {
   "cell_type": "code",
   "execution_count": 145,
   "id": "413bce05-2685-4c84-8a43-c3dd8ed74e11",
   "metadata": {},
   "outputs": [],
   "source": [
    "from datagen import DataGenerator"
   ]
  },
  {
   "cell_type": "code",
   "execution_count": 146,
   "id": "52aa520a-a84b-4d8b-a22e-6b4a5cc7e65a",
   "metadata": {},
   "outputs": [],
   "source": [
    "dgen = DataGenerator(X=X, y=y, seq_length=max_sequence_len, batch_size=32)"
   ]
  },
  {
   "cell_type": "code",
   "execution_count": 147,
   "id": "7f2b14a8-fc43-4964-80fc-4798ac13a223",
   "metadata": {},
   "outputs": [
    {
     "data": {
      "text/plain": [
       "177"
      ]
     },
     "execution_count": 147,
     "metadata": {},
     "output_type": "execute_result"
    }
   ],
   "source": [
    "len(dgen)"
   ]
  },
  {
   "cell_type": "code",
   "execution_count": 148,
   "id": "b3212e31-dd2c-4ebc-b9a0-78ed4bb5d78d",
   "metadata": {},
   "outputs": [
    {
     "data": {
      "text/plain": [
       "5664"
      ]
     },
     "execution_count": 148,
     "metadata": {},
     "output_type": "execute_result"
    }
   ],
   "source": [
    "len(dgen) * dgen.batch_size\n"
   ]
  },
  {
   "cell_type": "code",
   "execution_count": 149,
   "id": "133033ed-a3b1-4572-aaaf-f4cb2a055724",
   "metadata": {},
   "outputs": [
    {
     "name": "stdout",
     "output_type": "stream",
     "text": [
      "176\r"
     ]
    }
   ],
   "source": [
    "for i, (X_b, y_b) in enumerate(dgen):\n",
    "    print(f'{i}\\r', end='')"
   ]
  },
  {
   "cell_type": "code",
   "execution_count": 150,
   "id": "86915dce-0faf-44de-bc40-8060bd56fffb",
   "metadata": {},
   "outputs": [],
   "source": [
    "index = 2\n",
    "batch_size = 128"
   ]
  },
  {
   "cell_type": "markdown",
   "id": "4233710d-9274-4dae-b22d-cf42b57ad862",
   "metadata": {},
   "source": [
    "# Split"
   ]
  },
  {
   "cell_type": "code",
   "execution_count": 151,
   "id": "ce7a95e6-2486-42fb-97fb-865e3fd6a561",
   "metadata": {},
   "outputs": [],
   "source": [
    "from sklearn.model_selection import train_test_split"
   ]
  },
  {
   "cell_type": "code",
   "execution_count": 152,
   "id": "fcb9840f-2f41-45be-99a5-f05f3ab73ed8",
   "metadata": {},
   "outputs": [],
   "source": [
    "X_train, X_test, y_train, y_test = train_test_split(X, y, test_size=0.2, random_state=42)"
   ]
  },
  {
   "cell_type": "code",
   "execution_count": 153,
   "id": "4ad17134-3e15-42d1-b8c9-0c793169e145",
   "metadata": {},
   "outputs": [
    {
     "data": {
      "text/plain": [
       "(4530, 4530, 1133)"
      ]
     },
     "execution_count": 153,
     "metadata": {},
     "output_type": "execute_result"
    }
   ],
   "source": [
    "len(X_train), len(y_train), len(X_test)"
   ]
  },
  {
   "cell_type": "code",
   "execution_count": 154,
   "id": "929de60c-7128-4e35-8efc-4b5f9ee9471c",
   "metadata": {},
   "outputs": [
    {
     "data": {
      "text/plain": [
       "array(['COc1ccc(C(F)(F)F)c[n+]1C.F[B-](F)(F)F',\n",
       "       '[Cl-].[Cl-].c1cc[n+](COC[n+]2ccccc2)cc1',\n",
       "       'CCOC(=O)C1=C(C)Oc2nc3c(c(N)c2[C@H]1c1ccccc1)CCCC3', ...,\n",
       "       'O=[N+]([O-])c1ccccc1-c1nnc(Nc2ncccn2)o1',\n",
       "       'COc1cc2c(cc1O)CCC(C)(CCNCCCCCCCNc1c3c(nc4cc(Cl)ccc14)CCCC3)O2',\n",
       "       'CN(C)Cc1ccc(CSCCCCCCCSCc2ccc(CN(C)C)o2)o1'], dtype=object)"
      ]
     },
     "execution_count": 154,
     "metadata": {},
     "output_type": "execute_result"
    }
   ],
   "source": [
    "X_train"
   ]
  },
  {
   "cell_type": "code",
   "execution_count": 155,
   "id": "dd72855a-8310-4a5e-b5c8-7fe181ea8edd",
   "metadata": {},
   "outputs": [],
   "source": [
    "# Data Agumenteation solo en train\n",
    "dgen_train = DataGenerator(X_train, y_train, seq_length=max_sequence_len, batch_size=128, data_augmentation=True)\n",
    "dgen_test = DataGenerator(X_test, y_test, seq_length=max_sequence_len, batch_size=128, data_augmentation=False)"
   ]
  },
  {
   "cell_type": "code",
   "execution_count": 156,
   "id": "1bf28e8f-b29e-4b60-b7a2-4f08ff5a547b",
   "metadata": {},
   "outputs": [
    {
     "name": "stdout",
     "output_type": "stream",
     "text": [
      "8\r"
     ]
    }
   ],
   "source": [
    "for i, (X_b, y_b) in enumerate(dgen_test):\n",
    "    print(f'{i}\\r', end='')"
   ]
  },
  {
   "cell_type": "code",
   "execution_count": 157,
   "id": "222c7f1c-7f3e-40b4-9fb5-5b3ea340c3b0",
   "metadata": {},
   "outputs": [
    {
     "data": {
      "text/plain": [
       "(109, 227)"
      ]
     },
     "execution_count": 157,
     "metadata": {},
     "output_type": "execute_result"
    }
   ],
   "source": [
    "X_b.shape"
   ]
  },
  {
   "cell_type": "markdown",
   "id": "85941430-2534-4d7d-ba52-d934a31c1bf6",
   "metadata": {},
   "source": [
    "# Network Model"
   ]
  },
  {
   "cell_type": "code",
   "execution_count": 158,
   "id": "6bd5d1bf-4640-4cbc-acd3-72881ddcc07e",
   "metadata": {},
   "outputs": [],
   "source": [
    "from tensorflow.keras import Sequential\n",
    "from tensorflow.keras.layers import LSTM, Dense, Embedding, Bidirectional, Dropout, Activation, BatchNormalization, Conv1D, MaxPool1D, GlobalAveragePooling1D, Flatten\n",
    "from tensorflow.keras.callbacks import ModelCheckpoint,  EarlyStopping\n",
    "from tensorflow.keras.optimizers import Adam, RMSprop\n",
    "from tensorflow.keras import backend as K\n",
    "import tensorflow as tf\n",
    "from tensorflow.keras import layers as L\n"
   ]
  },
  {
   "cell_type": "code",
   "execution_count": 159,
   "id": "98aa4201-cd4e-4d7f-b695-9e32b5dfe1c6",
   "metadata": {},
   "outputs": [],
   "source": [
    "# Implementar modelo de TextCNN\n",
    "def text_cnn_1d_v1(sequence_length, vocab_size, embedding_size, filter_sizes, num_filters,dilation_rates):\n",
    "    # Recordar que estamos en la funcional model API y hay que entender que conectar con que.\n",
    "    input_x = L.Input(shape=(sequence_length,), name='input_x')\n",
    "    \n",
    "    embedding = Embedding(vocab_size +1, embedding_size, name='embedding')(input_x)\n",
    "    \n",
    "    pooled_outputs = []\n",
    "    \n",
    "    # Se puede setear distintos dilatation rates a usar en paralelo\n",
    "    for dil_rate in dilation_rates:\n",
    "        for filter_size in filter_sizes:\n",
    "            conv =  Conv1D(filters = num_filters, kernel_size=filter_size ,padding='same', dilation_rate = dil_rate, activation='relu')(embedding)\n",
    "            max_p = MaxPool1D(pool_size=2)(conv)\n",
    "            pooled_outputs.append(max_p)\n",
    "        \n",
    "    h_pool = L.Concatenate(axis=2)(pooled_outputs)\n",
    "    dense = L.Flatten()(h_pool)\n",
    "    dense = Dense(100, activation='relu')(dense)\n",
    "    dense = Dense(10, activation='relu')(dense)\n",
    "    dense = L.Dense(1)(dense) # Salida\n",
    "    model = tf.keras.models.Model(input_x, dense, name='text_cnn_v1')\n",
    "    return model"
   ]
  },
  {
   "cell_type": "code",
   "execution_count": 160,
   "id": "d3db729c-1a80-40ad-b3e5-59329b172ee0",
   "metadata": {},
   "outputs": [],
   "source": [
    "# Puede cambiar estos hiperparámtros. Son solo de referencia\n",
    "FILTER_SIZES = (3, 4, 5)\n",
    "NUM_FILTERS = 128\n",
    "vocab_size = len(smiles_dict)\n",
    "embeddings_size = 128 \n",
    "dilation_rates = [1, 2, 3]"
   ]
  },
  {
   "cell_type": "code",
   "execution_count": 161,
   "id": "0e0903a5-9840-4994-9964-8e2d3e9eb326",
   "metadata": {},
   "outputs": [
    {
     "name": "stdout",
     "output_type": "stream",
     "text": [
      "Model: \"text_cnn_v1\"\n",
      "__________________________________________________________________________________________________\n",
      "Layer (type)                    Output Shape         Param #     Connected to                     \n",
      "==================================================================================================\n",
      "input_x (InputLayer)            [(None, 227)]        0                                            \n",
      "__________________________________________________________________________________________________\n",
      "embedding (Embedding)           (None, 227, 128)     5504        input_x[0][0]                    \n",
      "__________________________________________________________________________________________________\n",
      "conv1d_18 (Conv1D)              (None, 227, 128)     49280       embedding[0][0]                  \n",
      "__________________________________________________________________________________________________\n",
      "conv1d_19 (Conv1D)              (None, 227, 128)     65664       embedding[0][0]                  \n",
      "__________________________________________________________________________________________________\n",
      "conv1d_20 (Conv1D)              (None, 227, 128)     82048       embedding[0][0]                  \n",
      "__________________________________________________________________________________________________\n",
      "conv1d_21 (Conv1D)              (None, 227, 128)     49280       embedding[0][0]                  \n",
      "__________________________________________________________________________________________________\n",
      "conv1d_22 (Conv1D)              (None, 227, 128)     65664       embedding[0][0]                  \n",
      "__________________________________________________________________________________________________\n",
      "conv1d_23 (Conv1D)              (None, 227, 128)     82048       embedding[0][0]                  \n",
      "__________________________________________________________________________________________________\n",
      "conv1d_24 (Conv1D)              (None, 227, 128)     49280       embedding[0][0]                  \n",
      "__________________________________________________________________________________________________\n",
      "conv1d_25 (Conv1D)              (None, 227, 128)     65664       embedding[0][0]                  \n",
      "__________________________________________________________________________________________________\n",
      "conv1d_26 (Conv1D)              (None, 227, 128)     82048       embedding[0][0]                  \n",
      "__________________________________________________________________________________________________\n",
      "max_pooling1d_18 (MaxPooling1D) (None, 113, 128)     0           conv1d_18[0][0]                  \n",
      "__________________________________________________________________________________________________\n",
      "max_pooling1d_19 (MaxPooling1D) (None, 113, 128)     0           conv1d_19[0][0]                  \n",
      "__________________________________________________________________________________________________\n",
      "max_pooling1d_20 (MaxPooling1D) (None, 113, 128)     0           conv1d_20[0][0]                  \n",
      "__________________________________________________________________________________________________\n",
      "max_pooling1d_21 (MaxPooling1D) (None, 113, 128)     0           conv1d_21[0][0]                  \n",
      "__________________________________________________________________________________________________\n",
      "max_pooling1d_22 (MaxPooling1D) (None, 113, 128)     0           conv1d_22[0][0]                  \n",
      "__________________________________________________________________________________________________\n",
      "max_pooling1d_23 (MaxPooling1D) (None, 113, 128)     0           conv1d_23[0][0]                  \n",
      "__________________________________________________________________________________________________\n",
      "max_pooling1d_24 (MaxPooling1D) (None, 113, 128)     0           conv1d_24[0][0]                  \n",
      "__________________________________________________________________________________________________\n",
      "max_pooling1d_25 (MaxPooling1D) (None, 113, 128)     0           conv1d_25[0][0]                  \n",
      "__________________________________________________________________________________________________\n",
      "max_pooling1d_26 (MaxPooling1D) (None, 113, 128)     0           conv1d_26[0][0]                  \n",
      "__________________________________________________________________________________________________\n",
      "concatenate_4 (Concatenate)     (None, 113, 1152)    0           max_pooling1d_18[0][0]           \n",
      "                                                                 max_pooling1d_19[0][0]           \n",
      "                                                                 max_pooling1d_20[0][0]           \n",
      "                                                                 max_pooling1d_21[0][0]           \n",
      "                                                                 max_pooling1d_22[0][0]           \n",
      "                                                                 max_pooling1d_23[0][0]           \n",
      "                                                                 max_pooling1d_24[0][0]           \n",
      "                                                                 max_pooling1d_25[0][0]           \n",
      "                                                                 max_pooling1d_26[0][0]           \n",
      "__________________________________________________________________________________________________\n",
      "flatten_4 (Flatten)             (None, 130176)       0           concatenate_4[0][0]              \n",
      "__________________________________________________________________________________________________\n",
      "dense_12 (Dense)                (None, 100)          13017700    flatten_4[0][0]                  \n",
      "__________________________________________________________________________________________________\n",
      "dense_13 (Dense)                (None, 10)           1010        dense_12[0][0]                   \n",
      "__________________________________________________________________________________________________\n",
      "dense_14 (Dense)                (None, 1)            11          dense_13[0][0]                   \n",
      "==================================================================================================\n",
      "Total params: 13,615,201\n",
      "Trainable params: 13,615,201\n",
      "Non-trainable params: 0\n",
      "__________________________________________________________________________________________________\n"
     ]
    }
   ],
   "source": [
    "model_1 = text_cnn_1d_v1(max_sequence_len, vocab_size, embeddings_size, FILTER_SIZES, NUM_FILTERS,dilation_rates)\n",
    "model_1.summary()"
   ]
  },
  {
   "cell_type": "code",
   "execution_count": 162,
   "id": "4bf115a2-9f1b-42b8-9b62-59728f1da977",
   "metadata": {},
   "outputs": [],
   "source": [
    "def R2(y_true, y_pred):\n",
    "    SS_res =  K.sum(K.square( y_true-y_pred ))\n",
    "    SS_tot = K.sum(K.square( y_true - K.mean(y_true) ) )\n",
    "    return ( 1 - SS_res/(SS_tot + K.epsilon()) )"
   ]
  },
  {
   "cell_type": "code",
   "execution_count": 163,
   "id": "9138b411-fc5d-41bd-8c8e-c12580cc5b14",
   "metadata": {},
   "outputs": [],
   "source": [
    "model_1.compile(optimizer=Adam(learning_rate=0.0001), loss='mse', metrics=[R2])"
   ]
  },
  {
   "cell_type": "code",
   "execution_count": 164,
   "id": "62c3f792-f413-4150-8ebf-1f59c5fb986d",
   "metadata": {},
   "outputs": [],
   "source": [
    "mcp = ModelCheckpoint('models/best_model_{epoch}', save_best_only=True, save_format=\"h5\")"
   ]
  },
  {
   "cell_type": "code",
   "execution_count": 165,
   "id": "7f051e34-9162-4285-9737-dd42b39272a1",
   "metadata": {},
   "outputs": [],
   "source": [
    "es = EarlyStopping(\n",
    "    monitor=\"val_loss\",\n",
    "    min_delta=0.01,\n",
    "    patience=10,\n",
    "    verbose=0,\n",
    "    mode=\"auto\",\n",
    "    baseline=None,\n",
    "    restore_best_weights=True)"
   ]
  },
  {
   "cell_type": "code",
   "execution_count": 167,
   "id": "3f37ab4e-0e3a-44c6-a572-ba5c67930c61",
   "metadata": {
    "tags": []
   },
   "outputs": [
    {
     "name": "stdout",
     "output_type": "stream",
     "text": [
      "Epoch 1/100\n",
      "36/36 - 26s - loss: 2.4283 - R2: 0.0744 - val_loss: 2.8303 - val_R2: 0.0547\n",
      "Epoch 2/100\n",
      "36/36 - 28s - loss: 2.3741 - R2: 0.0960 - val_loss: 2.7922 - val_R2: 0.0694\n",
      "Epoch 3/100\n",
      "36/36 - 27s - loss: 2.3025 - R2: 0.1223 - val_loss: 2.7222 - val_R2: 0.1012\n",
      "Epoch 4/100\n",
      "36/36 - 27s - loss: 2.2577 - R2: 0.1363 - val_loss: 2.6842 - val_R2: 0.1075\n",
      "Epoch 5/100\n",
      "36/36 - 28s - loss: 2.2057 - R2: 0.1568 - val_loss: 2.6342 - val_R2: 0.1307\n",
      "Epoch 6/100\n",
      "36/36 - 29s - loss: 2.1796 - R2: 0.1752 - val_loss: 2.5974 - val_R2: 0.1457\n",
      "Epoch 7/100\n",
      "36/36 - 27s - loss: 2.1472 - R2: 0.1783 - val_loss: 2.5708 - val_R2: 0.1474\n",
      "Epoch 8/100\n",
      "36/36 - 30s - loss: 2.1079 - R2: 0.2013 - val_loss: 2.5468 - val_R2: 0.1532\n",
      "Epoch 9/100\n",
      "36/36 - 31s - loss: 2.1024 - R2: 0.2030 - val_loss: 2.4974 - val_R2: 0.1722\n",
      "Epoch 10/100\n",
      "36/36 - 31s - loss: 2.0882 - R2: 0.2071 - val_loss: 2.4486 - val_R2: 0.1912\n",
      "Epoch 11/100\n",
      "36/36 - 34s - loss: 2.0602 - R2: 0.2131 - val_loss: 2.4547 - val_R2: 0.1964\n",
      "Epoch 12/100\n",
      "36/36 - 31s - loss: 2.0234 - R2: 0.2313 - val_loss: 2.4255 - val_R2: 0.1896\n",
      "Epoch 13/100\n",
      "36/36 - 31s - loss: 2.0003 - R2: 0.2359 - val_loss: 2.3674 - val_R2: 0.2193\n",
      "Epoch 14/100\n",
      "36/36 - 31s - loss: 1.9838 - R2: 0.2475 - val_loss: 2.3600 - val_R2: 0.2085\n",
      "Epoch 15/100\n",
      "36/36 - 30s - loss: 1.9591 - R2: 0.2570 - val_loss: 2.3467 - val_R2: 0.2207\n",
      "Epoch 16/100\n",
      "36/36 - 31s - loss: 1.9425 - R2: 0.2584 - val_loss: 2.3265 - val_R2: 0.2352\n",
      "Epoch 17/100\n",
      "36/36 - 37s - loss: 1.9162 - R2: 0.2768 - val_loss: 2.2866 - val_R2: 0.2487\n",
      "Epoch 18/100\n",
      "36/36 - 29s - loss: 1.9341 - R2: 0.2664 - val_loss: 2.3738 - val_R2: 0.2096\n",
      "Epoch 19/100\n",
      "36/36 - 29s - loss: 1.9146 - R2: 0.2735 - val_loss: 2.3001 - val_R2: 0.2497\n",
      "Epoch 20/100\n",
      "36/36 - 32s - loss: 1.8637 - R2: 0.2929 - val_loss: 2.2789 - val_R2: 0.2417\n",
      "Epoch 21/100\n",
      "36/36 - 32s - loss: 1.8767 - R2: 0.2930 - val_loss: 2.2480 - val_R2: 0.2475\n",
      "Epoch 22/100\n",
      "36/36 - 32s - loss: 1.8458 - R2: 0.2986 - val_loss: 2.2474 - val_R2: 0.2443\n",
      "Epoch 23/100\n",
      "36/36 - 32s - loss: 1.8450 - R2: 0.3011 - val_loss: 2.2243 - val_R2: 0.2541\n",
      "Epoch 24/100\n",
      "36/36 - 29s - loss: 1.8029 - R2: 0.3102 - val_loss: 2.1995 - val_R2: 0.2686\n",
      "Epoch 25/100\n",
      "36/36 - 31s - loss: 1.7915 - R2: 0.3222 - val_loss: 2.1988 - val_R2: 0.2613\n",
      "Epoch 26/100\n",
      "36/36 - 33s - loss: 1.7780 - R2: 0.3323 - val_loss: 2.1901 - val_R2: 0.2655\n",
      "Epoch 27/100\n",
      "36/36 - 41s - loss: 1.7821 - R2: 0.3193 - val_loss: 2.1630 - val_R2: 0.2760\n",
      "Epoch 28/100\n",
      "36/36 - 31s - loss: 1.7894 - R2: 0.3250 - val_loss: 2.1397 - val_R2: 0.2863\n",
      "Epoch 29/100\n",
      "36/36 - 33s - loss: 1.7576 - R2: 0.3343 - val_loss: 2.1369 - val_R2: 0.2795\n",
      "Epoch 30/100\n",
      "36/36 - 34s - loss: 1.7213 - R2: 0.3484 - val_loss: 2.1045 - val_R2: 0.2971\n",
      "Epoch 31/100\n",
      "36/36 - 30s - loss: 1.7220 - R2: 0.3445 - val_loss: 2.1358 - val_R2: 0.2825\n",
      "Epoch 32/100\n",
      "36/36 - 28s - loss: 1.7306 - R2: 0.3462 - val_loss: 2.0847 - val_R2: 0.3143\n",
      "Epoch 33/100\n",
      "36/36 - 31s - loss: 1.7040 - R2: 0.3506 - val_loss: 2.1172 - val_R2: 0.3014\n",
      "Epoch 34/100\n",
      "36/36 - 31s - loss: 1.7067 - R2: 0.3463 - val_loss: 2.0640 - val_R2: 0.3104\n",
      "Epoch 35/100\n",
      "36/36 - 30s - loss: 1.6818 - R2: 0.3630 - val_loss: 2.0497 - val_R2: 0.3196\n",
      "Epoch 36/100\n",
      "36/36 - 30s - loss: 1.6536 - R2: 0.3699 - val_loss: 2.0474 - val_R2: 0.3282\n",
      "Epoch 37/100\n",
      "36/36 - 30s - loss: 1.6549 - R2: 0.3664 - val_loss: 2.0396 - val_R2: 0.3209\n",
      "Epoch 38/100\n",
      "36/36 - 32s - loss: 1.6575 - R2: 0.3685 - val_loss: 2.0200 - val_R2: 0.3323\n",
      "Epoch 39/100\n",
      "36/36 - 32s - loss: 1.7038 - R2: 0.3442 - val_loss: 2.1221 - val_R2: 0.2958\n",
      "Epoch 40/100\n",
      "36/36 - 35s - loss: 1.6305 - R2: 0.3839 - val_loss: 2.0124 - val_R2: 0.3294\n",
      "Epoch 41/100\n",
      "36/36 - 30s - loss: 1.6442 - R2: 0.3722 - val_loss: 2.0015 - val_R2: 0.3324\n",
      "Epoch 42/100\n",
      "36/36 - 31s - loss: 1.6253 - R2: 0.3775 - val_loss: 2.0351 - val_R2: 0.3410\n",
      "Epoch 43/100\n",
      "36/36 - 32s - loss: 1.6294 - R2: 0.3822 - val_loss: 2.0096 - val_R2: 0.3399\n",
      "Epoch 44/100\n",
      "36/36 - 34s - loss: 1.6113 - R2: 0.3865 - val_loss: 2.0425 - val_R2: 0.3081\n",
      "Epoch 45/100\n",
      "36/36 - 29s - loss: 1.6122 - R2: 0.3847 - val_loss: 1.9539 - val_R2: 0.3550\n",
      "Epoch 46/100\n",
      "36/36 - 30s - loss: 1.5693 - R2: 0.4010 - val_loss: 1.9676 - val_R2: 0.3419\n",
      "Epoch 47/100\n",
      "36/36 - 30s - loss: 1.6155 - R2: 0.3868 - val_loss: 1.9535 - val_R2: 0.3568\n",
      "Epoch 48/100\n",
      "36/36 - 29s - loss: 1.5512 - R2: 0.4093 - val_loss: 1.9467 - val_R2: 0.3616\n",
      "Epoch 49/100\n",
      "36/36 - 31s - loss: 1.5685 - R2: 0.4047 - val_loss: 1.9417 - val_R2: 0.3719\n",
      "Epoch 50/100\n",
      "36/36 - 29s - loss: 1.5766 - R2: 0.4030 - val_loss: 2.0365 - val_R2: 0.3199\n",
      "Epoch 51/100\n",
      "36/36 - 31s - loss: 1.5681 - R2: 0.4038 - val_loss: 1.9594 - val_R2: 0.3501\n",
      "Epoch 52/100\n",
      "36/36 - 29s - loss: 1.5588 - R2: 0.4009 - val_loss: 1.9767 - val_R2: 0.3527\n",
      "Epoch 53/100\n",
      "36/36 - 29s - loss: 1.5482 - R2: 0.4069 - val_loss: 1.9149 - val_R2: 0.3732\n",
      "Epoch 54/100\n",
      "36/36 - 30s - loss: 1.5295 - R2: 0.4169 - val_loss: 1.9647 - val_R2: 0.3531\n",
      "Epoch 55/100\n",
      "36/36 - 33s - loss: 1.5333 - R2: 0.4173 - val_loss: 1.9012 - val_R2: 0.3734\n",
      "Epoch 56/100\n",
      "36/36 - 29s - loss: 1.5066 - R2: 0.4270 - val_loss: 1.8961 - val_R2: 0.3818\n",
      "Epoch 57/100\n",
      "36/36 - 29s - loss: 1.5263 - R2: 0.4249 - val_loss: 1.8904 - val_R2: 0.3686\n",
      "Epoch 58/100\n",
      "36/36 - 29s - loss: 1.5282 - R2: 0.4192 - val_loss: 1.8782 - val_R2: 0.3791\n",
      "Epoch 59/100\n",
      "36/36 - 29s - loss: 1.5059 - R2: 0.4262 - val_loss: 1.9011 - val_R2: 0.3784\n",
      "Epoch 60/100\n",
      "36/36 - 33s - loss: 1.4878 - R2: 0.4309 - val_loss: 1.8621 - val_R2: 0.3783\n",
      "Epoch 61/100\n",
      "36/36 - 30s - loss: 1.4977 - R2: 0.4322 - val_loss: 1.9201 - val_R2: 0.3662\n",
      "Epoch 62/100\n",
      "36/36 - 29s - loss: 1.4627 - R2: 0.4424 - val_loss: 1.8833 - val_R2: 0.3527\n",
      "Epoch 63/100\n",
      "36/36 - 30s - loss: 1.4835 - R2: 0.4376 - val_loss: 1.9304 - val_R2: 0.3651\n",
      "Epoch 64/100\n",
      "36/36 - 30s - loss: 1.5056 - R2: 0.4246 - val_loss: 1.8845 - val_R2: 0.3756\n",
      "Epoch 65/100\n",
      "36/36 - 29s - loss: 1.5060 - R2: 0.4292 - val_loss: 1.8502 - val_R2: 0.3869\n",
      "Epoch 66/100\n",
      "36/36 - 29s - loss: 1.4604 - R2: 0.4464 - val_loss: 1.8342 - val_R2: 0.3895\n",
      "Epoch 67/100\n",
      "36/36 - 29s - loss: 1.4598 - R2: 0.4464 - val_loss: 1.8383 - val_R2: 0.3938\n",
      "Epoch 68/100\n",
      "36/36 - 29s - loss: 1.4550 - R2: 0.4551 - val_loss: 1.8514 - val_R2: 0.3852\n",
      "Epoch 69/100\n",
      "36/36 - 29s - loss: 1.4327 - R2: 0.4491 - val_loss: 1.8443 - val_R2: 0.3819\n",
      "Epoch 70/100\n",
      "36/36 - 31s - loss: 1.4263 - R2: 0.4604 - val_loss: 1.8380 - val_R2: 0.3972\n",
      "Epoch 71/100\n",
      "36/36 - 29s - loss: 1.4621 - R2: 0.4457 - val_loss: 1.8994 - val_R2: 0.3739\n",
      "Epoch 72/100\n",
      "36/36 - 29s - loss: 1.4157 - R2: 0.4598 - val_loss: 1.8152 - val_R2: 0.4052\n",
      "Epoch 73/100\n",
      "36/36 - 29s - loss: 1.4138 - R2: 0.4666 - val_loss: 1.8514 - val_R2: 0.3881\n",
      "Epoch 74/100\n",
      "36/36 - 29s - loss: 1.4369 - R2: 0.4549 - val_loss: 1.8280 - val_R2: 0.4016\n",
      "Epoch 75/100\n",
      "36/36 - 29s - loss: 1.4406 - R2: 0.4562 - val_loss: 1.8267 - val_R2: 0.4074\n",
      "Epoch 76/100\n",
      "36/36 - 29s - loss: 1.4486 - R2: 0.4480 - val_loss: 1.8541 - val_R2: 0.3903\n",
      "Epoch 77/100\n",
      "36/36 - 29s - loss: 1.3886 - R2: 0.4710 - val_loss: 1.7948 - val_R2: 0.4011\n",
      "Epoch 78/100\n",
      "36/36 - 29s - loss: 1.3899 - R2: 0.4773 - val_loss: 1.8267 - val_R2: 0.3922\n",
      "Epoch 79/100\n",
      "36/36 - 29s - loss: 1.3659 - R2: 0.4770 - val_loss: 1.8706 - val_R2: 0.3778\n",
      "Epoch 80/100\n",
      "36/36 - 29s - loss: 1.4011 - R2: 0.4691 - val_loss: 1.8040 - val_R2: 0.3824\n",
      "Epoch 81/100\n",
      "36/36 - 31s - loss: 1.3875 - R2: 0.4715 - val_loss: 1.8059 - val_R2: 0.4127\n",
      "Epoch 82/100\n",
      "36/36 - 29s - loss: 1.3679 - R2: 0.4825 - val_loss: 1.8213 - val_R2: 0.3861\n",
      "Epoch 83/100\n",
      "36/36 - 29s - loss: 1.3680 - R2: 0.4825 - val_loss: 1.8017 - val_R2: 0.4081\n",
      "Epoch 84/100\n",
      "36/36 - 30s - loss: 1.3721 - R2: 0.4803 - val_loss: 1.7985 - val_R2: 0.4065\n",
      "Epoch 85/100\n",
      "36/36 - 29s - loss: 1.3463 - R2: 0.4893 - val_loss: 1.7740 - val_R2: 0.4132\n",
      "Epoch 86/100\n",
      "36/36 - 29s - loss: 1.3249 - R2: 0.4951 - val_loss: 1.7853 - val_R2: 0.4113\n",
      "Epoch 87/100\n",
      "36/36 - 29s - loss: 1.3343 - R2: 0.4950 - val_loss: 1.7536 - val_R2: 0.4110\n",
      "Epoch 88/100\n",
      "36/36 - 29s - loss: 1.3616 - R2: 0.4853 - val_loss: 1.7820 - val_R2: 0.4039\n",
      "Epoch 89/100\n",
      "36/36 - 29s - loss: 1.3422 - R2: 0.4854 - val_loss: 1.7411 - val_R2: 0.4242\n",
      "Epoch 90/100\n",
      "36/36 - 30s - loss: 1.3266 - R2: 0.4929 - val_loss: 1.7788 - val_R2: 0.4058\n",
      "Epoch 91/100\n",
      "36/36 - 31s - loss: 1.3790 - R2: 0.4766 - val_loss: 1.8189 - val_R2: 0.3852\n",
      "Epoch 92/100\n",
      "36/36 - 29s - loss: 1.3266 - R2: 0.4906 - val_loss: 1.7077 - val_R2: 0.4345\n",
      "Epoch 93/100\n",
      "36/36 - 29s - loss: 1.2977 - R2: 0.5061 - val_loss: 1.7177 - val_R2: 0.4266\n",
      "Epoch 94/100\n",
      "36/36 - 30s - loss: 1.2893 - R2: 0.5117 - val_loss: 1.7083 - val_R2: 0.4354\n",
      "Epoch 95/100\n",
      "36/36 - 29s - loss: 1.2852 - R2: 0.5052 - val_loss: 1.7034 - val_R2: 0.4163\n",
      "Epoch 96/100\n",
      "36/36 - 30s - loss: 1.3123 - R2: 0.5014 - val_loss: 1.7426 - val_R2: 0.4295\n",
      "Epoch 97/100\n",
      "36/36 - 29s - loss: 1.2963 - R2: 0.5051 - val_loss: 1.6798 - val_R2: 0.4425\n",
      "Epoch 98/100\n",
      "36/36 - 26s - loss: 1.2825 - R2: 0.5142 - val_loss: 1.7056 - val_R2: 0.4478\n",
      "Epoch 99/100\n",
      "36/36 - 29s - loss: 1.2965 - R2: 0.5038 - val_loss: 1.7328 - val_R2: 0.4260\n",
      "Epoch 100/100\n",
      "36/36 - 30s - loss: 1.2864 - R2: 0.5093 - val_loss: 1.6722 - val_R2: 0.4450\n"
     ]
    }
   ],
   "source": [
    "history = model_1.fit(dgen_train, epochs=500, validation_data=dgen_test,verbose=2,callbacks=[es])"
   ]
  },
  {
   "cell_type": "code",
   "execution_count": 174,
   "id": "1160a61e",
   "metadata": {},
   "outputs": [
    {
     "name": "stdout",
     "output_type": "stream",
     "text": [
      "Epoch 1/200\n",
      "36/36 - 27s - loss: 1.2686 - R2: 0.5185 - val_loss: 1.7753 - val_R2: 0.3947\n",
      "Epoch 2/200\n",
      "36/36 - 27s - loss: 1.2892 - R2: 0.5123 - val_loss: 1.7063 - val_R2: 0.4343\n",
      "Epoch 3/200\n",
      "36/36 - 27s - loss: 1.2594 - R2: 0.5235 - val_loss: 1.6660 - val_R2: 0.4549\n",
      "Epoch 4/200\n",
      "36/36 - 31s - loss: 1.2679 - R2: 0.5140 - val_loss: 1.6798 - val_R2: 0.4430\n",
      "Epoch 5/200\n",
      "36/36 - 27s - loss: 1.3013 - R2: 0.5048 - val_loss: 1.7550 - val_R2: 0.4217\n",
      "Epoch 6/200\n",
      "36/36 - 24s - loss: 1.2650 - R2: 0.5199 - val_loss: 1.7044 - val_R2: 0.4376\n",
      "Epoch 7/200\n",
      "36/36 - 24s - loss: 1.2533 - R2: 0.5259 - val_loss: 1.7013 - val_R2: 0.4405\n",
      "Epoch 8/200\n",
      "36/36 - 29s - loss: 1.2525 - R2: 0.5294 - val_loss: 1.6444 - val_R2: 0.4514\n",
      "Epoch 9/200\n",
      "36/36 - 30s - loss: 1.2868 - R2: 0.5101 - val_loss: 1.6821 - val_R2: 0.4501\n",
      "Epoch 10/200\n",
      "36/36 - 30s - loss: 1.2448 - R2: 0.5259 - val_loss: 1.6305 - val_R2: 0.4466\n",
      "Epoch 11/200\n",
      "36/36 - 27s - loss: 1.2188 - R2: 0.5351 - val_loss: 1.6386 - val_R2: 0.4625\n",
      "Epoch 12/200\n",
      "36/36 - 25s - loss: 1.2668 - R2: 0.5158 - val_loss: 1.6563 - val_R2: 0.4544\n",
      "Epoch 13/200\n",
      "36/36 - 24s - loss: 1.2252 - R2: 0.5368 - val_loss: 1.6344 - val_R2: 0.4566\n",
      "Epoch 14/200\n",
      "36/36 - 23s - loss: 1.2416 - R2: 0.5277 - val_loss: 1.6589 - val_R2: 0.4510\n",
      "Epoch 15/200\n",
      "36/36 - 23s - loss: 1.2373 - R2: 0.5283 - val_loss: 1.6482 - val_R2: 0.4530\n",
      "Epoch 16/200\n",
      "36/36 - 23s - loss: 1.2184 - R2: 0.5350 - val_loss: 1.6193 - val_R2: 0.4589\n",
      "Epoch 17/200\n",
      "36/36 - 24s - loss: 1.2270 - R2: 0.5372 - val_loss: 1.5963 - val_R2: 0.4714\n",
      "Epoch 18/200\n",
      "36/36 - 26s - loss: 1.2068 - R2: 0.5411 - val_loss: 1.6021 - val_R2: 0.4705\n",
      "Epoch 19/200\n",
      "36/36 - 25s - loss: 1.1758 - R2: 0.5555 - val_loss: 1.6227 - val_R2: 0.4600\n",
      "Epoch 20/200\n",
      "36/36 - 27s - loss: 1.1901 - R2: 0.5503 - val_loss: 1.6647 - val_R2: 0.4491\n",
      "Epoch 21/200\n",
      "36/36 - 26s - loss: 1.2066 - R2: 0.5438 - val_loss: 1.6102 - val_R2: 0.4638\n",
      "Epoch 22/200\n",
      "36/36 - 25s - loss: 1.1756 - R2: 0.5549 - val_loss: 1.5769 - val_R2: 0.4691\n",
      "Epoch 23/200\n",
      "36/36 - 25s - loss: 1.2567 - R2: 0.5224 - val_loss: 1.5960 - val_R2: 0.4691\n",
      "Epoch 24/200\n",
      "36/36 - 25s - loss: 1.2084 - R2: 0.5395 - val_loss: 1.5826 - val_R2: 0.4742\n",
      "Epoch 25/200\n",
      "36/36 - 25s - loss: 1.2111 - R2: 0.5408 - val_loss: 1.5839 - val_R2: 0.4698\n",
      "Epoch 26/200\n",
      "36/36 - 26s - loss: 1.1624 - R2: 0.5564 - val_loss: 1.5844 - val_R2: 0.4745\n",
      "Epoch 27/200\n",
      "36/36 - 32s - loss: 1.1633 - R2: 0.5563 - val_loss: 1.5758 - val_R2: 0.4743\n",
      "Epoch 28/200\n",
      "36/36 - 34s - loss: 1.2151 - R2: 0.5426 - val_loss: 1.5904 - val_R2: 0.4691\n",
      "Epoch 29/200\n",
      "36/36 - 31s - loss: 1.1725 - R2: 0.5555 - val_loss: 1.5739 - val_R2: 0.4798\n",
      "Epoch 30/200\n",
      "36/36 - 31s - loss: 1.1883 - R2: 0.5497 - val_loss: 1.7239 - val_R2: 0.4255\n",
      "Epoch 31/200\n",
      "36/36 - 33s - loss: 1.1573 - R2: 0.5565 - val_loss: 1.5276 - val_R2: 0.4951\n",
      "Epoch 32/200\n",
      "36/36 - 33s - loss: 1.1552 - R2: 0.5612 - val_loss: 1.5914 - val_R2: 0.4635\n",
      "Epoch 33/200\n",
      "36/36 - 30s - loss: 1.1477 - R2: 0.5618 - val_loss: 1.5277 - val_R2: 0.4930\n",
      "Epoch 34/200\n",
      "36/36 - 32s - loss: 1.1640 - R2: 0.5520 - val_loss: 1.6041 - val_R2: 0.4536\n",
      "Epoch 35/200\n",
      "36/36 - 29s - loss: 1.1420 - R2: 0.5634 - val_loss: 1.5481 - val_R2: 0.4811\n",
      "Epoch 36/200\n",
      "36/36 - 27s - loss: 1.1542 - R2: 0.5599 - val_loss: 1.6011 - val_R2: 0.4677\n",
      "Epoch 37/200\n",
      "36/36 - 30s - loss: 1.1486 - R2: 0.5618 - val_loss: 1.5769 - val_R2: 0.4750\n",
      "Epoch 38/200\n",
      "36/36 - 31s - loss: 1.1508 - R2: 0.5500 - val_loss: 1.5456 - val_R2: 0.4739\n",
      "Epoch 39/200\n",
      "36/36 - 29s - loss: 1.1436 - R2: 0.5606 - val_loss: 1.6278 - val_R2: 0.4617\n",
      "Epoch 40/200\n",
      "36/36 - 30s - loss: 1.1449 - R2: 0.5681 - val_loss: 1.5448 - val_R2: 0.4737\n",
      "Epoch 41/200\n",
      "36/36 - 31s - loss: 1.1405 - R2: 0.5676 - val_loss: 1.5208 - val_R2: 0.4841\n",
      "Epoch 42/200\n",
      "36/36 - 25s - loss: 1.1203 - R2: 0.5775 - val_loss: 1.4889 - val_R2: 0.4961\n",
      "Epoch 43/200\n",
      "36/36 - 26s - loss: 1.1130 - R2: 0.5799 - val_loss: 1.5738 - val_R2: 0.4737\n",
      "Epoch 44/200\n",
      "36/36 - 28s - loss: 1.1340 - R2: 0.5720 - val_loss: 1.4819 - val_R2: 0.5008\n",
      "Epoch 45/200\n",
      "36/36 - 30s - loss: 1.0815 - R2: 0.5882 - val_loss: 1.5484 - val_R2: 0.4879\n",
      "Epoch 46/200\n",
      "36/36 - 30s - loss: 1.1000 - R2: 0.5867 - val_loss: 1.4875 - val_R2: 0.4972\n",
      "Epoch 47/200\n",
      "36/36 - 27s - loss: 1.1190 - R2: 0.5758 - val_loss: 1.4968 - val_R2: 0.4976\n",
      "Epoch 48/200\n",
      "36/36 - 29s - loss: 1.1028 - R2: 0.5839 - val_loss: 1.4883 - val_R2: 0.5089\n",
      "Epoch 49/200\n",
      "36/36 - 32s - loss: 1.1233 - R2: 0.5707 - val_loss: 1.5491 - val_R2: 0.4657\n",
      "Epoch 50/200\n",
      "36/36 - 32s - loss: 1.0777 - R2: 0.5918 - val_loss: 1.4901 - val_R2: 0.4975\n",
      "Epoch 51/200\n",
      "36/36 - 29s - loss: 1.1194 - R2: 0.5697 - val_loss: 1.4937 - val_R2: 0.5015\n",
      "Epoch 52/200\n",
      "36/36 - 30s - loss: 1.0690 - R2: 0.5933 - val_loss: 1.4766 - val_R2: 0.5065\n",
      "Epoch 53/200\n",
      "36/36 - 29s - loss: 1.0818 - R2: 0.5847 - val_loss: 1.4534 - val_R2: 0.5114\n",
      "Epoch 54/200\n",
      "36/36 - 30s - loss: 1.1340 - R2: 0.5704 - val_loss: 1.5321 - val_R2: 0.4786\n",
      "Epoch 55/200\n",
      "36/36 - 31s - loss: 1.0800 - R2: 0.5908 - val_loss: 1.5012 - val_R2: 0.4921\n",
      "Epoch 56/200\n",
      "36/36 - 31s - loss: 1.0765 - R2: 0.5889 - val_loss: 1.4900 - val_R2: 0.4923\n",
      "Epoch 57/200\n",
      "36/36 - 42s - loss: 1.0785 - R2: 0.5967 - val_loss: 1.4453 - val_R2: 0.5212\n",
      "Epoch 58/200\n",
      "36/36 - 41s - loss: 1.1105 - R2: 0.5800 - val_loss: 1.6336 - val_R2: 0.4637\n",
      "Epoch 59/200\n",
      "36/36 - 28s - loss: 1.1071 - R2: 0.5784 - val_loss: 1.4469 - val_R2: 0.5129\n",
      "Epoch 60/200\n",
      "36/36 - 30s - loss: 1.0797 - R2: 0.5868 - val_loss: 1.4363 - val_R2: 0.5166\n",
      "Epoch 61/200\n",
      "36/36 - 31s - loss: 1.0756 - R2: 0.5924 - val_loss: 1.4605 - val_R2: 0.4970\n",
      "Epoch 62/200\n",
      "36/36 - 28s - loss: 1.0825 - R2: 0.5916 - val_loss: 1.4480 - val_R2: 0.5142\n",
      "Epoch 63/200\n",
      "36/36 - 29s - loss: 1.0621 - R2: 0.5999 - val_loss: 1.4236 - val_R2: 0.5138\n",
      "Epoch 64/200\n",
      "36/36 - 28s - loss: 1.0490 - R2: 0.6005 - val_loss: 1.4174 - val_R2: 0.5259\n",
      "Epoch 65/200\n",
      "36/36 - 30s - loss: 1.0727 - R2: 0.5917 - val_loss: 1.4082 - val_R2: 0.5223\n",
      "Epoch 66/200\n",
      "36/36 - 32s - loss: 1.0578 - R2: 0.6001 - val_loss: 1.4137 - val_R2: 0.5374\n",
      "Epoch 67/200\n",
      "36/36 - 31s - loss: 1.0333 - R2: 0.6066 - val_loss: 1.4165 - val_R2: 0.5272\n",
      "Epoch 68/200\n",
      "36/36 - 32s - loss: 1.0204 - R2: 0.6149 - val_loss: 1.4741 - val_R2: 0.4964\n",
      "Epoch 69/200\n",
      "36/36 - 29s - loss: 1.0239 - R2: 0.6096 - val_loss: 1.4898 - val_R2: 0.5109\n",
      "Epoch 70/200\n",
      "36/36 - 29s - loss: 1.0605 - R2: 0.5957 - val_loss: 1.4070 - val_R2: 0.5315\n",
      "Epoch 71/200\n",
      "36/36 - 32s - loss: 1.0295 - R2: 0.6081 - val_loss: 1.4085 - val_R2: 0.5149\n",
      "Epoch 72/200\n",
      "36/36 - 34s - loss: 1.0238 - R2: 0.6157 - val_loss: 1.3752 - val_R2: 0.5531\n",
      "Epoch 73/200\n",
      "36/36 - 31s - loss: 1.0231 - R2: 0.6164 - val_loss: 1.3808 - val_R2: 0.5444\n",
      "Epoch 74/200\n",
      "36/36 - 34s - loss: 1.0302 - R2: 0.6101 - val_loss: 1.3775 - val_R2: 0.5392\n",
      "Epoch 75/200\n",
      "36/36 - 30s - loss: 1.0306 - R2: 0.6095 - val_loss: 1.3982 - val_R2: 0.5382\n",
      "Epoch 76/200\n",
      "36/36 - 33s - loss: 1.0270 - R2: 0.6099 - val_loss: 1.4193 - val_R2: 0.5326\n",
      "Epoch 77/200\n",
      "36/36 - 30s - loss: 1.0234 - R2: 0.6107 - val_loss: 1.3847 - val_R2: 0.5318\n",
      "Epoch 78/200\n",
      "36/36 - 29s - loss: 0.9998 - R2: 0.6263 - val_loss: 1.4225 - val_R2: 0.5308\n",
      "Epoch 79/200\n",
      "36/36 - 34s - loss: 1.0050 - R2: 0.6185 - val_loss: 1.3607 - val_R2: 0.5413\n",
      "Epoch 80/200\n",
      "36/36 - 38s - loss: 1.0354 - R2: 0.6010 - val_loss: 1.3705 - val_R2: 0.5377\n",
      "Epoch 81/200\n",
      "36/36 - 32s - loss: 1.0352 - R2: 0.6047 - val_loss: 1.4097 - val_R2: 0.5270\n",
      "Epoch 82/200\n",
      "36/36 - 29s - loss: 1.0402 - R2: 0.6001 - val_loss: 1.4244 - val_R2: 0.5241\n",
      "Epoch 83/200\n",
      "36/36 - 29s - loss: 1.0229 - R2: 0.6135 - val_loss: 1.3515 - val_R2: 0.5434\n",
      "Epoch 84/200\n",
      "36/36 - 28s - loss: 0.9933 - R2: 0.6161 - val_loss: 1.3824 - val_R2: 0.5346\n",
      "Epoch 85/200\n",
      "36/36 - 33s - loss: 0.9860 - R2: 0.6247 - val_loss: 1.3705 - val_R2: 0.5451\n",
      "Epoch 86/200\n",
      "36/36 - 29s - loss: 0.9766 - R2: 0.6256 - val_loss: 1.4052 - val_R2: 0.5341\n",
      "Epoch 87/200\n",
      "36/36 - 28s - loss: 1.0208 - R2: 0.6121 - val_loss: 1.3826 - val_R2: 0.5448\n",
      "Epoch 88/200\n",
      "36/36 - 28s - loss: 0.9926 - R2: 0.6234 - val_loss: 1.3508 - val_R2: 0.5451\n",
      "Epoch 89/200\n",
      "36/36 - 28s - loss: 1.0099 - R2: 0.6179 - val_loss: 1.3648 - val_R2: 0.5460\n",
      "Epoch 90/200\n",
      "36/36 - 29s - loss: 0.9717 - R2: 0.6321 - val_loss: 1.3540 - val_R2: 0.5271\n",
      "Epoch 91/200\n",
      "36/36 - 30s - loss: 1.0543 - R2: 0.5945 - val_loss: 1.3534 - val_R2: 0.5372\n",
      "Epoch 92/200\n",
      "36/36 - 30s - loss: 1.0067 - R2: 0.6158 - val_loss: 1.3496 - val_R2: 0.5439\n",
      "Epoch 93/200\n",
      "36/36 - 29s - loss: 0.9922 - R2: 0.6206 - val_loss: 1.3362 - val_R2: 0.5584\n",
      "Epoch 94/200\n",
      "36/36 - 27s - loss: 1.0162 - R2: 0.6099 - val_loss: 1.3577 - val_R2: 0.5435\n",
      "Epoch 95/200\n",
      "36/36 - 27s - loss: 1.0027 - R2: 0.6210 - val_loss: 1.3495 - val_R2: 0.5476\n",
      "Epoch 96/200\n",
      "36/36 - 26s - loss: 0.9606 - R2: 0.6360 - val_loss: 1.3203 - val_R2: 0.5654\n",
      "Epoch 97/200\n",
      "36/36 - 26s - loss: 0.9870 - R2: 0.6260 - val_loss: 1.3373 - val_R2: 0.5451\n",
      "Epoch 98/200\n",
      "36/36 - 26s - loss: 0.9940 - R2: 0.6247 - val_loss: 1.3636 - val_R2: 0.5374\n",
      "Epoch 99/200\n",
      "36/36 - 26s - loss: 0.9704 - R2: 0.6348 - val_loss: 1.3303 - val_R2: 0.5555\n",
      "Epoch 100/200\n",
      "36/36 - 26s - loss: 0.9870 - R2: 0.6284 - val_loss: 1.3403 - val_R2: 0.5591\n",
      "Epoch 101/200\n",
      "36/36 - 26s - loss: 0.9555 - R2: 0.6335 - val_loss: 1.3139 - val_R2: 0.5608\n",
      "Epoch 102/200\n",
      "36/36 - 28s - loss: 0.9682 - R2: 0.6299 - val_loss: 1.3437 - val_R2: 0.5548\n",
      "Epoch 103/200\n",
      "36/36 - 26s - loss: 0.9747 - R2: 0.6300 - val_loss: 1.3264 - val_R2: 0.5580\n",
      "Epoch 104/200\n",
      "36/36 - 26s - loss: 0.9954 - R2: 0.6233 - val_loss: 1.3257 - val_R2: 0.5600\n",
      "Epoch 105/200\n",
      "36/36 - 28s - loss: 0.9538 - R2: 0.6394 - val_loss: 1.3163 - val_R2: 0.5521\n",
      "Epoch 106/200\n",
      "36/36 - 28s - loss: 1.0304 - R2: 0.6034 - val_loss: 1.5004 - val_R2: 0.4867\n",
      "Epoch 107/200\n",
      "36/36 - 29s - loss: 0.9389 - R2: 0.6477 - val_loss: 1.3355 - val_R2: 0.5533\n",
      "Epoch 108/200\n",
      "36/36 - 31s - loss: 0.9276 - R2: 0.6441 - val_loss: 1.2901 - val_R2: 0.5712\n",
      "Epoch 109/200\n",
      "36/36 - 35s - loss: 0.9783 - R2: 0.6272 - val_loss: 1.3264 - val_R2: 0.5441\n",
      "Epoch 110/200\n",
      "36/36 - 35s - loss: 0.9732 - R2: 0.6335 - val_loss: 1.3170 - val_R2: 0.5525\n",
      "Epoch 111/200\n",
      "36/36 - 36s - loss: 0.9431 - R2: 0.6435 - val_loss: 1.2940 - val_R2: 0.5629\n",
      "Epoch 112/200\n",
      "36/36 - 36s - loss: 0.9387 - R2: 0.6468 - val_loss: 1.3122 - val_R2: 0.5537\n",
      "Epoch 113/200\n",
      "36/36 - 36s - loss: 0.9523 - R2: 0.6411 - val_loss: 1.3251 - val_R2: 0.5525\n",
      "Epoch 114/200\n",
      "36/36 - 33s - loss: 0.9807 - R2: 0.6250 - val_loss: 1.2743 - val_R2: 0.5725\n",
      "Epoch 115/200\n",
      "36/36 - 36s - loss: 0.9224 - R2: 0.6480 - val_loss: 1.2705 - val_R2: 0.5630\n",
      "Epoch 116/200\n",
      "36/36 - 41s - loss: 0.9221 - R2: 0.6467 - val_loss: 1.2848 - val_R2: 0.5587\n",
      "Epoch 117/200\n",
      "36/36 - 37s - loss: 0.9368 - R2: 0.6481 - val_loss: 1.2784 - val_R2: 0.5614\n",
      "Epoch 118/200\n",
      "36/36 - 34s - loss: 0.9475 - R2: 0.6422 - val_loss: 1.2583 - val_R2: 0.5805\n",
      "Epoch 119/200\n",
      "36/36 - 53s - loss: 0.9705 - R2: 0.6351 - val_loss: 1.2543 - val_R2: 0.5861\n",
      "Epoch 120/200\n",
      "36/36 - 33s - loss: 0.9434 - R2: 0.6377 - val_loss: 1.2954 - val_R2: 0.5559\n",
      "Epoch 121/200\n",
      "36/36 - 41s - loss: 0.9581 - R2: 0.6376 - val_loss: 1.2555 - val_R2: 0.5769\n",
      "Epoch 122/200\n",
      "36/36 - 29s - loss: 0.9250 - R2: 0.6517 - val_loss: 1.2605 - val_R2: 0.5782\n",
      "Epoch 123/200\n",
      "36/36 - 31s - loss: 0.9007 - R2: 0.6587 - val_loss: 1.2604 - val_R2: 0.5732\n",
      "Epoch 124/200\n",
      "36/36 - 32s - loss: 0.9159 - R2: 0.6537 - val_loss: 1.2526 - val_R2: 0.5722\n",
      "Epoch 125/200\n",
      "36/36 - 28s - loss: 0.9058 - R2: 0.6539 - val_loss: 1.2576 - val_R2: 0.5737\n",
      "Epoch 126/200\n",
      "36/36 - 32s - loss: 0.9049 - R2: 0.6570 - val_loss: 1.4034 - val_R2: 0.5237\n",
      "Epoch 127/200\n",
      "36/36 - 27s - loss: 0.9175 - R2: 0.6525 - val_loss: 1.2408 - val_R2: 0.5850\n",
      "Epoch 128/200\n",
      "36/36 - 27s - loss: 0.9022 - R2: 0.6553 - val_loss: 1.2300 - val_R2: 0.5894\n",
      "Epoch 129/200\n",
      "36/36 - 28s - loss: 0.9227 - R2: 0.6425 - val_loss: 1.3274 - val_R2: 0.5533\n",
      "Epoch 130/200\n",
      "36/36 - 33s - loss: 0.9065 - R2: 0.6578 - val_loss: 1.2742 - val_R2: 0.5766\n",
      "Epoch 131/200\n",
      "36/36 - 30s - loss: 0.9507 - R2: 0.6347 - val_loss: 1.2818 - val_R2: 0.5707\n",
      "Epoch 132/200\n",
      "36/36 - 29s - loss: 0.9292 - R2: 0.6467 - val_loss: 1.2536 - val_R2: 0.5826\n",
      "Epoch 133/200\n",
      "36/36 - 28s - loss: 0.8998 - R2: 0.6576 - val_loss: 1.2176 - val_R2: 0.5965\n",
      "Epoch 134/200\n",
      "36/36 - 33s - loss: 0.9251 - R2: 0.6553 - val_loss: 1.2135 - val_R2: 0.5883\n",
      "Epoch 135/200\n",
      "36/36 - 28s - loss: 0.9296 - R2: 0.6483 - val_loss: 1.2146 - val_R2: 0.5900\n",
      "Epoch 136/200\n",
      "36/36 - 32s - loss: 0.8856 - R2: 0.6647 - val_loss: 1.2480 - val_R2: 0.5851\n",
      "Epoch 137/200\n",
      "36/36 - 29s - loss: 0.8991 - R2: 0.6588 - val_loss: 1.2215 - val_R2: 0.5995\n",
      "Epoch 138/200\n",
      "36/36 - 28s - loss: 0.9191 - R2: 0.6510 - val_loss: 1.2288 - val_R2: 0.5904\n",
      "Epoch 139/200\n",
      "36/36 - 29s - loss: 0.9158 - R2: 0.6529 - val_loss: 1.1985 - val_R2: 0.5969\n",
      "Epoch 140/200\n",
      "36/36 - 29s - loss: 0.9087 - R2: 0.6537 - val_loss: 1.2255 - val_R2: 0.5874\n",
      "Epoch 141/200\n",
      "36/36 - 30s - loss: 0.8845 - R2: 0.6602 - val_loss: 1.2246 - val_R2: 0.5809\n",
      "Epoch 142/200\n",
      "36/36 - 31s - loss: 0.8850 - R2: 0.6597 - val_loss: 1.1940 - val_R2: 0.6010\n",
      "Epoch 143/200\n",
      "36/36 - 29s - loss: 0.8975 - R2: 0.6490 - val_loss: 1.2468 - val_R2: 0.5778\n",
      "Epoch 144/200\n",
      "36/36 - 28s - loss: 0.8882 - R2: 0.6603 - val_loss: 1.3046 - val_R2: 0.5593\n",
      "Epoch 145/200\n",
      "36/36 - 29s - loss: 0.8827 - R2: 0.6634 - val_loss: 1.1965 - val_R2: 0.5999\n",
      "Epoch 146/200\n",
      "36/36 - 30s - loss: 0.8762 - R2: 0.6677 - val_loss: 1.2279 - val_R2: 0.5765\n",
      "Epoch 147/200\n",
      "36/36 - 27s - loss: 0.8506 - R2: 0.6754 - val_loss: 1.2164 - val_R2: 0.5907\n",
      "Epoch 148/200\n",
      "36/36 - 28s - loss: 0.8811 - R2: 0.6663 - val_loss: 1.2071 - val_R2: 0.5906\n",
      "Epoch 149/200\n",
      "36/36 - 35s - loss: 0.8677 - R2: 0.6654 - val_loss: 1.1901 - val_R2: 0.6073\n",
      "Epoch 150/200\n",
      "36/36 - 29s - loss: 0.8831 - R2: 0.6646 - val_loss: 1.1805 - val_R2: 0.6063\n",
      "Epoch 151/200\n",
      "36/36 - 31s - loss: 0.8711 - R2: 0.6707 - val_loss: 1.2016 - val_R2: 0.5815\n",
      "Epoch 152/200\n",
      "36/36 - 33s - loss: 0.8637 - R2: 0.6748 - val_loss: 1.1911 - val_R2: 0.5904\n",
      "Epoch 153/200\n",
      "36/36 - 30s - loss: 0.8870 - R2: 0.6576 - val_loss: 1.1848 - val_R2: 0.6000\n",
      "Epoch 154/200\n",
      "36/36 - 30s - loss: 0.8934 - R2: 0.6603 - val_loss: 1.1795 - val_R2: 0.6038\n",
      "Epoch 155/200\n",
      "36/36 - 29s - loss: 0.8964 - R2: 0.6604 - val_loss: 1.5059 - val_R2: 0.4905\n",
      "Epoch 156/200\n",
      "36/36 - 28s - loss: 0.9375 - R2: 0.6417 - val_loss: 1.2587 - val_R2: 0.5784\n",
      "Epoch 157/200\n",
      "36/36 - 28s - loss: 0.8644 - R2: 0.6734 - val_loss: 1.1916 - val_R2: 0.6004\n",
      "Epoch 158/200\n",
      "36/36 - 29s - loss: 0.8347 - R2: 0.6738 - val_loss: 1.1918 - val_R2: 0.6016\n",
      "Epoch 159/200\n",
      "36/36 - 33s - loss: 0.8673 - R2: 0.6713 - val_loss: 1.2019 - val_R2: 0.6021\n",
      "Epoch 160/200\n",
      "36/36 - 39s - loss: 0.8354 - R2: 0.6830 - val_loss: 1.2041 - val_R2: 0.5823\n",
      "Epoch 161/200\n",
      "36/36 - 36s - loss: 0.8356 - R2: 0.6814 - val_loss: 1.2205 - val_R2: 0.5814\n",
      "Epoch 162/200\n",
      "36/36 - 28s - loss: 0.8636 - R2: 0.6706 - val_loss: 1.1980 - val_R2: 0.5942\n",
      "Epoch 163/200\n",
      "36/36 - 34s - loss: 0.9128 - R2: 0.6482 - val_loss: 1.2201 - val_R2: 0.5902\n",
      "Epoch 164/200\n",
      "36/36 - 47s - loss: 0.8740 - R2: 0.6682 - val_loss: 1.2108 - val_R2: 0.5931\n"
     ]
    }
   ],
   "source": [
    "history = model_1.fit(dgen_train, epochs=200, validation_data=dgen_test,verbose=2,callbacks=[es])"
   ]
  },
  {
   "cell_type": "code",
   "execution_count": 175,
   "id": "a0242588-eede-4e85-8b83-f207ea8ab757",
   "metadata": {},
   "outputs": [],
   "source": [
    "X_test_eval = []\n",
    "y_t_eval = []\n",
    "for X_t, y_t in dgen_test:\n",
    "    X_test_eval = X_test_eval + [list(t) for t in X_t]\n",
    "    y_t_eval = y_t_eval + list(y_t)\n",
    "X_test_eval = np.array(X_test_eval)\n",
    "y_test = np.array(y_t_eval)"
   ]
  },
  {
   "cell_type": "code",
   "execution_count": 176,
   "id": "a1437cbf-fe44-4999-a44b-05cea765f22b",
   "metadata": {},
   "outputs": [
    {
     "data": {
      "text/plain": [
       "((1133, 227), (1133,))"
      ]
     },
     "execution_count": 176,
     "metadata": {},
     "output_type": "execute_result"
    }
   ],
   "source": [
    "X_test_eval.shape, y_test.shape"
   ]
  },
  {
   "cell_type": "code",
   "execution_count": 177,
   "id": "0084fbb1-e83e-4808-99bf-1458f3ea3076",
   "metadata": {},
   "outputs": [],
   "source": [
    "y_pred = model_1.predict(X_test_eval)"
   ]
  },
  {
   "cell_type": "markdown",
   "id": "382979a3-f299-4762-8b6d-10a6ea4d3c70",
   "metadata": {},
   "source": [
    "# Score"
   ]
  },
  {
   "cell_type": "code",
   "execution_count": 178,
   "id": "f9fd5d60-841f-46c3-94b6-5755b4d548cd",
   "metadata": {},
   "outputs": [
    {
     "data": {
      "text/plain": [
       "0.607300306702104"
      ]
     },
     "execution_count": 178,
     "metadata": {},
     "output_type": "execute_result"
    }
   ],
   "source": [
    "r2 = 1 - ((y_test - y_pred.reshape(-1)) ** 2).sum() / ((y_test - y_test.mean()) ** 2).sum()\n",
    "r2"
   ]
  },
  {
   "cell_type": "code",
   "execution_count": 179,
   "id": "85262541-e04a-4ff2-b3e6-a47643db66f6",
   "metadata": {},
   "outputs": [],
   "source": [
    "filename = 'models/embed_128_text_cnn_aug_100x100_0.0001.h5'\n",
    "model_1.save(filename)"
   ]
  },
  {
   "cell_type": "code",
   "execution_count": 180,
   "id": "67cf753c-a7f6-4b8a-abe3-3253986cc53a",
   "metadata": {},
   "outputs": [
    {
     "name": "stdout",
     "output_type": "stream",
     "text": [
      "Model: \"text_cnn_v1\"\n",
      "__________________________________________________________________________________________________\n",
      "Layer (type)                    Output Shape         Param #     Connected to                     \n",
      "==================================================================================================\n",
      "input_x (InputLayer)            [(None, 227)]        0                                            \n",
      "__________________________________________________________________________________________________\n",
      "embedding (Embedding)           (None, 227, 128)     5504        input_x[0][0]                    \n",
      "__________________________________________________________________________________________________\n",
      "conv1d_18 (Conv1D)              (None, 227, 128)     49280       embedding[0][0]                  \n",
      "__________________________________________________________________________________________________\n",
      "conv1d_19 (Conv1D)              (None, 227, 128)     65664       embedding[0][0]                  \n",
      "__________________________________________________________________________________________________\n",
      "conv1d_20 (Conv1D)              (None, 227, 128)     82048       embedding[0][0]                  \n",
      "__________________________________________________________________________________________________\n",
      "conv1d_21 (Conv1D)              (None, 227, 128)     49280       embedding[0][0]                  \n",
      "__________________________________________________________________________________________________\n",
      "conv1d_22 (Conv1D)              (None, 227, 128)     65664       embedding[0][0]                  \n",
      "__________________________________________________________________________________________________\n",
      "conv1d_23 (Conv1D)              (None, 227, 128)     82048       embedding[0][0]                  \n",
      "__________________________________________________________________________________________________\n",
      "conv1d_24 (Conv1D)              (None, 227, 128)     49280       embedding[0][0]                  \n",
      "__________________________________________________________________________________________________\n",
      "conv1d_25 (Conv1D)              (None, 227, 128)     65664       embedding[0][0]                  \n",
      "__________________________________________________________________________________________________\n",
      "conv1d_26 (Conv1D)              (None, 227, 128)     82048       embedding[0][0]                  \n",
      "__________________________________________________________________________________________________\n",
      "max_pooling1d_18 (MaxPooling1D) (None, 113, 128)     0           conv1d_18[0][0]                  \n",
      "__________________________________________________________________________________________________\n",
      "max_pooling1d_19 (MaxPooling1D) (None, 113, 128)     0           conv1d_19[0][0]                  \n",
      "__________________________________________________________________________________________________\n",
      "max_pooling1d_20 (MaxPooling1D) (None, 113, 128)     0           conv1d_20[0][0]                  \n",
      "__________________________________________________________________________________________________\n",
      "max_pooling1d_21 (MaxPooling1D) (None, 113, 128)     0           conv1d_21[0][0]                  \n",
      "__________________________________________________________________________________________________\n",
      "max_pooling1d_22 (MaxPooling1D) (None, 113, 128)     0           conv1d_22[0][0]                  \n",
      "__________________________________________________________________________________________________\n",
      "max_pooling1d_23 (MaxPooling1D) (None, 113, 128)     0           conv1d_23[0][0]                  \n",
      "__________________________________________________________________________________________________\n",
      "max_pooling1d_24 (MaxPooling1D) (None, 113, 128)     0           conv1d_24[0][0]                  \n",
      "__________________________________________________________________________________________________\n",
      "max_pooling1d_25 (MaxPooling1D) (None, 113, 128)     0           conv1d_25[0][0]                  \n",
      "__________________________________________________________________________________________________\n",
      "max_pooling1d_26 (MaxPooling1D) (None, 113, 128)     0           conv1d_26[0][0]                  \n",
      "__________________________________________________________________________________________________\n",
      "concatenate_4 (Concatenate)     (None, 113, 1152)    0           max_pooling1d_18[0][0]           \n",
      "                                                                 max_pooling1d_19[0][0]           \n",
      "                                                                 max_pooling1d_20[0][0]           \n",
      "                                                                 max_pooling1d_21[0][0]           \n",
      "                                                                 max_pooling1d_22[0][0]           \n",
      "                                                                 max_pooling1d_23[0][0]           \n",
      "                                                                 max_pooling1d_24[0][0]           \n",
      "                                                                 max_pooling1d_25[0][0]           \n",
      "                                                                 max_pooling1d_26[0][0]           \n",
      "__________________________________________________________________________________________________\n",
      "flatten_4 (Flatten)             (None, 130176)       0           concatenate_4[0][0]              \n",
      "__________________________________________________________________________________________________\n",
      "dense_12 (Dense)                (None, 100)          13017700    flatten_4[0][0]                  \n",
      "__________________________________________________________________________________________________\n",
      "dense_13 (Dense)                (None, 10)           1010        dense_12[0][0]                   \n",
      "__________________________________________________________________________________________________\n",
      "dense_14 (Dense)                (None, 1)            11          dense_13[0][0]                   \n",
      "==================================================================================================\n",
      "Total params: 13,615,201\n",
      "Trainable params: 13,615,201\n",
      "Non-trainable params: 0\n",
      "__________________________________________________________________________________________________\n"
     ]
    }
   ],
   "source": [
    "model_1.summary()"
   ]
  },
  {
   "cell_type": "markdown",
   "id": "5f683e18-c876-4f7c-93ea-a33d495dcdaa",
   "metadata": {},
   "source": [
    "# Load model (solo si se grabo el modelo)"
   ]
  },
  {
   "cell_type": "code",
   "execution_count": 181,
   "id": "285c8740-f0bb-4237-8593-ff9b815de0e3",
   "metadata": {},
   "outputs": [],
   "source": [
    "from tensorflow.keras.models import load_model"
   ]
  },
  {
   "cell_type": "code",
   "execution_count": 182,
   "id": "2168984f-770c-436e-92da-c1344b1d3abc",
   "metadata": {},
   "outputs": [],
   "source": [
    "filename = 'models/embed_128_text_cnn_aug_100x100_0.0001.h5'\n",
    "model_loaded = load_model(filename, custom_objects={'R2': R2})"
   ]
  },
  {
   "cell_type": "code",
   "execution_count": 183,
   "id": "13a9d7d8-41e0-44a0-a8b9-02157a11f8f2",
   "metadata": {},
   "outputs": [],
   "source": [
    "y_pred = model_loaded.predict(X_test_eval)"
   ]
  },
  {
   "cell_type": "code",
   "execution_count": 184,
   "id": "43adfcdf-0ca7-46fb-9d11-6f95ee4b7dde",
   "metadata": {},
   "outputs": [
    {
     "name": "stdout",
     "output_type": "stream",
     "text": [
      "[[7.2714562 5.336411  5.8941917 6.4303513 4.786689 ]]\n",
      "[7.0835460514500745, 7.148130399270234, 5.823908740944319, 3.6989700043360183, 6.886056647693163]\n"
     ]
    }
   ],
   "source": [
    "print(y_pred[0:5].reshape(1,-1))\n",
    "print(y_t_eval[0:5])"
   ]
  },
  {
   "cell_type": "code",
   "execution_count": 185,
   "id": "26c63493-3f25-4383-9654-58ee62aa3ae5",
   "metadata": {},
   "outputs": [
    {
     "data": {
      "text/plain": [
       "0.607300306702104"
      ]
     },
     "execution_count": 185,
     "metadata": {},
     "output_type": "execute_result"
    }
   ],
   "source": [
    "r2 = 1 - ((y_test - y_pred.reshape(-1)) ** 2).sum() / ((y_test - y_test.mean()) ** 2).sum()\n",
    "r2"
   ]
  },
  {
   "cell_type": "markdown",
   "id": "7f1a6260-e31f-4e5e-a923-ce67bf31152f",
   "metadata": {},
   "source": [
    "# Evaluación"
   ]
  },
  {
   "cell_type": "code",
   "execution_count": 187,
   "id": "7dd9d7e6-2789-459e-b9dd-593e10847fc4",
   "metadata": {},
   "outputs": [
    {
     "data": {
      "text/plain": [
       "<function matplotlib.pyplot.show(close=None, block=None)>"
      ]
     },
     "execution_count": 187,
     "metadata": {},
     "output_type": "execute_result"
    },
    {
     "data": {
      "image/png": "[encoded data removed]",
      "text/plain": [
       "<Figure size 360x360 with 1 Axes>"
      ]
     },
     "metadata": {},
     "output_type": "display_data"
    }
   ],
   "source": [
    "import seaborn as sns\n",
    "import matplotlib.pyplot as plt\n",
    "\n",
    "sns.set(color_codes=True)\n",
    "sns.set_style(\"white\")\n",
    "\n",
    "ax = sns.regplot(x=y_test, y=y_pred, scatter_kws={'alpha':0.4})\n",
    "ax.set_xlabel('Experimental pIC50', fontsize='large', fontweight='bold')\n",
    "ax.set_ylabel('Predicted pIC50', fontsize='large', fontweight='bold')\n",
    "ax.set_xlim(0, 12)\n",
    "ax.set_ylim(0, 12)\n",
    "ax.figure.set_size_inches(5, 5)\n",
    "plt.show"
   ]
  },
  {
   "cell_type": "markdown",
   "id": "0c69c8f7-1db0-46e1-bb45-b7cea4e5154c",
   "metadata": {},
   "source": [
    "## Embeding 128 - dilation_rates = [1] - no callback - epoch 50 - val_R2: 0.2675"
   ]
  }
 ],
 "metadata": {
  "kernelspec": {
   "display_name": "Python 3.9.13 ('final_project_bioinformatics')",
   "language": "python",
   "name": "python3"
  },
  "language_info": {
   "codemirror_mode": {
    "name": "ipython",
    "version": 3
   },
   "file_extension": ".py",
   "mimetype": "text/x-python",
   "name": "python",
   "nbconvert_exporter": "python",
   "pygments_lexer": "ipython3",
   "version": "3.9.13"
  },
  "vscode": {
   "interpreter": {
    "hash": "0c1c819bf5c658a6f1dc770ae4d100477099cd777ed42a621215178ec7cfa3b7"
   }
  }
 },
 "nbformat": 4,
 "nbformat_minor": 5
}
