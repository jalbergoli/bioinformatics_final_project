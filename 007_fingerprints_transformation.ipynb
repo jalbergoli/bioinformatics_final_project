{
 "cells": [
  {
   "cell_type": "markdown",
   "metadata": {},
   "source": [
    "## Make Fingerprints Transformation - Usar: env_descriptors"
   ]
  },
  {
   "cell_type": "code",
   "execution_count": 2,
   "metadata": {},
   "outputs": [
    {
     "name": "stderr",
     "output_type": "stream",
     "text": [
      "c:\\Users\\JuanManuelAlbergoli\\anaconda3\\envs\\env_descriptores\\lib\\site-packages\\tqdm\\auto.py:22: TqdmWarning: IProgress not found. Please update jupyter and ipywidgets. See https://ipywidgets.readthedocs.io/en/stable/user_install.html\n",
      "  from .autonotebook import tqdm as notebook_tqdm\n"
     ]
    }
   ],
   "source": [
    "import pandas as pd\n",
    "import numpy as np\n",
    "import rxnfp\n",
    "import tmap\n",
    "import rdkit\n",
    "import transformers"
   ]
  },
  {
   "cell_type": "code",
   "execution_count": 3,
   "metadata": {},
   "outputs": [
    {
     "name": "stdout",
     "output_type": "stream",
     "text": [
      "256\n",
      "[-2.0174951553344727, 1.7602035999298096, -1.3323538303375244, -1.1095024347305298, 1.2254550457000732]\n"
     ]
    }
   ],
   "source": [
    "# Example from webpage \n",
    "from rxnfp.transformer_fingerprints import (\n",
    "    RXNBERTFingerprintGenerator, get_default_model_and_tokenizer, generate_fingerprints\n",
    ")\n",
    "\n",
    "model, tokenizer = get_default_model_and_tokenizer()\n",
    "\n",
    "rxnfp_generator = RXNBERTFingerprintGenerator(model, tokenizer)\n",
    "\n",
    "example_rxn = \"Nc1cccc2cnccc12.O=C(O)c1cc([N+](=O)[O-])c(Sc2c(Cl)cncc2Cl)s1>>O=C(Nc1cccc2cnccc12)c1cc([N+](=O)[O-])c(Sc2c(Cl)cncc2Cl)s1\"\n",
    "\n",
    "fp = rxnfp_generator.convert(example_rxn)\n",
    "print(len(fp))\n",
    "print(fp[:5])"
   ]
  },
  {
   "cell_type": "code",
   "execution_count": 4,
   "metadata": {},
   "outputs": [
    {
     "name": "stdout",
     "output_type": "stream",
     "text": [
      "5663\n",
      "5663\n",
      "256\n"
     ]
    }
   ],
   "source": [
    "#Importo dataset y creo list de figerprints\n",
    "df = pd.read_csv('data/acetylcholinesterase_02_bioactivity_data_preprocessed.csv')\n",
    "\n",
    "X = df['canonical_smiles'].values\n",
    "Y = df['pIC50'].values\n",
    "\n",
    "X_fp = [rxnfp_generator.convert(x) for x in X]\n",
    "\n",
    "print(len(X))\n",
    "print(len(X_fp))\n",
    "print(len(X_fp[1]))"
   ]
  },
  {
   "cell_type": "code",
   "execution_count": 5,
   "metadata": {},
   "outputs": [],
   "source": [
    "# Export as csv\n",
    "import csv\n",
    "\n",
    "with open(\"data/fingerprints.csv\", \"w\", newline=\"\") as f:\n",
    "    writer = csv.writer(f)\n",
    "    writer.writerows(X_fp)"
   ]
  },
  {
   "cell_type": "markdown",
   "metadata": {},
   "source": [
    "#### Misma Operacion para Rat y Rat & Human"
   ]
  },
  {
   "cell_type": "code",
   "execution_count": 10,
   "metadata": {},
   "outputs": [
    {
     "name": "stdout",
     "output_type": "stream",
     "text": [
      "1476\n",
      "1476\n"
     ]
    }
   ],
   "source": [
    "## Misma operacion para la data rat\n",
    "df_rat = pd.read_csv('data/rat_data.csv')\n",
    "\n",
    "X = df_rat['canonical_smiles'].values\n",
    "Y = df_rat['pIC50'].values\n",
    "\n",
    "X_rat_fp = [rxnfp_generator.convert(x) for x in X]\n",
    "\n",
    "with open(\"data/rat_fingerprints.csv\", \"w\", newline=\"\") as f:\n",
    "    writer = csv.writer(f)\n",
    "    writer.writerows(X_rat_fp)\n",
    "    \n",
    "print(len(X_rat_fp))\n",
    "print(len(Y))"
   ]
  },
  {
   "cell_type": "code",
   "execution_count": 7,
   "metadata": {},
   "outputs": [],
   "source": [
    "## Misma operacion para la data rat & Human\n",
    "df_rat_hum = pd.read_csv('data/human_rat_data.csv')\n",
    "\n",
    "X = df_rat_hum['canonical_smiles'].values\n",
    "\n",
    "X_rat_hum_fp = [rxnfp_generator.convert(x) for x in X]\n",
    "\n",
    "with open(\"data/rat_fingerprints.csv\", \"w\", newline=\"\") as f:\n",
    "    writer = csv.writer(f)\n",
    "    writer.writerows(X_rat_hum_fp)"
   ]
  }
 ],
 "metadata": {
  "kernelspec": {
   "display_name": "Python 3.8.13 ('env_descriptores')",
   "language": "python",
   "name": "python3"
  },
  "language_info": {
   "codemirror_mode": {
    "name": "ipython",
    "version": 3
   },
   "file_extension": ".py",
   "mimetype": "text/x-python",
   "name": "python",
   "nbconvert_exporter": "python",
   "pygments_lexer": "ipython3",
   "version": "3.8.13"
  },
  "orig_nbformat": 4,
  "vscode": {
   "interpreter": {
    "hash": "28d4e55c86302adef79186b3d554b0cfa11a9b75f672e05c39351142fc49bbc5"
   }
  }
 },
 "nbformat": 4,
 "nbformat_minor": 2
}
