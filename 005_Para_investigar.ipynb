{
 "cells": [
  {
   "cell_type": "markdown",
   "id": "284da487",
   "metadata": {},
   "source": [
    "# ¿Que más se podría hacer?"
   ]
  },
  {
   "cell_type": "markdown",
   "id": "31b9569f",
   "metadata": {},
   "source": [
    "- Test con data augmentation y la LSTM\n",
    "- Usar los tokenizadores usados en los transformers para ver como funcionan\n",
    "- TSNE de embeddings y analizar si hay interpretación\n",
    "- Probar con otras encimas o proteinas\n",
    "- Usar los embeddings entrenados para analizar resultados de proteinas o encimas con menos data\n",
    "- Entrenar una red neuronal con los features (fingerprints por ejemplo) y comparar los resultados con los embeddings\n"
   ]
  },
  {
   "cell_type": "markdown",
   "id": "ee4ea83b",
   "metadata": {},
   "source": [
    "# Tome cualquiera de estas propuestas o alguna suya y desarrolle"
   ]
  },
  {
   "cell_type": "markdown",
   "id": "2be55fd6",
   "metadata": {},
   "source": [
    "# Temas a tratar:\n",
    "## 01- Probar Random Forest Usando Fingerprints Transformation\n",
    "## 02 - TSNE de Embedings\n",
    "## 03- Probar Modelo de humanos con data para Ratoness (misma proteina)\n",
    "## 04- Entrenar Modelo para ratas con Embedings pre-entrenados del Modelo de Humanos\n",
    "\n",
    "### Use env project_nlp"
   ]
  },
  {
   "cell_type": "markdown",
   "id": "45891980",
   "metadata": {},
   "source": [
    "------------------------------------------------------------------------------------------------------------------------------"
   ]
  },
  {
   "cell_type": "markdown",
   "id": "8a028078",
   "metadata": {},
   "source": [
    "## 01- Probar Random Forest Usando Fingerprints Transformation\n",
    "#### Objetivo: Tener una baseline en base a lo que se hace en el vide\n",
    "-Prueba 1. Baseline - Random Forest Sin busqueda de Hiperparametros ni pre-procesamiento de data\n",
    "\n",
    "-Prueba 2. Removiendo Variables con poca Varianza (ref video)\n",
    "\n",
    "-Prueba 3. Agregando busqueda de Hiperparametros"
   ]
  },
  {
   "cell_type": "code",
   "execution_count": 19,
   "id": "4e5737ac",
   "metadata": {},
   "outputs": [],
   "source": [
    "import pandas as pd\n",
    "import numpy as np\n",
    "import seaborn as sns\n",
    "import matplotlib.pyplot as plt\n",
    "import pickle"
   ]
  },
  {
   "cell_type": "code",
   "execution_count": 20,
   "id": "10d50119",
   "metadata": {},
   "outputs": [
    {
     "data": {
      "text/html": [
       "<div>\n",
       "<style scoped>\n",
       "    .dataframe tbody tr th:only-of-type {\n",
       "        vertical-align: middle;\n",
       "    }\n",
       "\n",
       "    .dataframe tbody tr th {\n",
       "        vertical-align: top;\n",
       "    }\n",
       "\n",
       "    .dataframe thead th {\n",
       "        text-align: right;\n",
       "    }\n",
       "</style>\n",
       "<table border=\"1\" class=\"dataframe\">\n",
       "  <thead>\n",
       "    <tr style=\"text-align: right;\">\n",
       "      <th></th>\n",
       "      <th>molecule_chembl_id</th>\n",
       "      <th>canonical_smiles</th>\n",
       "      <th>standard_value</th>\n",
       "      <th>standard_value_norm</th>\n",
       "      <th>pIC50</th>\n",
       "    </tr>\n",
       "  </thead>\n",
       "  <tbody>\n",
       "    <tr>\n",
       "      <th>0</th>\n",
       "      <td>CHEMBL133897</td>\n",
       "      <td>CCOc1nn(-c2cccc(OCc3ccccc3)c2)c(=O)o1</td>\n",
       "      <td>750.0</td>\n",
       "      <td>750.0</td>\n",
       "      <td>6.124939</td>\n",
       "    </tr>\n",
       "    <tr>\n",
       "      <th>1</th>\n",
       "      <td>CHEMBL336398</td>\n",
       "      <td>O=C(N1CCCCC1)n1nc(-c2ccc(Cl)cc2)nc1SCC1CC1</td>\n",
       "      <td>100.0</td>\n",
       "      <td>100.0</td>\n",
       "      <td>7.000000</td>\n",
       "    </tr>\n",
       "    <tr>\n",
       "      <th>2</th>\n",
       "      <td>CHEMBL131588</td>\n",
       "      <td>CN(C(=O)n1nc(-c2ccc(Cl)cc2)nc1SCC(F)(F)F)c1ccccc1</td>\n",
       "      <td>50000.0</td>\n",
       "      <td>50000.0</td>\n",
       "      <td>4.301030</td>\n",
       "    </tr>\n",
       "    <tr>\n",
       "      <th>3</th>\n",
       "      <td>CHEMBL130628</td>\n",
       "      <td>O=C(N1CCCCC1)n1nc(-c2ccc(Cl)cc2)nc1SCC(F)(F)F</td>\n",
       "      <td>300.0</td>\n",
       "      <td>300.0</td>\n",
       "      <td>6.522879</td>\n",
       "    </tr>\n",
       "    <tr>\n",
       "      <th>4</th>\n",
       "      <td>CHEMBL130478</td>\n",
       "      <td>CSc1nc(-c2ccc(OC(F)(F)F)cc2)nn1C(=O)N(C)C</td>\n",
       "      <td>800.0</td>\n",
       "      <td>800.0</td>\n",
       "      <td>6.096910</td>\n",
       "    </tr>\n",
       "  </tbody>\n",
       "</table>\n",
       "</div>"
      ],
      "text/plain": [
       "  molecule_chembl_id                                   canonical_smiles  \\\n",
       "0       CHEMBL133897              CCOc1nn(-c2cccc(OCc3ccccc3)c2)c(=O)o1   \n",
       "1       CHEMBL336398         O=C(N1CCCCC1)n1nc(-c2ccc(Cl)cc2)nc1SCC1CC1   \n",
       "2       CHEMBL131588  CN(C(=O)n1nc(-c2ccc(Cl)cc2)nc1SCC(F)(F)F)c1ccccc1   \n",
       "3       CHEMBL130628      O=C(N1CCCCC1)n1nc(-c2ccc(Cl)cc2)nc1SCC(F)(F)F   \n",
       "4       CHEMBL130478          CSc1nc(-c2ccc(OC(F)(F)F)cc2)nn1C(=O)N(C)C   \n",
       "\n",
       "   standard_value  standard_value_norm     pIC50  \n",
       "0           750.0                750.0  6.124939  \n",
       "1           100.0                100.0  7.000000  \n",
       "2         50000.0              50000.0  4.301030  \n",
       "3           300.0                300.0  6.522879  \n",
       "4           800.0                800.0  6.096910  "
      ]
     },
     "execution_count": 20,
     "metadata": {},
     "output_type": "execute_result"
    }
   ],
   "source": [
    "#Importo Data\n",
    "df = pd.read_csv('data/acetylcholinesterase_02_bioactivity_data_preprocessed.csv')\n",
    "df.head()"
   ]
  },
  {
   "cell_type": "code",
   "execution_count": 69,
   "id": "abbad6fe",
   "metadata": {},
   "outputs": [
    {
     "name": "stdout",
     "output_type": "stream",
     "text": [
      "5663\n",
      "5663\n",
      "5663\n",
      "256\n"
     ]
    }
   ],
   "source": [
    "## Importo Data Transformada\n",
    "X = df['canonical_smiles'].values\n",
    "Y = df['pIC50'].values\n",
    "\n",
    "## Desde el Noteboo fingerprints_transformation, importo X_fp\n",
    "## Use otro Notebook para la transforamtion, para usar otro env por problemas de dependicias\n",
    "import csv\n",
    "with open('data/fingerprints.csv', newline='') as f:\n",
    "    reader = csv.reader(f)\n",
    "    X_fp = list(reader)\n",
    "    \n",
    "print(len(Y))\n",
    "print(len(X))\n",
    "print(len(X_fp))\n",
    "print(len(X_fp[1]))\n"
   ]
  },
  {
   "cell_type": "code",
   "execution_count": 70,
   "id": "bf95bcfc",
   "metadata": {},
   "outputs": [],
   "source": [
    "X_fp = np.array(X_fp)\n",
    "Y = np.array(Y)\n"
   ]
  },
  {
   "cell_type": "code",
   "execution_count": 71,
   "id": "fcb9840f-2f41-45be-99a5-f05f3ab73ed8",
   "metadata": {},
   "outputs": [
    {
     "data": {
      "text/plain": [
       "(4530, 4530, 1133)"
      ]
     },
     "execution_count": 71,
     "metadata": {},
     "output_type": "execute_result"
    }
   ],
   "source": [
    "# Split Data Train / Test\n",
    "from sklearn.model_selection import train_test_split\n",
    "X_train, X_test, y_train, y_test = train_test_split(X_fp, Y, test_size=0.2, random_state=42)\n",
    "len(X_train), len(y_train), len(X_test)"
   ]
  },
  {
   "cell_type": "markdown",
   "id": "cdd3ad21",
   "metadata": {},
   "source": [
    "#### 1.1 Model Random Forest"
   ]
  },
  {
   "cell_type": "code",
   "execution_count": 24,
   "id": "0136734b",
   "metadata": {},
   "outputs": [],
   "source": [
    "from sklearn.ensemble import RandomForestRegressor\n",
    "from sklearn.metrics import mean_squared_error, r2_score"
   ]
  },
  {
   "cell_type": "code",
   "execution_count": 25,
   "id": "34715a9e",
   "metadata": {},
   "outputs": [],
   "source": [
    "model_01 = RandomForestRegressor(n_estimators = 500)\n",
    "model_01 = model_01.fit(X_train, y_train)"
   ]
  },
  {
   "cell_type": "code",
   "execution_count": 72,
   "id": "d12d5955",
   "metadata": {},
   "outputs": [
    {
     "name": "stdout",
     "output_type": "stream",
     "text": [
      "Train Score: 0.9306981127335615\n",
      "Test Score: 0.5221183619296683\n"
     ]
    }
   ],
   "source": [
    "# Test Performance\n",
    "y_pred_test = model_01.predict(X_test)\n",
    "y_pred_train = model_01.predict(X_train)\n",
    "\n",
    "print(\"Train Score: {}\".format(r2_score(y_train,y_pred_train)))\n",
    "print(\"Test Score: {}\".format(r2_score(y_test,y_pred_test)))"
   ]
  },
  {
   "cell_type": "code",
   "execution_count": 37,
   "id": "675c3d00",
   "metadata": {},
   "outputs": [
    {
     "data": {
      "text/plain": [
       "<function matplotlib.pyplot.show(close=None, block=None)>"
      ]
     },
     "execution_count": 37,
     "metadata": {},
     "output_type": "execute_result"
    },
    {
     "data": {
      "image/png": "[encoded data removed]",
      "text/plain": [
       "<Figure size 360x360 with 1 Axes>"
      ]
     },
     "metadata": {},
     "output_type": "display_data"
    }
   ],
   "source": [
    "# Plot predicted vs ground truth (test)\n",
    "sns.set(color_codes=True)\n",
    "sns.set_style(\"white\")\n",
    "\n",
    "ax = sns.regplot(x=y_test, y=y_pred_test, scatter_kws={'alpha':0.4})\n",
    "ax.set_xlabel('Experimental pIC50', fontsize='large', fontweight='bold')\n",
    "ax.set_ylabel('Predicted pIC50', fontsize='large', fontweight='bold')\n",
    "ax.set_xlim(0, 12)\n",
    "ax.set_ylim(0, 12)\n",
    "ax.figure.set_size_inches(5, 5)\n",
    "plt.show"
   ]
  },
  {
   "cell_type": "code",
   "execution_count": 33,
   "id": "dcb031ac",
   "metadata": {},
   "outputs": [],
   "source": [
    "# save\n",
    "with open('models/RF_model_01.pkl','wb') as f:\n",
    "    pickle.dump(model_01,f)\n",
    "\n",
    "# load\n",
    "with open('models/RF_model_01.pkl', 'rb') as f:\n",
    "    clf2 = pickle.load(f)"
   ]
  },
  {
   "cell_type": "markdown",
   "id": "78f894de",
   "metadata": {},
   "source": [
    "#### 1.2 Model Random Forest - Take Features with Low Variance"
   ]
  },
  {
   "cell_type": "code",
   "execution_count": 34,
   "id": "3184f794",
   "metadata": {},
   "outputs": [
    {
     "data": {
      "text/plain": [
       "(5663, 171)"
      ]
     },
     "execution_count": 34,
     "metadata": {},
     "output_type": "execute_result"
    }
   ],
   "source": [
    "from sklearn.feature_selection import VarianceThreshold\n",
    "selection = VarianceThreshold(threshold = (.8 * (1 - .8)))\n",
    "X_fs = selection.fit_transform(X_fp)\n",
    "X_fs.shape"
   ]
  },
  {
   "cell_type": "code",
   "execution_count": 35,
   "id": "f604d458",
   "metadata": {},
   "outputs": [
    {
     "data": {
      "text/plain": [
       "(4530, 4530, 1133)"
      ]
     },
     "execution_count": 35,
     "metadata": {},
     "output_type": "execute_result"
    }
   ],
   "source": [
    "X_train, X_test, y_train, y_test = train_test_split(X_fs, Y, test_size=0.2, random_state=42)\n",
    "len(X_train), len(y_train), len(X_test)"
   ]
  },
  {
   "cell_type": "code",
   "execution_count": 36,
   "id": "9261c762",
   "metadata": {},
   "outputs": [],
   "source": [
    "model_02 = RandomForestRegressor(n_estimators = 500)\n",
    "model_02 = model_02.fit(X_train, y_train)"
   ]
  },
  {
   "cell_type": "code",
   "execution_count": 39,
   "id": "8b954bb2",
   "metadata": {},
   "outputs": [
    {
     "name": "stdout",
     "output_type": "stream",
     "text": [
      "Train Score: 0.9292381112852222\n",
      "Test Score: 0.5188252177207655\n"
     ]
    }
   ],
   "source": [
    "# Test Performance\n",
    "y_pred_test = model_02.predict(X_test)\n",
    "y_pred_train = model_02.predict(X_train)\n",
    "\n",
    "print(\"Train Score: {}\".format(r2_score(y_train,y_pred_train)))\n",
    "print(\"Test Score: {}\".format(r2_score(y_test,y_pred_test)))"
   ]
  },
  {
   "cell_type": "code",
   "execution_count": 40,
   "id": "3fe8672a",
   "metadata": {},
   "outputs": [
    {
     "data": {
      "text/plain": [
       "<function matplotlib.pyplot.show(close=None, block=None)>"
      ]
     },
     "execution_count": 40,
     "metadata": {},
     "output_type": "execute_result"
    },
    {
     "data": {
      "image/png": "[encoded data removed]",
      "text/plain": [
       "<Figure size 360x360 with 1 Axes>"
      ]
     },
     "metadata": {},
     "output_type": "display_data"
    }
   ],
   "source": [
    "# Plot predicted vs ground truth (test)\n",
    "sns.set(color_codes=True)\n",
    "sns.set_style(\"white\")\n",
    "\n",
    "ax = sns.regplot(x=y_test, y=y_pred_test, scatter_kws={'alpha':0.4})\n",
    "ax.set_xlabel('Experimental pIC50', fontsize='large', fontweight='bold')\n",
    "ax.set_ylabel('Predicted pIC50', fontsize='large', fontweight='bold')\n",
    "ax.set_xlim(0, 12)\n",
    "ax.set_ylim(0, 12)\n",
    "ax.figure.set_size_inches(5, 5)\n",
    "plt.show"
   ]
  },
  {
   "cell_type": "code",
   "execution_count": 41,
   "id": "35af6489",
   "metadata": {},
   "outputs": [],
   "source": [
    "# save\n",
    "with open('models/RF_model_02.pkl','wb') as f:\n",
    "    pickle.dump(model_02,f)\n",
    "\n",
    "# load\n",
    "with open('models/RF_model_02.pkl', 'rb') as f:\n",
    "    clf2 = pickle.load(f)"
   ]
  },
  {
   "cell_type": "markdown",
   "id": "2cbc27ed",
   "metadata": {},
   "source": [
    "#### 1.3 Model Random Forest - Con Busqueda de Hiperparametros"
   ]
  },
  {
   "cell_type": "code",
   "execution_count": 112,
   "id": "03671c86",
   "metadata": {},
   "outputs": [],
   "source": [
    "#Búsqueda de hiperparámetros\n",
    "from sklearn.model_selection import ParameterGrid\n",
    "from sklearn.model_selection import RandomizedSearchCV\n",
    "param_grid = {'n_estimators': [600, 800, 1000, 1200],\n",
    "              'max_depth': [None, 30, 20, 10],\n",
    "              'min_samples_split':[2,4,8],\n",
    "              'min_samples_leaf':[1,2,4,8],\n",
    "              'min_weight_fraction_leaf':[0.,0.01, 0.02],\n",
    "              'max_features':[None,1],\n",
    "              'max_leaf_nodes':[None,50,100],\n",
    "              'min_impurity_decrease':[0.,0.05,0.1] \n",
    "            }"
   ]
  },
  {
   "cell_type": "code",
   "execution_count": 113,
   "id": "cc24d13e",
   "metadata": {},
   "outputs": [
    {
     "name": "stdout",
     "output_type": "stream",
     "text": [
      "Fitting 4 folds for each of 100 candidates, totalling 400 fits\n"
     ]
    },
    {
     "data": {
      "text/html": [
       "<style>#sk-container-id-1 {color: black;background-color: white;}#sk-container-id-1 pre{padding: 0;}#sk-container-id-1 div.sk-toggleable {background-color: white;}#sk-container-id-1 label.sk-toggleable__label {cursor: pointer;display: block;width: 100%;margin-bottom: 0;padding: 0.3em;box-sizing: border-box;text-align: center;}#sk-container-id-1 label.sk-toggleable__label-arrow:before {content: \"▸\";float: left;margin-right: 0.25em;color: #696969;}#sk-container-id-1 label.sk-toggleable__label-arrow:hover:before {color: black;}#sk-container-id-1 div.sk-estimator:hover label.sk-toggleable__label-arrow:before {color: black;}#sk-container-id-1 div.sk-toggleable__content {max-height: 0;max-width: 0;overflow: hidden;text-align: left;background-color: #f0f8ff;}#sk-container-id-1 div.sk-toggleable__content pre {margin: 0.2em;color: black;border-radius: 0.25em;background-color: #f0f8ff;}#sk-container-id-1 input.sk-toggleable__control:checked~div.sk-toggleable__content {max-height: 200px;max-width: 100%;overflow: auto;}#sk-container-id-1 input.sk-toggleable__control:checked~label.sk-toggleable__label-arrow:before {content: \"▾\";}#sk-container-id-1 div.sk-estimator input.sk-toggleable__control:checked~label.sk-toggleable__label {background-color: #d4ebff;}#sk-container-id-1 div.sk-label input.sk-toggleable__control:checked~label.sk-toggleable__label {background-color: #d4ebff;}#sk-container-id-1 input.sk-hidden--visually {border: 0;clip: rect(1px 1px 1px 1px);clip: rect(1px, 1px, 1px, 1px);height: 1px;margin: -1px;overflow: hidden;padding: 0;position: absolute;width: 1px;}#sk-container-id-1 div.sk-estimator {font-family: monospace;background-color: #f0f8ff;border: 1px dotted black;border-radius: 0.25em;box-sizing: border-box;margin-bottom: 0.5em;}#sk-container-id-1 div.sk-estimator:hover {background-color: #d4ebff;}#sk-container-id-1 div.sk-parallel-item::after {content: \"\";width: 100%;border-bottom: 1px solid gray;flex-grow: 1;}#sk-container-id-1 div.sk-label:hover label.sk-toggleable__label {background-color: #d4ebff;}#sk-container-id-1 div.sk-serial::before {content: \"\";position: absolute;border-left: 1px solid gray;box-sizing: border-box;top: 0;bottom: 0;left: 50%;z-index: 0;}#sk-container-id-1 div.sk-serial {display: flex;flex-direction: column;align-items: center;background-color: white;padding-right: 0.2em;padding-left: 0.2em;position: relative;}#sk-container-id-1 div.sk-item {position: relative;z-index: 1;}#sk-container-id-1 div.sk-parallel {display: flex;align-items: stretch;justify-content: center;background-color: white;position: relative;}#sk-container-id-1 div.sk-item::before, #sk-container-id-1 div.sk-parallel-item::before {content: \"\";position: absolute;border-left: 1px solid gray;box-sizing: border-box;top: 0;bottom: 0;left: 50%;z-index: -1;}#sk-container-id-1 div.sk-parallel-item {display: flex;flex-direction: column;z-index: 1;position: relative;background-color: white;}#sk-container-id-1 div.sk-parallel-item:first-child::after {align-self: flex-end;width: 50%;}#sk-container-id-1 div.sk-parallel-item:last-child::after {align-self: flex-start;width: 50%;}#sk-container-id-1 div.sk-parallel-item:only-child::after {width: 0;}#sk-container-id-1 div.sk-dashed-wrapped {border: 1px dashed gray;margin: 0 0.4em 0.5em 0.4em;box-sizing: border-box;padding-bottom: 0.4em;background-color: white;}#sk-container-id-1 div.sk-label label {font-family: monospace;font-weight: bold;display: inline-block;line-height: 1.2em;}#sk-container-id-1 div.sk-label-container {text-align: center;}#sk-container-id-1 div.sk-container {/* jupyter's `normalize.less` sets `[hidden] { display: none; }` but bootstrap.min.css set `[hidden] { display: none !important; }` so we also need the `!important` here to be able to override the default hidden behavior on the sphinx rendered scikit-learn.org. See: https://github.com/scikit-learn/scikit-learn/issues/21755 */display: inline-block !important;position: relative;}#sk-container-id-1 div.sk-text-repr-fallback {display: none;}</style><div id=\"sk-container-id-1\" class=\"sk-top-container\"><div class=\"sk-text-repr-fallback\"><pre>RandomizedSearchCV(cv=4, estimator=RandomForestRegressor(), n_iter=100,\n",
       "                   n_jobs=-1,\n",
       "                   param_distributions={&#x27;max_depth&#x27;: [None, 30, 20, 10],\n",
       "                                        &#x27;max_features&#x27;: [None, 1],\n",
       "                                        &#x27;max_leaf_nodes&#x27;: [None, 50, 100],\n",
       "                                        &#x27;min_impurity_decrease&#x27;: [0.0, 0.05,\n",
       "                                                                  0.1],\n",
       "                                        &#x27;min_samples_leaf&#x27;: [1, 2, 4, 8],\n",
       "                                        &#x27;min_samples_split&#x27;: [2, 4, 8],\n",
       "                                        &#x27;min_weight_fraction_leaf&#x27;: [0.0, 0.01,\n",
       "                                                                     0.02],\n",
       "                                        &#x27;n_estimators&#x27;: [600, 800, 1000, 1200]},\n",
       "                   verbose=1)</pre><b>In a Jupyter environment, please rerun this cell to show the HTML representation or trust the notebook. <br />On GitHub, the HTML representation is unable to render, please try loading this page with nbviewer.org.</b></div><div class=\"sk-container\" hidden><div class=\"sk-item sk-dashed-wrapped\"><div class=\"sk-label-container\"><div class=\"sk-label sk-toggleable\"><input class=\"sk-toggleable__control sk-hidden--visually\" id=\"sk-estimator-id-1\" type=\"checkbox\" ><label for=\"sk-estimator-id-1\" class=\"sk-toggleable__label sk-toggleable__label-arrow\">RandomizedSearchCV</label><div class=\"sk-toggleable__content\"><pre>RandomizedSearchCV(cv=4, estimator=RandomForestRegressor(), n_iter=100,\n",
       "                   n_jobs=-1,\n",
       "                   param_distributions={&#x27;max_depth&#x27;: [None, 30, 20, 10],\n",
       "                                        &#x27;max_features&#x27;: [None, 1],\n",
       "                                        &#x27;max_leaf_nodes&#x27;: [None, 50, 100],\n",
       "                                        &#x27;min_impurity_decrease&#x27;: [0.0, 0.05,\n",
       "                                                                  0.1],\n",
       "                                        &#x27;min_samples_leaf&#x27;: [1, 2, 4, 8],\n",
       "                                        &#x27;min_samples_split&#x27;: [2, 4, 8],\n",
       "                                        &#x27;min_weight_fraction_leaf&#x27;: [0.0, 0.01,\n",
       "                                                                     0.02],\n",
       "                                        &#x27;n_estimators&#x27;: [600, 800, 1000, 1200]},\n",
       "                   verbose=1)</pre></div></div></div><div class=\"sk-parallel\"><div class=\"sk-parallel-item\"><div class=\"sk-item\"><div class=\"sk-label-container\"><div class=\"sk-label sk-toggleable\"><input class=\"sk-toggleable__control sk-hidden--visually\" id=\"sk-estimator-id-2\" type=\"checkbox\" ><label for=\"sk-estimator-id-2\" class=\"sk-toggleable__label sk-toggleable__label-arrow\">estimator: RandomForestRegressor</label><div class=\"sk-toggleable__content\"><pre>RandomForestRegressor()</pre></div></div></div><div class=\"sk-serial\"><div class=\"sk-item\"><div class=\"sk-estimator sk-toggleable\"><input class=\"sk-toggleable__control sk-hidden--visually\" id=\"sk-estimator-id-3\" type=\"checkbox\" ><label for=\"sk-estimator-id-3\" class=\"sk-toggleable__label sk-toggleable__label-arrow\">RandomForestRegressor</label><div class=\"sk-toggleable__content\"><pre>RandomForestRegressor()</pre></div></div></div></div></div></div></div></div></div></div>"
      ],
      "text/plain": [
       "RandomizedSearchCV(cv=4, estimator=RandomForestRegressor(), n_iter=100,\n",
       "                   n_jobs=-1,\n",
       "                   param_distributions={'max_depth': [None, 30, 20, 10],\n",
       "                                        'max_features': [None, 1],\n",
       "                                        'max_leaf_nodes': [None, 50, 100],\n",
       "                                        'min_impurity_decrease': [0.0, 0.05,\n",
       "                                                                  0.1],\n",
       "                                        'min_samples_leaf': [1, 2, 4, 8],\n",
       "                                        'min_samples_split': [2, 4, 8],\n",
       "                                        'min_weight_fraction_leaf': [0.0, 0.01,\n",
       "                                                                     0.02],\n",
       "                                        'n_estimators': [600, 800, 1000, 1200]},\n",
       "                   verbose=1)"
      ]
     },
     "execution_count": 113,
     "metadata": {},
     "output_type": "execute_result"
    }
   ],
   "source": [
    "trees= RandomForestRegressor()\n",
    "hpier_serch_model = RandomizedSearchCV(trees, param_grid, n_iter=100, cv=4,verbose=1,n_jobs=-1)\n",
    "hpier_serch_model.fit(X_train,y_train)"
   ]
  },
  {
   "cell_type": "code",
   "execution_count": 114,
   "id": "61e1f012",
   "metadata": {},
   "outputs": [
    {
     "data": {
      "text/plain": [
       "{'n_estimators': 1000,\n",
       " 'min_weight_fraction_leaf': 0.0,\n",
       " 'min_samples_split': 2,\n",
       " 'min_samples_leaf': 1,\n",
       " 'min_impurity_decrease': 0.0,\n",
       " 'max_leaf_nodes': 100,\n",
       " 'max_features': None,\n",
       " 'max_depth': None}"
      ]
     },
     "execution_count": 114,
     "metadata": {},
     "output_type": "execute_result"
    }
   ],
   "source": [
    "import joblib\n",
    "joblib.dump(hpier_serch_model, 'models/random_forest_param_serch.pkl')\n",
    "joblib.load(\"models/random_forest_param_serch.pkl\")\n",
    "hpier_serch_model.best_params_"
   ]
  },
  {
   "cell_type": "code",
   "execution_count": 120,
   "id": "02d1ba9d",
   "metadata": {},
   "outputs": [],
   "source": [
    "model_03 = RandomForestRegressor(n_estimators = 1000,\n",
    "                            min_weight_fraction_leaf = 0.0,\n",
    "                            min_samples_split = 2,\n",
    "                            min_samples_leaf = 1,\n",
    "                            min_impurity_decrease = 0.0,\n",
    "                            max_leaf_nodes = 100,\n",
    "                            max_features = None,\n",
    "                            max_depth = None,\n",
    "                            random_state=10)\n",
    "\n",
    "model_03 = model_03.fit(X_train, y_train)"
   ]
  },
  {
   "cell_type": "code",
   "execution_count": 121,
   "id": "f831c78b",
   "metadata": {},
   "outputs": [
    {
     "name": "stdout",
     "output_type": "stream",
     "text": [
      "Train Score: 0.8488115303692653\n",
      "Test Score: 0.5244094592910972\n"
     ]
    }
   ],
   "source": [
    "y_pred_test = model_03.predict(X_test)\n",
    "y_pred_train = model_03.predict(X_train)\n",
    "\n",
    "print(\"Train Score: {}\".format(r2_score(y_train,y_pred_train)))\n",
    "print(\"Test Score: {}\".format(r2_score(y_test,y_pred_test)))"
   ]
  },
  {
   "cell_type": "code",
   "execution_count": 117,
   "id": "fad3b73a",
   "metadata": {},
   "outputs": [],
   "source": [
    "# save\n",
    "with open('models/RF_model_03.pkl','wb') as f:\n",
    "    pickle.dump(model_03,f)\n",
    "\n",
    "# load\n",
    "with open('models/RF_model_03.pkl', 'rb') as f:\n",
    "    clf2 = pickle.load(f)"
   ]
  },
  {
   "cell_type": "markdown",
   "id": "03a2bb90",
   "metadata": {},
   "source": [
    "## 02 - TSNE de Embedings\n",
    "Objetivo: Analizar interpretabilidad de los embedings entrenados en 003 y 004"
   ]
  },
  {
   "cell_type": "markdown",
   "id": "2ad770b2",
   "metadata": {},
   "source": [
    "#### 02.01 Embeding Tokenizor Keras"
   ]
  },
  {
   "cell_type": "code",
   "execution_count": 55,
   "id": "ea0f4314",
   "metadata": {},
   "outputs": [],
   "source": [
    "from sklearn.manifold import TSNE\n",
    "from matplotlib import pyplot as plt\n",
    "from tensorflow.keras.preprocessing.text import Tokenizer\n",
    "from tensorflow.keras.models import load_model"
   ]
  },
  {
   "cell_type": "code",
   "execution_count": 56,
   "id": "3e9f65f0",
   "metadata": {},
   "outputs": [],
   "source": [
    "# Genero Tokenizador de Letras\n",
    "df = pd.read_csv('data/acetylcholinesterase_02_bioactivity_data_preprocessed.csv')\n",
    "df['canonical_len'] = df['canonical_smiles'].apply(lambda x: len(x))\n",
    "max_sequence_len = df['canonical_len'].max()\n",
    "\n",
    "tokenizer = Tokenizer(\n",
    "    num_words = None,\n",
    "    filters='',\n",
    "    lower=False,\n",
    "    split=' ',\n",
    "    char_level=True,\n",
    "    oov_token=None)\n",
    "\n",
    "tokenizer.fit_on_texts(X)\n",
    "\n",
    "# Get Vocabulary letters\n",
    "letters = list(tokenizer.word_index.keys())"
   ]
  },
  {
   "cell_type": "code",
   "execution_count": 57,
   "id": "25cc19b2",
   "metadata": {},
   "outputs": [],
   "source": [
    "## LSTM Model\n",
    "# Métrica\n",
    "def R2(y_true, y_pred):\n",
    "    SS_res =  K.sum(K.square( y_true - y_pred ))\n",
    "    SS_tot = K.sum(K.square( y_true - K.mean(y_true) ) )\n",
    "    return ( 1 - SS_res/(SS_tot + K.epsilon()) )\n",
    "\n",
    "model_loaded = load_model('models\\embed_64_bi_lstm_100_dense_50_bn.h5', custom_objects={'R2': R2})\n",
    "# Retirve Embedings Layer\n",
    "embeding_layer = model_loaded.layers[0].get_weights()[0][1:]"
   ]
  },
  {
   "cell_type": "code",
   "execution_count": 58,
   "id": "8d52b782",
   "metadata": {},
   "outputs": [
    {
     "name": "stderr",
     "output_type": "stream",
     "text": [
      "c:\\Users\\JuanManuelAlbergoli\\anaconda3\\envs\\final_project_bioinformatics\\lib\\site-packages\\sklearn\\manifold\\_t_sne.py:795: FutureWarning: The default initialization in TSNE will change from 'random' to 'pca' in 1.2.\n",
      "  warnings.warn(\n",
      "c:\\Users\\JuanManuelAlbergoli\\anaconda3\\envs\\final_project_bioinformatics\\lib\\site-packages\\sklearn\\manifold\\_t_sne.py:805: FutureWarning: The default learning rate in TSNE will change from 200.0 to 'auto' in 1.2.\n",
      "  warnings.warn(\n"
     ]
    },
    {
     "data": {
      "image/png": "[encoded data removed]",
      "text/plain": [
       "<Figure size 720x720 with 1 Axes>"
      ]
     },
     "metadata": {},
     "output_type": "display_data"
    }
   ],
   "source": [
    "#Create TSNE Model and plot\n",
    "tsne = TSNE(2)\n",
    "X_tsne =  tsne.fit_transform(embeding_layer)\n",
    "\n",
    "plt.figure(figsize=[10, 10])\n",
    "plt.scatter(X_tsne[:,0],X_tsne[:,1],s=1)\n",
    "for i, t in enumerate(letters):\n",
    "    plt.text(X_tsne[i,0],X_tsne[i,1],t)"
   ]
  },
  {
   "cell_type": "markdown",
   "id": "740f7212",
   "metadata": {},
   "source": [
    "#### 02.02 Embeding Tokenizodr-Smiles"
   ]
  },
  {
   "cell_type": "code",
   "execution_count": 67,
   "id": "3602b0da",
   "metadata": {},
   "outputs": [
    {
     "name": "stdout",
     "output_type": "stream",
     "text": [
      "42\n",
      "42\n"
     ]
    }
   ],
   "source": [
    "#Import Model\n",
    "filename = 'models/embed_128_text_cnn_aug_100x100_0.0001.h5'\n",
    "model_loaded = load_model(filename, custom_objects={'R2': R2})\n",
    "#Get embeding Layer\n",
    "embeding_layer = model_loaded.layers[1].get_weights()[0][1:]\n",
    "# Import Smiles Dict\n",
    "from datagen import smiles_dict\n",
    "#Get letters\n",
    "letters = smiles_dict.keys()\n",
    "\n",
    "print(len(embeding_layer))\n",
    "print(len(letters))"
   ]
  },
  {
   "cell_type": "code",
   "execution_count": 65,
   "id": "b45ae321",
   "metadata": {},
   "outputs": [
    {
     "name": "stderr",
     "output_type": "stream",
     "text": [
      "c:\\Users\\JuanManuelAlbergoli\\anaconda3\\envs\\final_project_bioinformatics\\lib\\site-packages\\sklearn\\manifold\\_t_sne.py:795: FutureWarning: The default initialization in TSNE will change from 'random' to 'pca' in 1.2.\n",
      "  warnings.warn(\n",
      "c:\\Users\\JuanManuelAlbergoli\\anaconda3\\envs\\final_project_bioinformatics\\lib\\site-packages\\sklearn\\manifold\\_t_sne.py:805: FutureWarning: The default learning rate in TSNE will change from 200.0 to 'auto' in 1.2.\n",
      "  warnings.warn(\n"
     ]
    },
    {
     "data": {
      "image/png": "[encoded data removed]",
      "text/plain": [
       "<Figure size 720x720 with 1 Axes>"
      ]
     },
     "metadata": {},
     "output_type": "display_data"
    }
   ],
   "source": [
    "#Create TSNE Model and plot\n",
    "tsne = TSNE(2)\n",
    "X_tsne = tsne.fit_transform(embeding_layer)\n",
    "\n",
    "plt.figure(figsize=[10, 10])\n",
    "plt.scatter(X_tsne[:,0],X_tsne[:,1],s=1)\n",
    "for i, t in enumerate(letters):\n",
    "    plt.text(X_tsne[i,0],X_tsne[i,1],t)"
   ]
  },
  {
   "cell_type": "markdown",
   "id": "33da32fe",
   "metadata": {},
   "source": [
    "Los embedings no lograron hacer grupos definidos de caracteres. Se ve que los numeros estan relativamente cercanos entre si, pero no hay mayor interpretabilidad.\n",
    "\n",
    "Next stepts: Hacer una busqueda mas exaustiva de la dim del embeding y mayor entrenamiento"
   ]
  },
  {
   "cell_type": "markdown",
   "id": "f67e0cbe",
   "metadata": {},
   "source": [
    "## 03- Probar Modelo de humanos con data para ratas\n",
    "Se descargo el data set de la misma proteina pero en vez de utilizar el Homo Sapiens como especie se tomo Ratones (Rattus norvegicus). El objetivo de este ejercio es ver cuan relacionados estan estas dos proteinas en Humanos y Ratones.\n",
    "Como en inbestigacion se suele utilizar Ratones puede ser interesante ver la relacion entre estos y poder intrpolar resultados de una especie a la otra.\n",
    "\n",
    "La idea original era crear un dataset con compuestos y medida IC50 para ambas especies y hacer un modelo con dos salidas, una para Humanos y otra para Ratones.\n",
    "\n",
    "Pero al haber pocos compuestos que se tiene esta iformacion para ambas especies, se descarto."
   ]
  },
  {
   "cell_type": "code",
   "execution_count": 92,
   "id": "bb4f62cf",
   "metadata": {},
   "outputs": [
    {
     "name": "stdout",
     "output_type": "stream",
     "text": [
      "1476\n",
      "1476\n"
     ]
    }
   ],
   "source": [
    "with open('data/rat_fingerprints.csv', newline='') as f:\n",
    "    reader = csv.reader(f)\n",
    "    X_rat_fp = list(reader)\n",
    "    \n",
    "X_rat_fp = np.array(X_rat_fp)\n",
    "\n",
    "df_rat = pd.read_csv('data/rat_data.csv')\n",
    "\n",
    "Y_rat = df_rat['pIC50'].values\n",
    "Y_rat = np.array(Y_rat)\n",
    "\n",
    "print(len(X_rat_fp))\n",
    "print(len(Y_rat))\n"
   ]
  },
  {
   "cell_type": "code",
   "execution_count": 93,
   "id": "e7dfc832",
   "metadata": {},
   "outputs": [
    {
     "name": "stdout",
     "output_type": "stream",
     "text": [
      "Test Score: 0.15804639995130743\n"
     ]
    }
   ],
   "source": [
    "## Pruebo con el modelo de RF mas simple (para humanos da un Score de ~50%)\n",
    "y_pred_rat = model_01.predict(X_rat_fp)\n",
    "print(\"Test Score: {}\".format(r2_score(Y_rat,y_pred_rat)))"
   ]
  },
  {
   "cell_type": "markdown",
   "id": "f81e34c1",
   "metadata": {},
   "source": [
    "## 04- Entrenar Modelo para ratas con Embedings pre-entrenados del Modelo de Humanos\n",
    "#### 04.01 Entreno LSTM con embeding pre-entrenados\n",
    "#### 04.02 Entreno la misma red completa"
   ]
  },
  {
   "cell_type": "markdown",
   "id": "b282418e",
   "metadata": {},
   "source": [
    "#### 04.01 Entreno LSTM con embeding pre-entrenados"
   ]
  },
  {
   "cell_type": "code",
   "execution_count": 95,
   "id": "45bb1e6b",
   "metadata": {},
   "outputs": [],
   "source": [
    "# Retrive LSTM Embeding Layer\n",
    "model_loaded = load_model('models\\embed_64_bi_lstm_100_dense_50_bn.h5', custom_objects={'R2': R2})\n",
    "embeding_layer_weights = model_loaded.layers[0].get_weights()\n"
   ]
  },
  {
   "cell_type": "code",
   "execution_count": 96,
   "id": "2d9715bd",
   "metadata": {},
   "outputs": [],
   "source": [
    "from tensorflow.keras.preprocessing.text import Tokenizer\n",
    "from tensorflow.keras.preprocessing.sequence import pad_sequences\n",
    "\n",
    "#Set Tokenizer with Original Data\n",
    "df = pd.read_csv('data/acetylcholinesterase_02_bioactivity_data_preprocessed.csv')\n",
    "X = df['canonical_smiles']\n",
    "\n",
    "tokenizer = Tokenizer(\n",
    "    num_words = None,\n",
    "    filters='',\n",
    "    lower=False,\n",
    "    split=' ',\n",
    "    char_level=True,\n",
    "    oov_token=None)\n",
    "\n",
    "tokenizer.fit_on_texts(X)\n",
    "\n",
    "df['canonical_len'] = df['canonical_smiles'].apply(lambda x: len(x))\n",
    "max_sequence_len = df['canonical_len'].max()\n",
    "\n",
    "vocab_size = len(tokenizer.word_index)"
   ]
  },
  {
   "cell_type": "code",
   "execution_count": 97,
   "id": "36cffffc",
   "metadata": {},
   "outputs": [],
   "source": [
    "# Tokenize Rat Data\n",
    "X_rat = df_rat['canonical_smiles']\n",
    "y_rat = df_rat['pIC50']\n",
    "\n",
    "X_rat_seq = tokenizer.texts_to_sequences(X_rat)\n",
    "\n",
    "X_rat_seq_pad = pad_sequences(X_rat_seq, maxlen=max_sequence_len)"
   ]
  },
  {
   "cell_type": "code",
   "execution_count": 98,
   "id": "f3e75fb6",
   "metadata": {},
   "outputs": [],
   "source": [
    "# Split Data\n",
    "from sklearn.model_selection import train_test_split\n",
    "X_train, X_test, y_train, y_test = train_test_split(X_rat_seq_pad, y_rat, test_size=0.2, random_state=42)"
   ]
  },
  {
   "cell_type": "code",
   "execution_count": 99,
   "id": "4d383edc",
   "metadata": {},
   "outputs": [],
   "source": [
    "from tensorflow.keras import Sequential\n",
    "from tensorflow.keras.layers import LSTM, Dense, Embedding, Bidirectional, Dropout, Activation, BatchNormalization\n",
    "from tensorflow.keras.callbacks import ModelCheckpoint, EarlyStopping\n",
    "from tensorflow.keras.optimizers import Adam, RMSprop\n",
    "from tensorflow.keras import backend as K"
   ]
  },
  {
   "cell_type": "code",
   "execution_count": 100,
   "id": "7269de65",
   "metadata": {},
   "outputs": [],
   "source": [
    "# Métrica\n",
    "def R2(y_true, y_pred):\n",
    "    SS_res =  K.sum(K.square( y_true - y_pred ))\n",
    "    SS_tot = K.sum(K.square( y_true - K.mean(y_true) ) )\n",
    "    return ( 1 - SS_res/(SS_tot + K.epsilon()) )"
   ]
  },
  {
   "cell_type": "code",
   "execution_count": 101,
   "id": "8dd40a0d",
   "metadata": {},
   "outputs": [
    {
     "data": {
      "text/plain": [
       "207"
      ]
     },
     "execution_count": 101,
     "metadata": {},
     "output_type": "execute_result"
    }
   ],
   "source": [
    "# vocab_size = # Completar largo del vocabulario\n",
    "vocab_size = len(tokenizer.word_index)\n",
    "vocab_size\n",
    "max_sequence_len = df['canonical_len'].max()\n",
    "max_sequence_len"
   ]
  },
  {
   "cell_type": "code",
   "execution_count": 103,
   "id": "c89c84b9",
   "metadata": {},
   "outputs": [
    {
     "name": "stdout",
     "output_type": "stream",
     "text": [
      "Model: \"Rat_LSTM_1\"\n",
      "_________________________________________________________________\n",
      "Layer (type)                 Output Shape              Param #   \n",
      "=================================================================\n",
      "embedding (Embedding)        (None, 207, 64)           2496      \n",
      "_________________________________________________________________\n",
      "bidirectional (Bidirectional (None, 200)               132000    \n",
      "_________________________________________________________________\n",
      "dense (Dense)                (None, 50)                10050     \n",
      "_________________________________________________________________\n",
      "batch_normalization (BatchNo (None, 50)                200       \n",
      "_________________________________________________________________\n",
      "activation (Activation)      (None, 50)                0         \n",
      "_________________________________________________________________\n",
      "dense_1 (Dense)              (None, 1)                 51        \n",
      "=================================================================\n",
      "Total params: 144,797\n",
      "Trainable params: 142,201\n",
      "Non-trainable params: 2,596\n",
      "_________________________________________________________________\n"
     ]
    }
   ],
   "source": [
    "embed_dim = 64\n",
    "\n",
    "model = Sequential(name='Rat_LSTM_1')\n",
    "model.add(Embedding(vocab_size + 1 , embed_dim, input_length=max_sequence_len, trainable=False))\n",
    "model.add(Bidirectional(LSTM(100, activation='tanh')))\n",
    "model.add(Dense(50))\n",
    "model.add(BatchNormalization())\n",
    "model.add(Activation('tanh'))\n",
    "model.add(Dense(1))\n",
    "\n",
    "model.layers[0].set_weights(embeding_layer_weights) \n",
    "\n",
    "# Implementar modelo completo\n",
    "model.summary()"
   ]
  },
  {
   "cell_type": "code",
   "execution_count": 104,
   "id": "38cb4c02",
   "metadata": {},
   "outputs": [
    {
     "name": "stdout",
     "output_type": "stream",
     "text": [
      "Epoch 1/50\n",
      "19/19 [==============================] - 11s 346ms/step - loss: 29.6328 - R2: -14.0548 - val_loss: 26.3885 - val_R2: -12.1907\n",
      "Epoch 2/50\n",
      "19/19 [==============================] - 5s 273ms/step - loss: 21.6982 - R2: -10.3012 - val_loss: 27.4777 - val_R2: -12.7466\n",
      "Epoch 3/50\n",
      "19/19 [==============================] - 5s 277ms/step - loss: 17.5830 - R2: -8.0076 - val_loss: 30.3052 - val_R2: -14.1727\n",
      "Epoch 4/50\n",
      "19/19 [==============================] - 5s 285ms/step - loss: 14.2885 - R2: -6.5968 - val_loss: 25.2948 - val_R2: -11.6740\n",
      "Epoch 5/50\n",
      "19/19 [==============================] - 19s 1s/step - loss: 10.9338 - R2: -4.6699 - val_loss: 22.7024 - val_R2: -10.3787\n",
      "Epoch 6/50\n",
      "19/19 [==============================] - 18s 936ms/step - loss: 8.7213 - R2: -3.4091 - val_loss: 20.3753 - val_R2: -9.2118\n",
      "Epoch 7/50\n",
      "19/19 [==============================] - 6s 324ms/step - loss: 6.7319 - R2: -2.5126 - val_loss: 13.2423 - val_R2: -5.6488\n",
      "Epoch 8/50\n",
      "19/19 [==============================] - 6s 345ms/step - loss: 4.5887 - R2: -1.3330 - val_loss: 11.8615 - val_R2: -4.9530\n",
      "Epoch 9/50\n",
      "19/19 [==============================] - 5s 284ms/step - loss: 4.0299 - R2: -1.0195 - val_loss: 10.2909 - val_R2: -4.1692\n",
      "Epoch 10/50\n",
      "19/19 [==============================] - 7s 386ms/step - loss: 3.8120 - R2: -1.0327 - val_loss: 11.0741 - val_R2: -4.5679\n",
      "Epoch 11/50\n",
      "19/19 [==============================] - 8s 385ms/step - loss: 2.2212 - R2: -0.1076 - val_loss: 9.1363 - val_R2: -3.5843\n",
      "Epoch 12/50\n",
      "19/19 [==============================] - 6s 337ms/step - loss: 2.0107 - R2: -0.0181 - val_loss: 6.4907 - val_R2: -2.2475\n",
      "Epoch 13/50\n",
      "19/19 [==============================] - 5s 275ms/step - loss: 1.9105 - R2: -0.0046 - val_loss: 6.1140 - val_R2: -2.0558\n",
      "Epoch 14/50\n",
      "19/19 [==============================] - 9s 461ms/step - loss: 1.4862 - R2: 0.2427 - val_loss: 4.6287 - val_R2: -1.3181\n",
      "Epoch 15/50\n",
      "19/19 [==============================] - 7s 365ms/step - loss: 1.2915 - R2: 0.3421 - val_loss: 3.6396 - val_R2: -0.8161\n",
      "Epoch 16/50\n",
      "19/19 [==============================] - 10s 499ms/step - loss: 1.4374 - R2: 0.2289 - val_loss: 4.2825 - val_R2: -1.1601\n",
      "Epoch 17/50\n",
      "19/19 [==============================] - 5s 275ms/step - loss: 1.2585 - R2: 0.3495 - val_loss: 2.5670 - val_R2: -0.2841\n",
      "Epoch 18/50\n",
      "19/19 [==============================] - 5s 283ms/step - loss: 1.2746 - R2: 0.2805 - val_loss: 2.8265 - val_R2: -0.4275\n",
      "Epoch 19/50\n",
      "19/19 [==============================] - 6s 287ms/step - loss: 1.2332 - R2: 0.3803 - val_loss: 1.9708 - val_R2: 0.0199\n",
      "Epoch 20/50\n",
      "19/19 [==============================] - 6s 328ms/step - loss: 1.1856 - R2: 0.4025 - val_loss: 2.4485 - val_R2: -0.2254\n",
      "Epoch 21/50\n",
      "19/19 [==============================] - 10s 564ms/step - loss: 1.1790 - R2: 0.3934 - val_loss: 1.6687 - val_R2: 0.1721\n",
      "Epoch 22/50\n",
      "19/19 [==============================] - 9s 476ms/step - loss: 1.0552 - R2: 0.4544 - val_loss: 1.8430 - val_R2: 0.0891\n",
      "Epoch 23/50\n",
      "19/19 [==============================] - 9s 480ms/step - loss: 1.0334 - R2: 0.4686 - val_loss: 2.0638 - val_R2: -0.0182\n",
      "Epoch 24/50\n",
      "19/19 [==============================] - 6s 302ms/step - loss: 1.0805 - R2: 0.4136 - val_loss: 2.3277 - val_R2: -0.1611\n",
      "Epoch 25/50\n",
      "19/19 [==============================] - 5s 271ms/step - loss: 0.9733 - R2: 0.5022 - val_loss: 1.3261 - val_R2: 0.3424\n",
      "Epoch 26/50\n",
      "19/19 [==============================] - 6s 294ms/step - loss: 1.0049 - R2: 0.4925 - val_loss: 1.3199 - val_R2: 0.3431\n",
      "Epoch 27/50\n",
      "19/19 [==============================] - 6s 289ms/step - loss: 0.9543 - R2: 0.5210 - val_loss: 1.2953 - val_R2: 0.3573\n",
      "Epoch 28/50\n",
      "19/19 [==============================] - 6s 308ms/step - loss: 0.8903 - R2: 0.5337 - val_loss: 1.4521 - val_R2: 0.2705\n",
      "Epoch 29/50\n",
      "19/19 [==============================] - 6s 297ms/step - loss: 0.9436 - R2: 0.4915 - val_loss: 1.3930 - val_R2: 0.2982\n",
      "Epoch 30/50\n",
      "19/19 [==============================] - 6s 322ms/step - loss: 0.8514 - R2: 0.5685 - val_loss: 1.0181 - val_R2: 0.4943\n",
      "Epoch 31/50\n",
      "19/19 [==============================] - 7s 362ms/step - loss: 0.9660 - R2: 0.4980 - val_loss: 1.4280 - val_R2: 0.2909\n",
      "Epoch 32/50\n",
      "19/19 [==============================] - 6s 307ms/step - loss: 0.7969 - R2: 0.5843 - val_loss: 1.2191 - val_R2: 0.3960\n",
      "Epoch 33/50\n",
      "19/19 [==============================] - 6s 291ms/step - loss: 0.8559 - R2: 0.5702 - val_loss: 1.3420 - val_R2: 0.3437\n",
      "Epoch 34/50\n",
      "19/19 [==============================] - 5s 270ms/step - loss: 0.7690 - R2: 0.6098 - val_loss: 1.3523 - val_R2: 0.3294\n",
      "Epoch 35/50\n",
      "19/19 [==============================] - 9s 490ms/step - loss: 0.8172 - R2: 0.5488 - val_loss: 1.7591 - val_R2: 0.1094\n",
      "Epoch 36/50\n",
      "19/19 [==============================] - 8s 414ms/step - loss: 0.7580 - R2: 0.6126 - val_loss: 1.1639 - val_R2: 0.4311\n",
      "Epoch 37/50\n",
      "19/19 [==============================] - 7s 363ms/step - loss: 0.7264 - R2: 0.6255 - val_loss: 1.0326 - val_R2: 0.4942\n",
      "Epoch 38/50\n",
      "19/19 [==============================] - 7s 356ms/step - loss: 0.6605 - R2: 0.6563 - val_loss: 1.2790 - val_R2: 0.3762\n",
      "Epoch 39/50\n",
      "19/19 [==============================] - 9s 468ms/step - loss: 0.7278 - R2: 0.6278 - val_loss: 1.2512 - val_R2: 0.3845\n",
      "Epoch 40/50\n",
      "19/19 [==============================] - 8s 436ms/step - loss: 0.6904 - R2: 0.6557 - val_loss: 1.0109 - val_R2: 0.4990\n",
      "Epoch 41/50\n",
      "19/19 [==============================] - 10s 526ms/step - loss: 0.6775 - R2: 0.6505 - val_loss: 1.2255 - val_R2: 0.3887\n",
      "Epoch 42/50\n",
      "19/19 [==============================] - 10s 557ms/step - loss: 0.6807 - R2: 0.6517 - val_loss: 1.1256 - val_R2: 0.4451\n",
      "Epoch 43/50\n",
      "19/19 [==============================] - 8s 432ms/step - loss: 0.6337 - R2: 0.6500 - val_loss: 1.8555 - val_R2: 0.0815\n",
      "Epoch 44/50\n",
      "19/19 [==============================] - 9s 489ms/step - loss: 0.7032 - R2: 0.6254 - val_loss: 1.0990 - val_R2: 0.4560\n",
      "Epoch 45/50\n",
      "19/19 [==============================] - 14s 746ms/step - loss: 0.6247 - R2: 0.6779 - val_loss: 1.4274 - val_R2: 0.2990\n",
      "Epoch 46/50\n",
      "19/19 [==============================] - 9s 489ms/step - loss: 0.6141 - R2: 0.6821 - val_loss: 1.1571 - val_R2: 0.4287\n",
      "Epoch 47/50\n",
      "19/19 [==============================] - 6s 302ms/step - loss: 0.5662 - R2: 0.7111 - val_loss: 1.0581 - val_R2: 0.4738\n",
      "Epoch 48/50\n",
      "19/19 [==============================] - 6s 304ms/step - loss: 0.5547 - R2: 0.7165 - val_loss: 1.0447 - val_R2: 0.4810\n",
      "Epoch 49/50\n",
      "19/19 [==============================] - 8s 423ms/step - loss: 0.5277 - R2: 0.7272 - val_loss: 1.3740 - val_R2: 0.3124\n",
      "Epoch 50/50\n",
      "19/19 [==============================] - 10s 498ms/step - loss: 0.5782 - R2: 0.7033 - val_loss: 1.1081 - val_R2: 0.4525\n"
     ]
    }
   ],
   "source": [
    "model.compile(optimizer=RMSprop(learning_rate=0.001), loss='mse', metrics=[R2])\n",
    "history = model.fit(X_train, y_train, epochs=50, batch_size=64, validation_data=(X_test, y_test), callbacks=[])"
   ]
  },
  {
   "cell_type": "code",
   "execution_count": 108,
   "id": "cbaba9b8",
   "metadata": {},
   "outputs": [
    {
     "name": "stdout",
     "output_type": "stream",
     "text": [
      "Test Score: 0.4549366897309738\n"
     ]
    }
   ],
   "source": [
    "y_pred = model.predict(X_test)\n",
    "print(\"Test Score: {}\".format(r2_score(y_test,y_pred)))"
   ]
  },
  {
   "cell_type": "markdown",
   "id": "47f2c079",
   "metadata": {},
   "source": [
    "#### 04.02 Entreno LSTM completa"
   ]
  },
  {
   "cell_type": "code",
   "execution_count": 109,
   "id": "dd3a52aa",
   "metadata": {},
   "outputs": [
    {
     "name": "stdout",
     "output_type": "stream",
     "text": [
      "Model: \"Rat_LSTM_2\"\n",
      "_________________________________________________________________\n",
      "Layer (type)                 Output Shape              Param #   \n",
      "=================================================================\n",
      "embedding_1 (Embedding)      (None, 207, 64)           2496      \n",
      "_________________________________________________________________\n",
      "bidirectional_1 (Bidirection (None, 200)               132000    \n",
      "_________________________________________________________________\n",
      "dense_2 (Dense)              (None, 50)                10050     \n",
      "_________________________________________________________________\n",
      "batch_normalization_1 (Batch (None, 50)                200       \n",
      "_________________________________________________________________\n",
      "activation_1 (Activation)    (None, 50)                0         \n",
      "_________________________________________________________________\n",
      "dense_3 (Dense)              (None, 1)                 51        \n",
      "=================================================================\n",
      "Total params: 144,797\n",
      "Trainable params: 144,697\n",
      "Non-trainable params: 100\n",
      "_________________________________________________________________\n"
     ]
    }
   ],
   "source": [
    "embed_dim = 64\n",
    "\n",
    "model = Sequential(name='Rat_LSTM_2')\n",
    "model.add(Embedding(vocab_size + 1 , embed_dim, input_length=max_sequence_len, trainable=True))\n",
    "model.add(Bidirectional(LSTM(100, activation='tanh')))\n",
    "model.add(Dense(50))\n",
    "model.add(BatchNormalization())\n",
    "model.add(Activation('tanh'))\n",
    "model.add(Dense(1))\n",
    "\n",
    "# Implementar modelo completo\n",
    "model.summary()"
   ]
  },
  {
   "cell_type": "code",
   "execution_count": 110,
   "id": "69884772",
   "metadata": {},
   "outputs": [
    {
     "name": "stdout",
     "output_type": "stream",
     "text": [
      "Epoch 1/50\n",
      "19/19 [==============================] - 17s 628ms/step - loss: 34.2246 - R2: -16.5139 - val_loss: 31.2766 - val_R2: -14.6263\n",
      "Epoch 2/50\n",
      "19/19 [==============================] - 6s 328ms/step - loss: 28.1078 - R2: -13.6346 - val_loss: 24.2292 - val_R2: -11.1155\n",
      "Epoch 3/50\n",
      "19/19 [==============================] - 10s 504ms/step - loss: 23.5842 - R2: -11.0487 - val_loss: 19.9015 - val_R2: -8.9582\n",
      "Epoch 4/50\n",
      "19/19 [==============================] - 9s 479ms/step - loss: 19.4728 - R2: -8.8898 - val_loss: 13.4167 - val_R2: -5.7192\n",
      "Epoch 5/50\n",
      "19/19 [==============================] - 5s 273ms/step - loss: 15.7961 - R2: -7.0589 - val_loss: 10.2230 - val_R2: -4.1277\n",
      "Epoch 6/50\n",
      "19/19 [==============================] - 5s 275ms/step - loss: 12.3676 - R2: -5.4248 - val_loss: 7.3961 - val_R2: -2.7135\n",
      "Epoch 7/50\n",
      "19/19 [==============================] - 11s 550ms/step - loss: 9.5540 - R2: -3.9610 - val_loss: 12.8819 - val_R2: -5.4624\n",
      "Epoch 8/50\n",
      "19/19 [==============================] - 4s 234ms/step - loss: 7.0717 - R2: -2.8098 - val_loss: 13.5556 - val_R2: -5.8094\n",
      "Epoch 9/50\n",
      "19/19 [==============================] - 4s 228ms/step - loss: 5.6336 - R2: -1.9672 - val_loss: 6.9363 - val_R2: -2.4864\n",
      "Epoch 10/50\n",
      "19/19 [==============================] - 4s 232ms/step - loss: 3.6272 - R2: -0.9268 - val_loss: 4.2526 - val_R2: -1.1478\n",
      "Epoch 11/50\n",
      "19/19 [==============================] - 8s 447ms/step - loss: 2.8566 - R2: -0.4436 - val_loss: 6.0856 - val_R2: -2.0762\n",
      "Epoch 12/50\n",
      "19/19 [==============================] - 11s 596ms/step - loss: 2.3464 - R2: -0.1966 - val_loss: 4.2727 - val_R2: -1.1461\n",
      "Epoch 13/50\n",
      "19/19 [==============================] - 8s 439ms/step - loss: 1.8000 - R2: 0.0825 - val_loss: 4.0757 - val_R2: -1.0505\n",
      "Epoch 14/50\n",
      "19/19 [==============================] - 8s 437ms/step - loss: 1.5965 - R2: 0.1698 - val_loss: 3.8452 - val_R2: -0.9386\n",
      "Epoch 15/50\n",
      "19/19 [==============================] - 10s 518ms/step - loss: 1.4501 - R2: 0.2555 - val_loss: 3.7176 - val_R2: -0.8793\n",
      "Epoch 16/50\n",
      "19/19 [==============================] - 10s 537ms/step - loss: 1.5507 - R2: 0.2083 - val_loss: 3.4211 - val_R2: -0.7365\n",
      "Epoch 17/50\n",
      "19/19 [==============================] - 10s 532ms/step - loss: 1.4607 - R2: 0.2495 - val_loss: 2.8208 - val_R2: -0.4248\n",
      "Epoch 18/50\n",
      "19/19 [==============================] - 8s 391ms/step - loss: 1.5857 - R2: 0.1725 - val_loss: 3.0491 - val_R2: -0.5336\n",
      "Epoch 19/50\n",
      "19/19 [==============================] - 6s 292ms/step - loss: 1.3246 - R2: 0.3245 - val_loss: 1.9640 - val_R2: 0.0149\n",
      "Epoch 20/50\n",
      "19/19 [==============================] - 6s 290ms/step - loss: 1.8118 - R2: 0.0545 - val_loss: 4.7913 - val_R2: -1.4086\n",
      "Epoch 21/50\n",
      "19/19 [==============================] - 6s 292ms/step - loss: 1.2168 - R2: 0.3639 - val_loss: 5.7344 - val_R2: -1.8724\n",
      "Epoch 22/50\n",
      "19/19 [==============================] - 9s 488ms/step - loss: 1.1262 - R2: 0.3986 - val_loss: 5.4905 - val_R2: -1.7659\n",
      "Epoch 23/50\n",
      "19/19 [==============================] - 10s 512ms/step - loss: 1.1546 - R2: 0.4093 - val_loss: 5.3446 - val_R2: -1.6823\n",
      "Epoch 24/50\n",
      "19/19 [==============================] - 17s 848ms/step - loss: 1.1472 - R2: 0.3940 - val_loss: 8.3870 - val_R2: -3.1866\n",
      "Epoch 25/50\n",
      "19/19 [==============================] - 17s 871ms/step - loss: 1.1338 - R2: 0.4111 - val_loss: 4.3369 - val_R2: -1.1757\n",
      "Epoch 26/50\n",
      "19/19 [==============================] - 22s 1s/step - loss: 1.2163 - R2: 0.2537 - val_loss: 3.0025 - val_R2: -0.5137\n",
      "Epoch 27/50\n",
      "19/19 [==============================] - 7s 390ms/step - loss: 1.1353 - R2: 0.4171 - val_loss: 5.0943 - val_R2: -1.5372\n",
      "Epoch 28/50\n",
      "19/19 [==============================] - 7s 374ms/step - loss: 0.9960 - R2: 0.4967 - val_loss: 5.1480 - val_R2: -1.5607\n",
      "Epoch 29/50\n",
      "19/19 [==============================] - 7s 379ms/step - loss: 1.1888 - R2: 0.2861 - val_loss: 3.4411 - val_R2: -0.7313\n",
      "Epoch 30/50\n",
      "19/19 [==============================] - 10s 513ms/step - loss: 0.9955 - R2: 0.4972 - val_loss: 1.9914 - val_R2: 0.0076\n",
      "Epoch 31/50\n",
      "19/19 [==============================] - 10s 543ms/step - loss: 0.9355 - R2: 0.5163 - val_loss: 1.7257 - val_R2: 0.1480\n",
      "Epoch 32/50\n",
      "19/19 [==============================] - 11s 592ms/step - loss: 1.0943 - R2: 0.4246 - val_loss: 7.8795 - val_R2: -2.9407\n",
      "Epoch 33/50\n",
      "19/19 [==============================] - 7s 361ms/step - loss: 0.9396 - R2: 0.5172 - val_loss: 4.8032 - val_R2: -1.3897\n",
      "Epoch 34/50\n",
      "19/19 [==============================] - 11s 584ms/step - loss: 1.0565 - R2: 0.4744 - val_loss: 1.5590 - val_R2: 0.2234\n",
      "Epoch 35/50\n",
      "19/19 [==============================] - 12s 603ms/step - loss: 1.0283 - R2: 0.4701 - val_loss: 1.2250 - val_R2: 0.3817\n",
      "Epoch 36/50\n",
      "19/19 [==============================] - 14s 761ms/step - loss: 0.9013 - R2: 0.5272 - val_loss: 1.2694 - val_R2: 0.3665\n",
      "Epoch 37/50\n",
      "19/19 [==============================] - 12s 664ms/step - loss: 0.8964 - R2: 0.5424 - val_loss: 2.0032 - val_R2: 0.0077\n",
      "Epoch 38/50\n",
      "19/19 [==============================] - 14s 731ms/step - loss: 0.8264 - R2: 0.5756 - val_loss: 1.6345 - val_R2: 0.1842\n",
      "Epoch 39/50\n",
      "19/19 [==============================] - 12s 613ms/step - loss: 0.8635 - R2: 0.5525 - val_loss: 4.9317 - val_R2: -1.4320\n",
      "Epoch 40/50\n",
      "19/19 [==============================] - 16s 869ms/step - loss: 0.8688 - R2: 0.5557 - val_loss: 1.6978 - val_R2: 0.1451\n",
      "Epoch 41/50\n",
      "19/19 [==============================] - 12s 640ms/step - loss: 0.7976 - R2: 0.5927 - val_loss: 2.4904 - val_R2: -0.2371\n",
      "Epoch 42/50\n",
      "19/19 [==============================] - 8s 398ms/step - loss: 0.8756 - R2: 0.5481 - val_loss: 1.1923 - val_R2: 0.4050\n",
      "Epoch 43/50\n",
      "19/19 [==============================] - 6s 335ms/step - loss: 0.8188 - R2: 0.5846 - val_loss: 1.8646 - val_R2: 0.0761\n",
      "Epoch 44/50\n",
      "19/19 [==============================] - 9s 487ms/step - loss: 0.7786 - R2: 0.6071 - val_loss: 2.2984 - val_R2: -0.1402\n",
      "Epoch 45/50\n",
      "19/19 [==============================] - 6s 326ms/step - loss: 0.7637 - R2: 0.6146 - val_loss: 1.2460 - val_R2: 0.3806\n",
      "Epoch 46/50\n",
      "19/19 [==============================] - 13s 700ms/step - loss: 0.7767 - R2: 0.5941 - val_loss: 1.3609 - val_R2: 0.3136\n",
      "Epoch 47/50\n",
      "19/19 [==============================] - 8s 419ms/step - loss: 0.7730 - R2: 0.6099 - val_loss: 2.0024 - val_R2: -0.0050\n",
      "Epoch 48/50\n",
      "19/19 [==============================] - 7s 347ms/step - loss: 0.7774 - R2: 0.6055 - val_loss: 1.4331 - val_R2: 0.2798\n",
      "Epoch 49/50\n",
      "19/19 [==============================] - 9s 460ms/step - loss: 0.7437 - R2: 0.6239 - val_loss: 1.3706 - val_R2: 0.3221\n",
      "Epoch 50/50\n",
      "19/19 [==============================] - 15s 801ms/step - loss: 0.7096 - R2: 0.6383 - val_loss: 1.1523 - val_R2: 0.4276\n"
     ]
    }
   ],
   "source": [
    "model.compile(optimizer=RMSprop(learning_rate=0.001), loss='mse', metrics=[R2])\n",
    "history = model.fit(X_train, y_train, epochs=50, batch_size=64, validation_data=(X_test, y_test), callbacks=[])"
   ]
  },
  {
   "cell_type": "code",
   "execution_count": 111,
   "id": "d7d14fc0",
   "metadata": {},
   "outputs": [
    {
     "name": "stdout",
     "output_type": "stream",
     "text": [
      "Test Score: 0.43317713748593045\n"
     ]
    }
   ],
   "source": [
    "y_pred = model.predict(X_test)\n",
    "print(\"Test Score: {}\".format(r2_score(y_test,y_pred)))"
   ]
  },
  {
   "cell_type": "markdown",
   "id": "8486dc31",
   "metadata": {},
   "source": [
    "Se logra un mejor Score tras 50 Epochs usando los Embedings Pre-Entrenados"
   ]
  }
 ],
 "metadata": {
  "kernelspec": {
   "display_name": "Python 3.9.13 ('final_project_bioinformatics')",
   "language": "python",
   "name": "python3"
  },
  "language_info": {
   "codemirror_mode": {
    "name": "ipython",
    "version": 3
   },
   "file_extension": ".py",
   "mimetype": "text/x-python",
   "name": "python",
   "nbconvert_exporter": "python",
   "pygments_lexer": "ipython3",
   "version": "3.9.13"
  },
  "vscode": {
   "interpreter": {
    "hash": "0c1c819bf5c658a6f1dc770ae4d100477099cd777ed42a621215178ec7cfa3b7"
   }
  }
 },
 "nbformat": 4,
 "nbformat_minor": 5
}
