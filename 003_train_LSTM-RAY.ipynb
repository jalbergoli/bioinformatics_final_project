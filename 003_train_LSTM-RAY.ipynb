{
 "cells": [
  {
   "cell_type": "code",
   "execution_count": 1,
   "id": "21bee0a3-79a7-43b2-9ac2-15cad5630e22",
   "metadata": {},
   "outputs": [],
   "source": [
    "import pandas as pd\n",
    "import numpy as np"
   ]
  },
  {
   "cell_type": "markdown",
   "id": "08544474-e883-4105-bcc3-9f3f9f014079",
   "metadata": {},
   "source": [
    "# Modelo Recurrentes con Embeddings a nivel de caracter"
   ]
  },
  {
   "cell_type": "code",
   "execution_count": 2,
   "id": "353a2d75-f0f4-4563-9842-c68d77118161",
   "metadata": {},
   "outputs": [],
   "source": [
    "df = pd.read_csv('data/acetylcholinesterase_02_bioactivity_data_preprocessed.csv')"
   ]
  },
  {
   "cell_type": "code",
   "execution_count": 3,
   "id": "d1554fa5-d9ee-456c-be20-80571e319fc6",
   "metadata": {},
   "outputs": [
    {
     "data": {
      "text/html": [
       "<div>\n",
       "<style scoped>\n",
       "    .dataframe tbody tr th:only-of-type {\n",
       "        vertical-align: middle;\n",
       "    }\n",
       "\n",
       "    .dataframe tbody tr th {\n",
       "        vertical-align: top;\n",
       "    }\n",
       "\n",
       "    .dataframe thead th {\n",
       "        text-align: right;\n",
       "    }\n",
       "</style>\n",
       "<table border=\"1\" class=\"dataframe\">\n",
       "  <thead>\n",
       "    <tr style=\"text-align: right;\">\n",
       "      <th></th>\n",
       "      <th>molecule_chembl_id</th>\n",
       "      <th>canonical_smiles</th>\n",
       "      <th>standard_value</th>\n",
       "      <th>standard_value_norm</th>\n",
       "      <th>pIC50</th>\n",
       "    </tr>\n",
       "  </thead>\n",
       "  <tbody>\n",
       "    <tr>\n",
       "      <th>0</th>\n",
       "      <td>CHEMBL133897</td>\n",
       "      <td>CCOc1nn(-c2cccc(OCc3ccccc3)c2)c(=O)o1</td>\n",
       "      <td>750.0</td>\n",
       "      <td>750.0</td>\n",
       "      <td>6.124939</td>\n",
       "    </tr>\n",
       "    <tr>\n",
       "      <th>1</th>\n",
       "      <td>CHEMBL336398</td>\n",
       "      <td>O=C(N1CCCCC1)n1nc(-c2ccc(Cl)cc2)nc1SCC1CC1</td>\n",
       "      <td>100.0</td>\n",
       "      <td>100.0</td>\n",
       "      <td>7.000000</td>\n",
       "    </tr>\n",
       "    <tr>\n",
       "      <th>2</th>\n",
       "      <td>CHEMBL131588</td>\n",
       "      <td>CN(C(=O)n1nc(-c2ccc(Cl)cc2)nc1SCC(F)(F)F)c1ccccc1</td>\n",
       "      <td>50000.0</td>\n",
       "      <td>50000.0</td>\n",
       "      <td>4.301030</td>\n",
       "    </tr>\n",
       "    <tr>\n",
       "      <th>3</th>\n",
       "      <td>CHEMBL130628</td>\n",
       "      <td>O=C(N1CCCCC1)n1nc(-c2ccc(Cl)cc2)nc1SCC(F)(F)F</td>\n",
       "      <td>300.0</td>\n",
       "      <td>300.0</td>\n",
       "      <td>6.522879</td>\n",
       "    </tr>\n",
       "    <tr>\n",
       "      <th>4</th>\n",
       "      <td>CHEMBL130478</td>\n",
       "      <td>CSc1nc(-c2ccc(OC(F)(F)F)cc2)nn1C(=O)N(C)C</td>\n",
       "      <td>800.0</td>\n",
       "      <td>800.0</td>\n",
       "      <td>6.096910</td>\n",
       "    </tr>\n",
       "    <tr>\n",
       "      <th>...</th>\n",
       "      <td>...</td>\n",
       "      <td>...</td>\n",
       "      <td>...</td>\n",
       "      <td>...</td>\n",
       "      <td>...</td>\n",
       "    </tr>\n",
       "    <tr>\n",
       "      <th>5658</th>\n",
       "      <td>CHEMBL4779440</td>\n",
       "      <td>Brc1ccc([N+]2=Cc3ccccc3CC2)cc1.[Br-]</td>\n",
       "      <td>10500.0</td>\n",
       "      <td>10500.0</td>\n",
       "      <td>4.978811</td>\n",
       "    </tr>\n",
       "    <tr>\n",
       "      <th>5659</th>\n",
       "      <td>CHEMBL417799</td>\n",
       "      <td>C[n+]1cc2c3c(ccc2c2ccc4cc5c(cc4c21)OCO5)OCO3</td>\n",
       "      <td>1220.0</td>\n",
       "      <td>1220.0</td>\n",
       "      <td>5.913640</td>\n",
       "    </tr>\n",
       "    <tr>\n",
       "      <th>5660</th>\n",
       "      <td>CHEMBL13045</td>\n",
       "      <td>COc1ccc2c(c[n+](C)c3c4cc5c(cc4ccc23)OCO5)c1OC</td>\n",
       "      <td>1450.0</td>\n",
       "      <td>1450.0</td>\n",
       "      <td>5.838632</td>\n",
       "    </tr>\n",
       "    <tr>\n",
       "      <th>5661</th>\n",
       "      <td>CHEMBL3085398</td>\n",
       "      <td>C=CC(C)(C)c1cc([C@@H]2CC(=O)c3c(O)cc(O)c(CC=C(...</td>\n",
       "      <td>28980.0</td>\n",
       "      <td>28980.0</td>\n",
       "      <td>4.537902</td>\n",
       "    </tr>\n",
       "    <tr>\n",
       "      <th>5662</th>\n",
       "      <td>CHEMBL253998</td>\n",
       "      <td>CC(C)=CCc1c(O)cc(O)c2c1O[C@H](c1ccccc1)CC2=O</td>\n",
       "      <td>6.4</td>\n",
       "      <td>6.4</td>\n",
       "      <td>8.193820</td>\n",
       "    </tr>\n",
       "  </tbody>\n",
       "</table>\n",
       "<p>5663 rows × 5 columns</p>\n",
       "</div>"
      ],
      "text/plain": [
       "     molecule_chembl_id                                   canonical_smiles  \\\n",
       "0          CHEMBL133897              CCOc1nn(-c2cccc(OCc3ccccc3)c2)c(=O)o1   \n",
       "1          CHEMBL336398         O=C(N1CCCCC1)n1nc(-c2ccc(Cl)cc2)nc1SCC1CC1   \n",
       "2          CHEMBL131588  CN(C(=O)n1nc(-c2ccc(Cl)cc2)nc1SCC(F)(F)F)c1ccccc1   \n",
       "3          CHEMBL130628      O=C(N1CCCCC1)n1nc(-c2ccc(Cl)cc2)nc1SCC(F)(F)F   \n",
       "4          CHEMBL130478          CSc1nc(-c2ccc(OC(F)(F)F)cc2)nn1C(=O)N(C)C   \n",
       "...                 ...                                                ...   \n",
       "5658      CHEMBL4779440               Brc1ccc([N+]2=Cc3ccccc3CC2)cc1.[Br-]   \n",
       "5659       CHEMBL417799       C[n+]1cc2c3c(ccc2c2ccc4cc5c(cc4c21)OCO5)OCO3   \n",
       "5660        CHEMBL13045      COc1ccc2c(c[n+](C)c3c4cc5c(cc4ccc23)OCO5)c1OC   \n",
       "5661      CHEMBL3085398  C=CC(C)(C)c1cc([C@@H]2CC(=O)c3c(O)cc(O)c(CC=C(...   \n",
       "5662       CHEMBL253998       CC(C)=CCc1c(O)cc(O)c2c1O[C@H](c1ccccc1)CC2=O   \n",
       "\n",
       "      standard_value  standard_value_norm     pIC50  \n",
       "0              750.0                750.0  6.124939  \n",
       "1              100.0                100.0  7.000000  \n",
       "2            50000.0              50000.0  4.301030  \n",
       "3              300.0                300.0  6.522879  \n",
       "4              800.0                800.0  6.096910  \n",
       "...              ...                  ...       ...  \n",
       "5658         10500.0              10500.0  4.978811  \n",
       "5659          1220.0               1220.0  5.913640  \n",
       "5660          1450.0               1450.0  5.838632  \n",
       "5661         28980.0              28980.0  4.537902  \n",
       "5662             6.4                  6.4  8.193820  \n",
       "\n",
       "[5663 rows x 5 columns]"
      ]
     },
     "execution_count": 3,
     "metadata": {},
     "output_type": "execute_result"
    }
   ],
   "source": [
    "df"
   ]
  },
  {
   "cell_type": "markdown",
   "id": "2985df76-23b9-45a8-83ed-ce8ae510219f",
   "metadata": {},
   "source": [
    "# Canonical_smiles To secuence"
   ]
  },
  {
   "cell_type": "code",
   "execution_count": 4,
   "id": "87e524d2-e7e9-4d3b-b1f1-b62254a0bc66",
   "metadata": {},
   "outputs": [],
   "source": [
    "from tensorflow.keras.preprocessing.text import Tokenizer\n",
    "from tensorflow.keras.preprocessing.sequence import pad_sequences"
   ]
  },
  {
   "cell_type": "markdown",
   "id": "b524afd5-79ed-433d-827b-ac04510ae8ad",
   "metadata": {},
   "source": [
    "Utilizando Tokenizer y pad_sequences de keras a nivel de caracter, obtener la entrada tokenizada. Por ejemplo:\n",
    "\n",
    "**El smiles**:\n",
    "\n",
    "'C[C@@]12CC[C@H]3[C@]4(C)CCC[C@@]5(C)C(=O)OCC[N+](C)(C)CCCCCCCCC[N+](C)(C)CCOC(=O)[C@]6(C)CCC[C@]7(C)[C@@H]6CC[C@@]68C[C@@H](OC(=O)CCCCCCCCC(=O)O[C@@H]1C[C@@]3(CC[C@@H]45)C2)[C@@](C)(CC[C@@H]76)C8.[Br-].[Br-]'\n",
    "\n",
    "**Tendría que quedar algo asi (puede que no sea exacto):**\n",
    "\n",
    "array([ 2, 11,  2, 13, 13, 12,  5,  7,  2,  2, 11,  2, 13, 16, 12, 10, 11,\n",
    "        2, 13, 12, 15,  3,  2,  4,  2,  2,  2, 11,  2, 13, 13, 12, 23,  3,\n",
    "        2,  4,  2,  3,  9,  6,  4,  6,  2,  2, 11,  8, 21, 12,  3,  2,  4,\n",
    "        3,  2,  4,  2,  2,  2,  2,  2,  2,  2,  2,  2, 11,  8, 21, 12,  3,\n",
    "        2,  4,  3,  2,  4,  2,  2,  6,  2,  3,  9,  6,  4, 11,  2, 13, 12,\n",
    "       30,  3,  2,  4,  2,  2,  2, 11,  2, 13, 12, 35,  3,  2,  4, 11,  2,\n",
    "       13, 13, 16, 12, 30,  2,  2, 11,  2, 13, 13, 12, 30, 36,  2, 11,  2,\n",
    "       13, 13, 16, 12,  3,  6,  2,  3,  9,  6,  4,  2,  2,  2,  2,  2,  2,\n",
    "        2,  2,  2,  3,  9,  6,  4,  6, 11,  2, 13, 13, 16, 12,  5,  2, 11,\n",
    "        2, 13, 13, 12, 10,  3,  2,  2, 11,  2, 13, 13, 16, 12, 15, 23,  4,\n",
    "        2,  7,  4, 11,  2, 13, 13, 12,  3,  2,  4,  3,  2,  2, 11,  2, 13,\n",
    "       13, 16, 12, 35, 30,  4,  2, 36, 20, 11, 25, 26, 17, 12, 20, 11, 25,\n",
    "       26, 17, 12], dtype=int32)\n",
    "       \n",
    "\n",
    "**Otro ejemplo:**\n",
    "smiles: 'NC(=O)O'\n",
    "\n",
    "array([0, 0, 0, 0, 0, 0, 0, 0, 0, 0, 0, 0, 0, 0, 0, 0, 0, 0, 0, 0, 0, 0,\n",
    "       0, 0, 0, 0, 0, 0, 0, 0, 0, 0, 0, 0, 0, 0, 0, 0, 0, 0, 0, 0, 0, 0,\n",
    "       0, 0, 0, 0, 0, 0, 0, 0, 0, 0, 0, 0, 0, 0, 0, 0, 0, 0, 0, 0, 0, 0,\n",
    "       0, 0, 0, 0, 0, 0, 0, 0, 0, 0, 0, 0, 0, 0, 0, 0, 0, 0, 0, 0, 0, 0,\n",
    "       0, 0, 0, 0, 0, 0, 0, 0, 0, 0, 0, 0, 0, 0, 0, 0, 0, 0, 0, 0, 0, 0,\n",
    "       0, 0, 0, 0, 0, 0, 0, 0, 0, 0, 0, 0, 0, 0, 0, 0, 0, 0, 0, 0, 0, 0,\n",
    "       0, 0, 0, 0, 0, 0, 0, 0, 0, 0, 0, 0, 0, 0, 0, 0, 0, 0, 0, 0, 0, 0,\n",
    "       0, 0, 0, 0, 0, 0, 0, 0, 0, 0, 0, 0, 0, 0, 0, 0, 0, 0, 0, 0, 0, 0,\n",
    "       0, 0, 0, 0, 0, 0, 0, 0, 0, 0, 0, 0, 0, 0, 0, 0, 0, 0, 0, 0, 0, 0,\n",
    "       0, 0, 8, 2, 3, 9, 6, 4, 6], dtype=int32)\n",
    "\n",
    "**Tener en cuenta:**\n",
    "\n",
    "- Ver cuanta es la máxima longitud para agregar el padding correspondiente\n",
    "- En el ejemplo se agrego padding a la izquierda"
   ]
  },
  {
   "cell_type": "code",
   "execution_count": 5,
   "id": "07f8fff5-c1f6-48d6-9e19-ee5defde20b1",
   "metadata": {},
   "outputs": [],
   "source": [
    "max_len_idx = df['canonical_smiles'].apply(len).argmax()\n",
    "min_len_idx = df['canonical_smiles'].apply(len).argmin()"
   ]
  },
  {
   "cell_type": "code",
   "execution_count": 6,
   "id": "703325ab-0193-4bf5-9b66-a880d7bc346b",
   "metadata": {},
   "outputs": [
    {
     "data": {
      "text/html": [
       "<div>\n",
       "<style scoped>\n",
       "    .dataframe tbody tr th:only-of-type {\n",
       "        vertical-align: middle;\n",
       "    }\n",
       "\n",
       "    .dataframe tbody tr th {\n",
       "        vertical-align: top;\n",
       "    }\n",
       "\n",
       "    .dataframe thead th {\n",
       "        text-align: right;\n",
       "    }\n",
       "</style>\n",
       "<table border=\"1\" class=\"dataframe\">\n",
       "  <thead>\n",
       "    <tr style=\"text-align: right;\">\n",
       "      <th></th>\n",
       "      <th>molecule_chembl_id</th>\n",
       "      <th>canonical_smiles</th>\n",
       "      <th>standard_value</th>\n",
       "      <th>standard_value_norm</th>\n",
       "      <th>pIC50</th>\n",
       "    </tr>\n",
       "  </thead>\n",
       "  <tbody>\n",
       "    <tr>\n",
       "      <th>0</th>\n",
       "      <td>CHEMBL133897</td>\n",
       "      <td>CCOc1nn(-c2cccc(OCc3ccccc3)c2)c(=O)o1</td>\n",
       "      <td>750.0</td>\n",
       "      <td>750.0</td>\n",
       "      <td>6.124939</td>\n",
       "    </tr>\n",
       "  </tbody>\n",
       "</table>\n",
       "</div>"
      ],
      "text/plain": [
       "  molecule_chembl_id                       canonical_smiles  standard_value  \\\n",
       "0       CHEMBL133897  CCOc1nn(-c2cccc(OCc3ccccc3)c2)c(=O)o1           750.0   \n",
       "\n",
       "   standard_value_norm     pIC50  \n",
       "0                750.0  6.124939  "
      ]
     },
     "execution_count": 6,
     "metadata": {},
     "output_type": "execute_result"
    }
   ],
   "source": [
    "X = df['canonical_smiles']\n",
    "y = df['pIC50']\n",
    "df.head(1)"
   ]
  },
  {
   "cell_type": "code",
   "execution_count": 7,
   "id": "e108ad24-244b-46d1-8547-2b5fcb2173b6",
   "metadata": {},
   "outputs": [],
   "source": [
    "df['canonical_len'] = df['canonical_smiles'].apply(lambda x: len(x))\n",
    "max_sequence_len = df['canonical_len'].max()"
   ]
  },
  {
   "cell_type": "code",
   "execution_count": 8,
   "id": "bc3cf4ca-38b1-4d56-90ba-8de6bbc7e1c1",
   "metadata": {},
   "outputs": [],
   "source": [
    "# Implementar tokenización y guardar en X_seq_pad el dataset tokenizado\n",
    "tokenizer = Tokenizer(\n",
    "    num_words = None,\n",
    "    filters='',\n",
    "    lower=False,\n",
    "    split=' ',\n",
    "    char_level=True,\n",
    "    oov_token=None)\n",
    "\n",
    "tokenizer.fit_on_texts(X)\n",
    "X_seq = tokenizer.texts_to_sequences(X)\n",
    "\n",
    "X_seq_pad = pad_sequences(X_seq, maxlen=max_sequence_len)"
   ]
  },
  {
   "cell_type": "code",
   "execution_count": 9,
   "id": "23aeb19c-7c63-45ac-ad7a-9a9345ae6e13",
   "metadata": {},
   "outputs": [
    {
     "data": {
      "text/plain": [
       "38"
      ]
     },
     "execution_count": 9,
     "metadata": {},
     "output_type": "execute_result"
    }
   ],
   "source": [
    "len(tokenizer.word_index)"
   ]
  },
  {
   "cell_type": "markdown",
   "id": "4233710d-9274-4dae-b22d-cf42b57ad862",
   "metadata": {},
   "source": [
    "# Split"
   ]
  },
  {
   "cell_type": "code",
   "execution_count": 10,
   "id": "ce7a95e6-2486-42fb-97fb-865e3fd6a561",
   "metadata": {},
   "outputs": [],
   "source": [
    "from sklearn.model_selection import train_test_split"
   ]
  },
  {
   "cell_type": "code",
   "execution_count": 11,
   "id": "fcb9840f-2f41-45be-99a5-f05f3ab73ed8",
   "metadata": {},
   "outputs": [],
   "source": [
    "X_train, X_test, y_train, y_test = train_test_split(X_seq_pad, y, test_size=0.2, random_state=42)"
   ]
  },
  {
   "cell_type": "code",
   "execution_count": 12,
   "id": "4ad17134-3e15-42d1-b8c9-0c793169e145",
   "metadata": {},
   "outputs": [
    {
     "data": {
      "text/plain": [
       "(4530, 4530, 1133)"
      ]
     },
     "execution_count": 12,
     "metadata": {},
     "output_type": "execute_result"
    }
   ],
   "source": [
    "len(X_train), len(y_train), len(X_test)"
   ]
  },
  {
   "cell_type": "markdown",
   "id": "85941430-2534-4d7d-ba52-d934a31c1bf6",
   "metadata": {},
   "source": [
    "# Network Model"
   ]
  },
  {
   "cell_type": "code",
   "execution_count": 13,
   "id": "6bd5d1bf-4640-4cbc-acd3-72881ddcc07e",
   "metadata": {},
   "outputs": [],
   "source": [
    "from tensorflow.keras import Sequential\n",
    "from tensorflow.keras.layers import LSTM, Dense, Embedding, Bidirectional, Dropout, Activation, BatchNormalization\n",
    "from tensorflow.keras.callbacks import ModelCheckpoint, EarlyStopping\n",
    "from tensorflow.keras.optimizers import Adam, RMSprop\n",
    "from tensorflow.keras import backend as K"
   ]
  },
  {
   "cell_type": "code",
   "execution_count": 14,
   "id": "4bf115a2-9f1b-42b8-9b62-59728f1da977",
   "metadata": {},
   "outputs": [],
   "source": [
    "# Métrica\n",
    "def R2(y_true, y_pred):\n",
    "    SS_res =  K.sum(K.square( y_true - y_pred ))\n",
    "    SS_tot = K.sum(K.square( y_true - K.mean(y_true) ) )\n",
    "    return ( 1 - SS_res/(SS_tot + K.epsilon()) )"
   ]
  },
  {
   "cell_type": "code",
   "execution_count": 15,
   "id": "92d30b68-3110-459c-887d-a06f056d067b",
   "metadata": {},
   "outputs": [
    {
     "data": {
      "text/plain": [
       "38"
      ]
     },
     "execution_count": 15,
     "metadata": {},
     "output_type": "execute_result"
    }
   ],
   "source": [
    "# vocab_size = # Completar largo del vocabulario\n",
    "vocab_size = len(tokenizer.word_index)\n",
    "vocab_size"
   ]
  },
  {
   "cell_type": "code",
   "execution_count": 16,
   "id": "6166a72b-ccd1-459c-a3a1-fa43bf31a369",
   "metadata": {},
   "outputs": [
    {
     "data": {
      "text/plain": [
       "207"
      ]
     },
     "execution_count": 16,
     "metadata": {},
     "output_type": "execute_result"
    }
   ],
   "source": [
    "max_sequence_len = df['canonical_len'].max()\n",
    "max_sequence_len"
   ]
  },
  {
   "cell_type": "markdown",
   "id": "cc91cd42-b885-4ab5-b348-57296b0c0d10",
   "metadata": {},
   "source": [
    "# Armar modelo en keras de LSTM\n",
    "El de abajo es un ejemplo propuesto pero puede armar otro similar (siempre con LSTM o GRU)"
   ]
  },
  {
   "cell_type": "raw",
   "id": "9883ed67-e2d9-412a-8f8b-1e463df69ed8",
   "metadata": {},
   "source": [
    "Model: \"sequential\"\n",
    "_________________________________________________________________\n",
    "Layer (type)                 Output Shape              Param #   \n",
    "=================================================================\n",
    "embedding (Embedding)        (None, 207, 64)           2496      \n",
    "_________________________________________________________________\n",
    "bidirectional (Bidirectional (None, 200)               132000    \n",
    "_________________________________________________________________\n",
    "dense (Dense)                (None, 50)                10050     \n",
    "_________________________________________________________________\n",
    "batch_normalization (BatchNo (None, 50)                200       \n",
    "_________________________________________________________________\n",
    "activation (Activation)      (None, 50)                0         \n",
    "_________________________________________________________________\n",
    "dense_1 (Dense)              (None, 1)                 51        \n",
    "=================================================================\n",
    "Total params: 144,797\n",
    "Trainable params: 144,697\n",
    "Non-trainable params: 100\n",
    "_________________________________________________________________"
   ]
  },
  {
   "cell_type": "code",
   "execution_count": 17,
   "id": "d05209e0-5358-40c0-b806-2e98367e9f1c",
   "metadata": {},
   "outputs": [
    {
     "name": "stdout",
     "output_type": "stream",
     "text": [
      "Model: \"LSTM_1\"\n",
      "_________________________________________________________________\n",
      " Layer (type)                Output Shape              Param #   \n",
      "=================================================================\n",
      " embedding (Embedding)       (None, 207, 32)           1248      \n",
      "                                                                 \n",
      " bidirectional (Bidirectiona  (None, 200)              106400    \n",
      " l)                                                              \n",
      "                                                                 \n",
      " dense (Dense)               (None, 50)                10050     \n",
      "                                                                 \n",
      " batch_normalization (BatchN  (None, 50)               200       \n",
      " ormalization)                                                   \n",
      "                                                                 \n",
      " activation (Activation)     (None, 50)                0         \n",
      "                                                                 \n",
      " dense_1 (Dense)             (None, 1)                 51        \n",
      "                                                                 \n",
      "=================================================================\n",
      "Total params: 117,949\n",
      "Trainable params: 117,849\n",
      "Non-trainable params: 100\n",
      "_________________________________________________________________\n"
     ]
    }
   ],
   "source": [
    "embed_dim = 32\n",
    "nb_words = vocab_size\n",
    "\n",
    "model = Sequential(name='LSTM_1')\n",
    "model.add(Embedding(nb_words + 1 , embed_dim, input_length=max_sequence_len, trainable=True))\n",
    "model.add(Bidirectional(LSTM(100, activation='tanh')))\n",
    "model.add(Dense(50))\n",
    "model.add(BatchNormalization())\n",
    "model.add(Activation('tanh'))\n",
    "model.add(Dense(1))\n",
    "\n",
    "# Implementar modelo completo\n",
    "model.summary()\n"
   ]
  },
  {
   "cell_type": "code",
   "execution_count": 18,
   "id": "9138b411-fc5d-41bd-8c8e-c12580cc5b14",
   "metadata": {},
   "outputs": [],
   "source": [
    "model.compile(optimizer=RMSprop(learning_rate=0.001), loss='mse', metrics=[R2])"
   ]
  },
  {
   "cell_type": "code",
   "execution_count": 19,
   "id": "62c3f792-f413-4150-8ebf-1f59c5fb986d",
   "metadata": {},
   "outputs": [],
   "source": [
    "mcp = ModelCheckpoint('models/best_model_{epoch}', save_best_only=True, save_format=\"h5\")"
   ]
  },
  {
   "cell_type": "code",
   "execution_count": 20,
   "id": "cccff0d4-419b-4f56-a16b-754246a925c7",
   "metadata": {},
   "outputs": [],
   "source": [
    "es = EarlyStopping(\n",
    "    monitor=\"val_loss\",\n",
    "    min_delta=0,\n",
    "    patience=10,\n",
    "    verbose=0,\n",
    "    mode=\"auto\",\n",
    "    baseline=None,\n",
    "    restore_best_weights=True)"
   ]
  },
  {
   "cell_type": "code",
   "execution_count": 21,
   "id": "9984f618-bad3-4b28-bad2-0a958f6fd77a",
   "metadata": {},
   "outputs": [],
   "source": [
    "pd.set_option('display.max_columns', 50)"
   ]
  },
  {
   "cell_type": "code",
   "execution_count": 22,
   "id": "3f37ab4e-0e3a-44c6-a572-ba5c67930c61",
   "metadata": {},
   "outputs": [
    {
     "name": "stdout",
     "output_type": "stream",
     "text": [
      "Epoch 1/100\n",
      "26/36 [====================>.........] - ETA: 31s - loss: 32.5166 - R2: -11.6897"
     ]
    }
   ],
   "source": [
    "history = model.fit(X_train, y_train, epochs=100, batch_size=128, validation_data=(X_test, y_test), callbacks=[])"
   ]
  },
  {
   "cell_type": "code",
   "execution_count": 75,
   "id": "0084fbb1-e83e-4808-99bf-1458f3ea3076",
   "metadata": {},
   "outputs": [],
   "source": [
    "y_pred = model.predict(X_test)"
   ]
  },
  {
   "cell_type": "markdown",
   "id": "382979a3-f299-4762-8b6d-10a6ea4d3c70",
   "metadata": {},
   "source": [
    "# Score"
   ]
  },
  {
   "cell_type": "code",
   "execution_count": 76,
   "id": "f9fd5d60-841f-46c3-94b6-5755b4d548cd",
   "metadata": {},
   "outputs": [],
   "source": [
    "r2 = 1 - ((y_test.values - y_pred.reshape(-1)) ** 2).sum() / ((y_test - y_test.mean()) ** 2).sum()"
   ]
  },
  {
   "cell_type": "code",
   "execution_count": 77,
   "id": "4d2bfabe-2e3e-40cf-a1e8-2d458ee7f328",
   "metadata": {},
   "outputs": [
    {
     "data": {
      "text/plain": [
       "0.666153162602203"
      ]
     },
     "execution_count": 77,
     "metadata": {},
     "output_type": "execute_result"
    }
   ],
   "source": [
    "r2\n",
    "# 0.6213507999746191"
   ]
  },
  {
   "cell_type": "code",
   "execution_count": 78,
   "id": "85262541-e04a-4ff2-b3e6-a47643db66f6",
   "metadata": {},
   "outputs": [],
   "source": [
    "model.save('models/embed_32_bi_lstm_100_dense_50_bn.h5')"
   ]
  },
  {
   "cell_type": "code",
   "execution_count": null,
   "id": "8a89a2dc-4690-44ff-938b-3808a8fc4350",
   "metadata": {},
   "outputs": [],
   "source": []
  },
  {
   "cell_type": "markdown",
   "id": "5f683e18-c876-4f7c-93ea-a33d495dcdaa",
   "metadata": {},
   "source": [
    "# Load model (solo si se grabo el modelo)"
   ]
  },
  {
   "cell_type": "code",
   "execution_count": 79,
   "id": "285c8740-f0bb-4237-8593-ff9b815de0e3",
   "metadata": {},
   "outputs": [],
   "source": [
    "from tensorflow.keras.models import load_model"
   ]
  },
  {
   "cell_type": "code",
   "execution_count": 80,
   "id": "2168984f-770c-436e-92da-c1344b1d3abc",
   "metadata": {},
   "outputs": [],
   "source": [
    "model_loaded = load_model('models/embed_32_bi_lstm_100_dense_50_bn.h5', custom_objects={'R2': R2})"
   ]
  },
  {
   "cell_type": "code",
   "execution_count": 81,
   "id": "13a9d7d8-41e0-44a0-a8b9-02157a11f8f2",
   "metadata": {},
   "outputs": [],
   "source": [
    "y_pred = model_loaded.predict(X_test)"
   ]
  },
  {
   "cell_type": "code",
   "execution_count": 82,
   "id": "26c63493-3f25-4383-9654-58ee62aa3ae5",
   "metadata": {},
   "outputs": [
    {
     "data": {
      "text/plain": [
       "0.666153162602203"
      ]
     },
     "execution_count": 82,
     "metadata": {},
     "output_type": "execute_result"
    }
   ],
   "source": [
    "r2 = 1 - ((y_test.values - y_pred.reshape(-1)) ** 2).sum() / ((y_test - y_test.mean()) ** 2).sum()\n",
    "r2"
   ]
  },
  {
   "cell_type": "markdown",
   "id": "c8ab60bf-7b98-4f46-b1dd-b08b5fbf8bed",
   "metadata": {},
   "source": [
    "¿Hasta que valores de r2 logró?"
   ]
  },
  {
   "cell_type": "markdown",
   "id": "cd252895-4430-4dd2-ae47-7f6a76cd2be6",
   "metadata": {},
   "source": []
  },
  {
   "cell_type": "markdown",
   "id": "7f1a6260-e31f-4e5e-a923-ce67bf31152f",
   "metadata": {},
   "source": [
    "# Evaluación"
   ]
  },
  {
   "cell_type": "code",
   "execution_count": 83,
   "id": "7dd9d7e6-2789-459e-b9dd-593e10847fc4",
   "metadata": {},
   "outputs": [
    {
     "data": {
      "text/plain": [
       "<function matplotlib.pyplot.show(close=None, block=None)>"
      ]
     },
     "execution_count": 83,
     "metadata": {},
     "output_type": "execute_result"
    },
    {
     "data": {
      "image/png": "[encoded data removed]",
      "text/plain": [
       "<Figure size 360x360 with 1 Axes>"
      ]
     },
     "metadata": {},
     "output_type": "display_data"
    }
   ],
   "source": [
    "import seaborn as sns\n",
    "import matplotlib.pyplot as plt\n",
    "\n",
    "sns.set(color_codes=True)\n",
    "sns.set_style(\"white\")\n",
    "\n",
    "ax = sns.regplot(x=y_test, y=y_pred, scatter_kws={'alpha':0.4})\n",
    "ax.set_xlabel('Experimental pIC50', fontsize='large', fontweight='bold')\n",
    "ax.set_ylabel('Predicted pIC50', fontsize='large', fontweight='bold')\n",
    "ax.set_xlim(0, 12)\n",
    "ax.set_ylim(0, 12)\n",
    "ax.figure.set_size_inches(5, 5)\n",
    "plt.show"
   ]
  },
  {
   "cell_type": "markdown",
   "id": "355f2c87-6981-4028-af17-88d7cd4a69b7",
   "metadata": {},
   "source": [
    "## embed_64_bi_lstm_100_dense_50_bn RMSprop(0.001) 100ep val_R2: 0.6213507999746191\n",
    "\n",
    "## embed_8_bi_lstm_100_dense_50_bn RMSprop(0.001) 100ep val_R2: -4.543342077348178 :<\n",
    "\n",
    "## embed_32_bi_lstm_100_dense_50_bn RMSprop(0.001) 100ep val_R2: 0.666153162602203"
   ]
  },
  {
   "cell_type": "code",
   "execution_count": null,
   "id": "de8c4b2f-53bc-4162-8069-0c425182209a",
   "metadata": {},
   "outputs": [],
   "source": []
  }
 ],
 "metadata": {
  "kernelspec": {
   "display_name": "Python 3 (ipykernel)",
   "language": "python",
   "name": "python3"
  },
  "language_info": {
   "codemirror_mode": {
    "name": "ipython",
    "version": 3
   },
   "file_extension": ".py",
   "mimetype": "text/x-python",
   "name": "python",
   "nbconvert_exporter": "python",
   "pygments_lexer": "ipython3",
   "version": "3.8.13"
  },
  "vscode": {
   "interpreter": {
    "hash": "15e7c785e3f4295f86ef40548625fb034436747687402bcaca2cc2f9a71c5bac"
   }
  }
 },
 "nbformat": 4,
 "nbformat_minor": 5
}
