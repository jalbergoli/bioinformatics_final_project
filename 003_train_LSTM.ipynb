{
 "cells": [
  {
   "cell_type": "code",
   "execution_count": 5,
   "id": "21bee0a3-79a7-43b2-9ac2-15cad5630e22",
   "metadata": {},
   "outputs": [],
   "source": [
    "import pandas as pd\n",
    "import numpy as np"
   ]
  },
  {
   "cell_type": "markdown",
   "id": "08544474-e883-4105-bcc3-9f3f9f014079",
   "metadata": {},
   "source": [
    "# Modelo Recurrentes con Embeddings a nivel de caracter\n",
    "\n",
    "### Use env project_nlp"
   ]
  },
  {
   "cell_type": "code",
   "execution_count": 6,
   "id": "353a2d75-f0f4-4563-9842-c68d77118161",
   "metadata": {},
   "outputs": [],
   "source": [
    "df = pd.read_csv('data/acetylcholinesterase_02_bioactivity_data_preprocessed.csv')"
   ]
  },
  {
   "cell_type": "code",
   "execution_count": 7,
   "id": "d1554fa5-d9ee-456c-be20-80571e319fc6",
   "metadata": {},
   "outputs": [
    {
     "data": {
      "text/html": [
       "<div>\n",
       "<style scoped>\n",
       "    .dataframe tbody tr th:only-of-type {\n",
       "        vertical-align: middle;\n",
       "    }\n",
       "\n",
       "    .dataframe tbody tr th {\n",
       "        vertical-align: top;\n",
       "    }\n",
       "\n",
       "    .dataframe thead th {\n",
       "        text-align: right;\n",
       "    }\n",
       "</style>\n",
       "<table border=\"1\" class=\"dataframe\">\n",
       "  <thead>\n",
       "    <tr style=\"text-align: right;\">\n",
       "      <th></th>\n",
       "      <th>molecule_chembl_id</th>\n",
       "      <th>canonical_smiles</th>\n",
       "      <th>standard_value</th>\n",
       "      <th>standard_value_norm</th>\n",
       "      <th>pIC50</th>\n",
       "    </tr>\n",
       "  </thead>\n",
       "  <tbody>\n",
       "    <tr>\n",
       "      <th>0</th>\n",
       "      <td>CHEMBL133897</td>\n",
       "      <td>CCOc1nn(-c2cccc(OCc3ccccc3)c2)c(=O)o1</td>\n",
       "      <td>750.0</td>\n",
       "      <td>750.0</td>\n",
       "      <td>6.124939</td>\n",
       "    </tr>\n",
       "    <tr>\n",
       "      <th>1</th>\n",
       "      <td>CHEMBL336398</td>\n",
       "      <td>O=C(N1CCCCC1)n1nc(-c2ccc(Cl)cc2)nc1SCC1CC1</td>\n",
       "      <td>100.0</td>\n",
       "      <td>100.0</td>\n",
       "      <td>7.000000</td>\n",
       "    </tr>\n",
       "    <tr>\n",
       "      <th>2</th>\n",
       "      <td>CHEMBL131588</td>\n",
       "      <td>CN(C(=O)n1nc(-c2ccc(Cl)cc2)nc1SCC(F)(F)F)c1ccccc1</td>\n",
       "      <td>50000.0</td>\n",
       "      <td>50000.0</td>\n",
       "      <td>4.301030</td>\n",
       "    </tr>\n",
       "    <tr>\n",
       "      <th>3</th>\n",
       "      <td>CHEMBL130628</td>\n",
       "      <td>O=C(N1CCCCC1)n1nc(-c2ccc(Cl)cc2)nc1SCC(F)(F)F</td>\n",
       "      <td>300.0</td>\n",
       "      <td>300.0</td>\n",
       "      <td>6.522879</td>\n",
       "    </tr>\n",
       "    <tr>\n",
       "      <th>4</th>\n",
       "      <td>CHEMBL130478</td>\n",
       "      <td>CSc1nc(-c2ccc(OC(F)(F)F)cc2)nn1C(=O)N(C)C</td>\n",
       "      <td>800.0</td>\n",
       "      <td>800.0</td>\n",
       "      <td>6.096910</td>\n",
       "    </tr>\n",
       "  </tbody>\n",
       "</table>\n",
       "</div>"
      ],
      "text/plain": [
       "  molecule_chembl_id                                   canonical_smiles  \\\n",
       "0       CHEMBL133897              CCOc1nn(-c2cccc(OCc3ccccc3)c2)c(=O)o1   \n",
       "1       CHEMBL336398         O=C(N1CCCCC1)n1nc(-c2ccc(Cl)cc2)nc1SCC1CC1   \n",
       "2       CHEMBL131588  CN(C(=O)n1nc(-c2ccc(Cl)cc2)nc1SCC(F)(F)F)c1ccccc1   \n",
       "3       CHEMBL130628      O=C(N1CCCCC1)n1nc(-c2ccc(Cl)cc2)nc1SCC(F)(F)F   \n",
       "4       CHEMBL130478          CSc1nc(-c2ccc(OC(F)(F)F)cc2)nn1C(=O)N(C)C   \n",
       "\n",
       "   standard_value  standard_value_norm     pIC50  \n",
       "0           750.0                750.0  6.124939  \n",
       "1           100.0                100.0  7.000000  \n",
       "2         50000.0              50000.0  4.301030  \n",
       "3           300.0                300.0  6.522879  \n",
       "4           800.0                800.0  6.096910  "
      ]
     },
     "execution_count": 7,
     "metadata": {},
     "output_type": "execute_result"
    }
   ],
   "source": [
    "df.head()"
   ]
  },
  {
   "cell_type": "markdown",
   "id": "2985df76-23b9-45a8-83ed-ce8ae510219f",
   "metadata": {},
   "source": [
    "# Canonical_smiles To secuence"
   ]
  },
  {
   "cell_type": "code",
   "execution_count": 8,
   "id": "87e524d2-e7e9-4d3b-b1f1-b62254a0bc66",
   "metadata": {},
   "outputs": [],
   "source": [
    "from tensorflow.keras.preprocessing.text import Tokenizer\n",
    "from tensorflow.keras.preprocessing.sequence import pad_sequences"
   ]
  },
  {
   "cell_type": "markdown",
   "id": "b524afd5-79ed-433d-827b-ac04510ae8ad",
   "metadata": {},
   "source": [
    "Utilizando Tokenizer y pad_sequences de keras a nivel de caracter, obtener la entrada tokenizada. Por ejemplo:\n",
    "\n",
    "**El smiles**:\n",
    "\n",
    "'C[C@@]12CC[C@H]3[C@]4(C)CCC[C@@]5(C)C(=O)OCC[N+](C)(C)CCCCCCCCC[N+](C)(C)CCOC(=O)[C@]6(C)CCC[C@]7(C)[C@@H]6CC[C@@]68C[C@@H](OC(=O)CCCCCCCCC(=O)O[C@@H]1C[C@@]3(CC[C@@H]45)C2)[C@@](C)(CC[C@@H]76)C8.[Br-].[Br-]'\n",
    "\n",
    "**Tendría que quedar algo asi (puede que no sea exacto):**\n",
    "\n",
    "array([ 2, 11,  2, 13, 13, 12,  5,  7,  2,  2, 11,  2, 13, 16, 12, 10, 11,\n",
    "        2, 13, 12, 15,  3,  2,  4,  2,  2,  2, 11,  2, 13, 13, 12, 23,  3,\n",
    "        2,  4,  2,  3,  9,  6,  4,  6,  2,  2, 11,  8, 21, 12,  3,  2,  4,\n",
    "        3,  2,  4,  2,  2,  2,  2,  2,  2,  2,  2,  2, 11,  8, 21, 12,  3,\n",
    "        2,  4,  3,  2,  4,  2,  2,  6,  2,  3,  9,  6,  4, 11,  2, 13, 12,\n",
    "       30,  3,  2,  4,  2,  2,  2, 11,  2, 13, 12, 35,  3,  2,  4, 11,  2,\n",
    "       13, 13, 16, 12, 30,  2,  2, 11,  2, 13, 13, 12, 30, 36,  2, 11,  2,\n",
    "       13, 13, 16, 12,  3,  6,  2,  3,  9,  6,  4,  2,  2,  2,  2,  2,  2,\n",
    "        2,  2,  2,  3,  9,  6,  4,  6, 11,  2, 13, 13, 16, 12,  5,  2, 11,\n",
    "        2, 13, 13, 12, 10,  3,  2,  2, 11,  2, 13, 13, 16, 12, 15, 23,  4,\n",
    "        2,  7,  4, 11,  2, 13, 13, 12,  3,  2,  4,  3,  2,  2, 11,  2, 13,\n",
    "       13, 16, 12, 35, 30,  4,  2, 36, 20, 11, 25, 26, 17, 12, 20, 11, 25,\n",
    "       26, 17, 12], dtype=int32)\n",
    "       \n",
    "\n",
    "**Otro ejemplo:**\n",
    "smiles: 'NC(=O)O'\n",
    "\n",
    "array([0, 0, 0, 0, 0, 0, 0, 0, 0, 0, 0, 0, 0, 0, 0, 0, 0, 0, 0, 0, 0, 0,\n",
    "       0, 0, 0, 0, 0, 0, 0, 0, 0, 0, 0, 0, 0, 0, 0, 0, 0, 0, 0, 0, 0, 0,\n",
    "       0, 0, 0, 0, 0, 0, 0, 0, 0, 0, 0, 0, 0, 0, 0, 0, 0, 0, 0, 0, 0, 0,\n",
    "       0, 0, 0, 0, 0, 0, 0, 0, 0, 0, 0, 0, 0, 0, 0, 0, 0, 0, 0, 0, 0, 0,\n",
    "       0, 0, 0, 0, 0, 0, 0, 0, 0, 0, 0, 0, 0, 0, 0, 0, 0, 0, 0, 0, 0, 0,\n",
    "       0, 0, 0, 0, 0, 0, 0, 0, 0, 0, 0, 0, 0, 0, 0, 0, 0, 0, 0, 0, 0, 0,\n",
    "       0, 0, 0, 0, 0, 0, 0, 0, 0, 0, 0, 0, 0, 0, 0, 0, 0, 0, 0, 0, 0, 0,\n",
    "       0, 0, 0, 0, 0, 0, 0, 0, 0, 0, 0, 0, 0, 0, 0, 0, 0, 0, 0, 0, 0, 0,\n",
    "       0, 0, 0, 0, 0, 0, 0, 0, 0, 0, 0, 0, 0, 0, 0, 0, 0, 0, 0, 0, 0, 0,\n",
    "       0, 0, 8, 2, 3, 9, 6, 4, 6], dtype=int32)\n",
    "\n",
    "**Tener en cuenta:**\n",
    "\n",
    "- Ver cuanta es la máxima longitud para agregar el padding correspondiente\n",
    "- En el ejemplo se agrego padding a la izquierda"
   ]
  },
  {
   "cell_type": "code",
   "execution_count": 9,
   "id": "07f8fff5-c1f6-48d6-9e19-ee5defde20b1",
   "metadata": {},
   "outputs": [],
   "source": [
    "max_len_idx = df['canonical_smiles'].apply(len).argmax()\n",
    "min_len_idx = df['canonical_smiles'].apply(len).argmin()"
   ]
  },
  {
   "cell_type": "code",
   "execution_count": 10,
   "id": "703325ab-0193-4bf5-9b66-a880d7bc346b",
   "metadata": {},
   "outputs": [
    {
     "data": {
      "text/html": [
       "<div>\n",
       "<style scoped>\n",
       "    .dataframe tbody tr th:only-of-type {\n",
       "        vertical-align: middle;\n",
       "    }\n",
       "\n",
       "    .dataframe tbody tr th {\n",
       "        vertical-align: top;\n",
       "    }\n",
       "\n",
       "    .dataframe thead th {\n",
       "        text-align: right;\n",
       "    }\n",
       "</style>\n",
       "<table border=\"1\" class=\"dataframe\">\n",
       "  <thead>\n",
       "    <tr style=\"text-align: right;\">\n",
       "      <th></th>\n",
       "      <th>molecule_chembl_id</th>\n",
       "      <th>canonical_smiles</th>\n",
       "      <th>standard_value</th>\n",
       "      <th>standard_value_norm</th>\n",
       "      <th>pIC50</th>\n",
       "    </tr>\n",
       "  </thead>\n",
       "  <tbody>\n",
       "    <tr>\n",
       "      <th>0</th>\n",
       "      <td>CHEMBL133897</td>\n",
       "      <td>CCOc1nn(-c2cccc(OCc3ccccc3)c2)c(=O)o1</td>\n",
       "      <td>750.0</td>\n",
       "      <td>750.0</td>\n",
       "      <td>6.124939</td>\n",
       "    </tr>\n",
       "  </tbody>\n",
       "</table>\n",
       "</div>"
      ],
      "text/plain": [
       "  molecule_chembl_id                       canonical_smiles  standard_value  \\\n",
       "0       CHEMBL133897  CCOc1nn(-c2cccc(OCc3ccccc3)c2)c(=O)o1           750.0   \n",
       "\n",
       "   standard_value_norm     pIC50  \n",
       "0                750.0  6.124939  "
      ]
     },
     "execution_count": 10,
     "metadata": {},
     "output_type": "execute_result"
    }
   ],
   "source": [
    "X = df['canonical_smiles']\n",
    "y = df['pIC50']\n",
    "df.head(1)"
   ]
  },
  {
   "cell_type": "code",
   "execution_count": 11,
   "id": "e108ad24-244b-46d1-8547-2b5fcb2173b6",
   "metadata": {},
   "outputs": [],
   "source": [
    "df['canonical_len'] = df['canonical_smiles'].apply(lambda x: len(x))\n",
    "max_sequence_len = df['canonical_len'].max()"
   ]
  },
  {
   "cell_type": "code",
   "execution_count": 12,
   "id": "bc3cf4ca-38b1-4d56-90ba-8de6bbc7e1c1",
   "metadata": {},
   "outputs": [],
   "source": [
    "# Implementar tokenización y guardar en X_seq_pad el dataset tokenizado\n",
    "tokenizer = Tokenizer(\n",
    "    num_words = None,\n",
    "    filters='',\n",
    "    lower=False,\n",
    "    split=' ',\n",
    "    char_level=True,\n",
    "    oov_token=None)\n",
    "\n",
    "tokenizer.fit_on_texts(X)\n",
    "X_seq = tokenizer.texts_to_sequences(X)\n",
    "\n",
    "X_seq_pad = pad_sequences(X_seq, maxlen=max_sequence_len)"
   ]
  },
  {
   "cell_type": "code",
   "execution_count": 13,
   "id": "23aeb19c-7c63-45ac-ad7a-9a9345ae6e13",
   "metadata": {},
   "outputs": [
    {
     "data": {
      "text/plain": [
       "38"
      ]
     },
     "execution_count": 13,
     "metadata": {},
     "output_type": "execute_result"
    }
   ],
   "source": [
    "len(tokenizer.word_index)"
   ]
  },
  {
   "cell_type": "markdown",
   "id": "4233710d-9274-4dae-b22d-cf42b57ad862",
   "metadata": {},
   "source": [
    "# Split"
   ]
  },
  {
   "cell_type": "code",
   "execution_count": 14,
   "id": "ce7a95e6-2486-42fb-97fb-865e3fd6a561",
   "metadata": {},
   "outputs": [],
   "source": [
    "from sklearn.model_selection import train_test_split"
   ]
  },
  {
   "cell_type": "code",
   "execution_count": 15,
   "id": "fcb9840f-2f41-45be-99a5-f05f3ab73ed8",
   "metadata": {},
   "outputs": [],
   "source": [
    "X_train, X_test, y_train, y_test = train_test_split(X_seq_pad, y, test_size=0.2, random_state=42)"
   ]
  },
  {
   "cell_type": "code",
   "execution_count": 16,
   "id": "4ad17134-3e15-42d1-b8c9-0c793169e145",
   "metadata": {},
   "outputs": [
    {
     "data": {
      "text/plain": [
       "(4530, 4530, 1133)"
      ]
     },
     "execution_count": 16,
     "metadata": {},
     "output_type": "execute_result"
    }
   ],
   "source": [
    "len(X_train), len(y_train), len(X_test)"
   ]
  },
  {
   "cell_type": "markdown",
   "id": "85941430-2534-4d7d-ba52-d934a31c1bf6",
   "metadata": {},
   "source": [
    "# Network Model"
   ]
  },
  {
   "cell_type": "code",
   "execution_count": 17,
   "id": "6bd5d1bf-4640-4cbc-acd3-72881ddcc07e",
   "metadata": {},
   "outputs": [],
   "source": [
    "from tensorflow.keras import Sequential\n",
    "from tensorflow.keras.layers import LSTM, Dense, Embedding, Bidirectional, Dropout, Activation, BatchNormalization\n",
    "from tensorflow.keras.callbacks import ModelCheckpoint, EarlyStopping\n",
    "from tensorflow.keras.optimizers import Adam, RMSprop\n",
    "from tensorflow.keras import backend as K"
   ]
  },
  {
   "cell_type": "code",
   "execution_count": 18,
   "id": "4bf115a2-9f1b-42b8-9b62-59728f1da977",
   "metadata": {},
   "outputs": [],
   "source": [
    "# Métrica\n",
    "def R2(y_true, y_pred):\n",
    "    SS_res =  K.sum(K.square( y_true - y_pred ))\n",
    "    SS_tot = K.sum(K.square( y_true - K.mean(y_true) ) )\n",
    "    return ( 1 - SS_res/(SS_tot + K.epsilon()) )"
   ]
  },
  {
   "cell_type": "code",
   "execution_count": 19,
   "id": "92d30b68-3110-459c-887d-a06f056d067b",
   "metadata": {},
   "outputs": [
    {
     "data": {
      "text/plain": [
       "38"
      ]
     },
     "execution_count": 19,
     "metadata": {},
     "output_type": "execute_result"
    }
   ],
   "source": [
    "# vocab_size = # Completar largo del vocabulario\n",
    "vocab_size = len(tokenizer.word_index)\n",
    "vocab_size"
   ]
  },
  {
   "cell_type": "code",
   "execution_count": 20,
   "id": "6166a72b-ccd1-459c-a3a1-fa43bf31a369",
   "metadata": {},
   "outputs": [
    {
     "data": {
      "text/plain": [
       "207"
      ]
     },
     "execution_count": 20,
     "metadata": {},
     "output_type": "execute_result"
    }
   ],
   "source": [
    "max_sequence_len = df['canonical_len'].max()\n",
    "max_sequence_len"
   ]
  },
  {
   "cell_type": "markdown",
   "id": "cc91cd42-b885-4ab5-b348-57296b0c0d10",
   "metadata": {},
   "source": [
    "# Armar modelo en keras de LSTM\n",
    "El de abajo es un ejemplo propuesto pero puede armar otro similar (siempre con LSTM o GRU)"
   ]
  },
  {
   "cell_type": "raw",
   "id": "9883ed67-e2d9-412a-8f8b-1e463df69ed8",
   "metadata": {},
   "source": [
    "Model: \"sequential\"\n",
    "_________________________________________________________________\n",
    "Layer (type)                 Output Shape              Param #   \n",
    "=================================================================\n",
    "embedding (Embedding)        (None, 207, 64)           2496      \n",
    "_________________________________________________________________\n",
    "bidirectional (Bidirectional (None, 200)               132000    \n",
    "_________________________________________________________________\n",
    "dense (Dense)                (None, 50)                10050     \n",
    "_________________________________________________________________\n",
    "batch_normalization (BatchNo (None, 50)                200       \n",
    "_________________________________________________________________\n",
    "activation (Activation)      (None, 50)                0         \n",
    "_________________________________________________________________\n",
    "dense_1 (Dense)              (None, 1)                 51        \n",
    "=================================================================\n",
    "Total params: 144,797\n",
    "Trainable params: 144,697\n",
    "Non-trainable params: 100\n",
    "_________________________________________________________________"
   ]
  },
  {
   "cell_type": "code",
   "execution_count": 78,
   "id": "d05209e0-5358-40c0-b806-2e98367e9f1c",
   "metadata": {},
   "outputs": [
    {
     "name": "stdout",
     "output_type": "stream",
     "text": [
      "Model: \"LSTM_1\"\n",
      "_________________________________________________________________\n",
      "Layer (type)                 Output Shape              Param #   \n",
      "=================================================================\n",
      "embedding_3 (Embedding)      (None, 207, 128)          4992      \n",
      "_________________________________________________________________\n",
      "bidirectional_3 (Bidirection (None, 200)               183200    \n",
      "_________________________________________________________________\n",
      "dense_6 (Dense)              (None, 50)                10050     \n",
      "_________________________________________________________________\n",
      "batch_normalization_3 (Batch (None, 50)                200       \n",
      "_________________________________________________________________\n",
      "activation_3 (Activation)    (None, 50)                0         \n",
      "_________________________________________________________________\n",
      "dense_7 (Dense)              (None, 1)                 51        \n",
      "=================================================================\n",
      "Total params: 198,493\n",
      "Trainable params: 198,393\n",
      "Non-trainable params: 100\n",
      "_________________________________________________________________\n"
     ]
    }
   ],
   "source": [
    "embed_dim = 128 #32 #64 #128\n",
    "nb_words = vocab_size\n",
    "\n",
    "model = Sequential(name='LSTM_1')\n",
    "model.add(Embedding(nb_words + 1 , embed_dim, input_length=max_sequence_len, trainable=True))\n",
    "model.add(Bidirectional(LSTM(100, activation='tanh')))\n",
    "model.add(Dense(50))\n",
    "model.add(BatchNormalization())\n",
    "model.add(Activation('tanh'))\n",
    "model.add(Dense(1))\n",
    "\n",
    "# Implementar modelo completo\n",
    "model.summary()"
   ]
  },
  {
   "cell_type": "code",
   "execution_count": 79,
   "id": "9138b411-fc5d-41bd-8c8e-c12580cc5b14",
   "metadata": {},
   "outputs": [],
   "source": [
    "model.compile(optimizer=Adam(learning_rate=0.001), loss='mse', metrics=[R2])"
   ]
  },
  {
   "cell_type": "code",
   "execution_count": 80,
   "id": "62c3f792-f413-4150-8ebf-1f59c5fb986d",
   "metadata": {},
   "outputs": [],
   "source": [
    "mcp = ModelCheckpoint('models/best_model_{epoch}', save_best_only=True, save_format=\"h5\")"
   ]
  },
  {
   "cell_type": "code",
   "execution_count": 81,
   "id": "cccff0d4-419b-4f56-a16b-754246a925c7",
   "metadata": {},
   "outputs": [],
   "source": [
    "early_stopping = EarlyStopping(\n",
    "    monitor=\"val_loss\",\n",
    "    min_delta=0.0,\n",
    "    patience=10,\n",
    "    verbose=0,\n",
    "    mode=\"auto\",\n",
    "    baseline=None,\n",
    "    restore_best_weights=True)"
   ]
  },
  {
   "cell_type": "code",
   "execution_count": 82,
   "id": "3f37ab4e-0e3a-44c6-a572-ba5c67930c61",
   "metadata": {},
   "outputs": [
    {
     "name": "stdout",
     "output_type": "stream",
     "text": [
      "Epoch 1/100\n",
      "71/71 [==============================] - 82s 1s/step - loss: 26.3737 - R2: -9.8720 - val_loss: 11.8319 - val_R2: -3.3537\n",
      "Epoch 2/100\n",
      "71/71 [==============================] - 53s 752ms/step - loss: 11.3523 - R2: -3.7420 - val_loss: 5.8233 - val_R2: -1.0733\n",
      "Epoch 3/100\n",
      "71/71 [==============================] - 110s 2s/step - loss: 5.2126 - R2: -1.1108 - val_loss: 10.7638 - val_R2: -2.9793\n",
      "Epoch 4/100\n",
      "71/71 [==============================] - 93s 1s/step - loss: 3.1000 - R2: -0.2301 - val_loss: 6.0634 - val_R2: -1.2112\n",
      "Epoch 5/100\n",
      "71/71 [==============================] - 89s 1s/step - loss: 2.5393 - R2: 0.0011 - val_loss: 3.0437 - val_R2: -0.0526\n",
      "Epoch 6/100\n",
      "71/71 [==============================] - 89s 1s/step - loss: 2.4311 - R2: 0.0515 - val_loss: 2.8493 - val_R2: 0.0326\n",
      "Epoch 7/100\n",
      "71/71 [==============================] - 103s 1s/step - loss: 2.3556 - R2: 0.0843 - val_loss: 7.1984 - val_R2: -1.6390\n",
      "Epoch 8/100\n",
      "71/71 [==============================] - 91s 1s/step - loss: 2.1870 - R2: 0.1620 - val_loss: 2.7180 - val_R2: 0.0573\n",
      "Epoch 9/100\n",
      "71/71 [==============================] - 89s 1s/step - loss: 2.0877 - R2: 0.1992 - val_loss: 2.8385 - val_R2: 0.0134\n",
      "Epoch 10/100\n",
      "71/71 [==============================] - 157s 2s/step - loss: 2.0613 - R2: 0.2032 - val_loss: 2.7708 - val_R2: 0.0489\n",
      "Epoch 11/100\n",
      "71/71 [==============================] - 106s 1s/step - loss: 2.0860 - R2: 0.2000 - val_loss: 2.3505 - val_R2: 0.2092\n",
      "Epoch 12/100\n",
      "71/71 [==============================] - 96s 1s/step - loss: 2.0249 - R2: 0.2177 - val_loss: 2.3921 - val_R2: 0.1944\n",
      "Epoch 13/100\n",
      "71/71 [==============================] - 82s 1s/step - loss: 1.9537 - R2: 0.2533 - val_loss: 2.5595 - val_R2: 0.1263\n",
      "Epoch 14/100\n",
      "71/71 [==============================] - 85s 1s/step - loss: 1.9278 - R2: 0.2637 - val_loss: 2.8881 - val_R2: -0.0080\n",
      "Epoch 15/100\n",
      "71/71 [==============================] - 87s 1s/step - loss: 1.8947 - R2: 0.2595 - val_loss: 4.3913 - val_R2: -0.5870\n",
      "Epoch 16/100\n",
      "71/71 [==============================] - 91s 1s/step - loss: 1.8004 - R2: 0.3078 - val_loss: 2.5406 - val_R2: 0.1120\n",
      "Epoch 17/100\n",
      "71/71 [==============================] - 99s 1s/step - loss: 1.7580 - R2: 0.3170 - val_loss: 2.7252 - val_R2: 0.0805\n",
      "Epoch 18/100\n",
      "71/71 [==============================] - 82s 1s/step - loss: 1.7429 - R2: 0.3309 - val_loss: 2.4513 - val_R2: 0.1322\n",
      "Epoch 19/100\n",
      "71/71 [==============================] - 88s 1s/step - loss: 1.7605 - R2: 0.3258 - val_loss: 2.4524 - val_R2: 0.1775\n",
      "Epoch 20/100\n",
      "71/71 [==============================] - 83s 1s/step - loss: 1.7147 - R2: 0.3374 - val_loss: 1.9762 - val_R2: 0.3273\n",
      "Epoch 21/100\n",
      "71/71 [==============================] - 83s 1s/step - loss: 1.6316 - R2: 0.3649 - val_loss: 2.1206 - val_R2: 0.2714\n",
      "Epoch 22/100\n",
      "71/71 [==============================] - 86s 1s/step - loss: 1.5821 - R2: 0.3759 - val_loss: 2.0571 - val_R2: 0.2722\n",
      "Epoch 23/100\n",
      "71/71 [==============================] - 79s 1s/step - loss: 1.5384 - R2: 0.3971 - val_loss: 1.8230 - val_R2: 0.3573\n",
      "Epoch 24/100\n",
      "71/71 [==============================] - 83s 1s/step - loss: 1.4798 - R2: 0.4197 - val_loss: 2.0283 - val_R2: 0.2842\n",
      "Epoch 25/100\n",
      "71/71 [==============================] - 84s 1s/step - loss: 1.5629 - R2: 0.3876 - val_loss: 1.6396 - val_R2: 0.4284\n",
      "Epoch 26/100\n",
      "71/71 [==============================] - 104s 1s/step - loss: 1.4607 - R2: 0.4254 - val_loss: 1.6194 - val_R2: 0.4415\n",
      "Epoch 27/100\n",
      "71/71 [==============================] - 83s 1s/step - loss: 1.3643 - R2: 0.4550 - val_loss: 1.8237 - val_R2: 0.3600\n",
      "Epoch 28/100\n",
      "71/71 [==============================] - 83s 1s/step - loss: 1.3670 - R2: 0.4611 - val_loss: 1.9807 - val_R2: 0.3033\n",
      "Epoch 29/100\n",
      "71/71 [==============================] - 90s 1s/step - loss: 1.3295 - R2: 0.4726 - val_loss: 1.4874 - val_R2: 0.4720\n",
      "Epoch 30/100\n",
      "71/71 [==============================] - 827s 12s/step - loss: 1.1993 - R2: 0.5305 - val_loss: 1.5298 - val_R2: 0.4431\n",
      "Epoch 31/100\n",
      "71/71 [==============================] - 69s 971ms/step - loss: 1.1752 - R2: 0.5275 - val_loss: 1.4810 - val_R2: 0.4749\n",
      "Epoch 32/100\n",
      "71/71 [==============================] - 77s 1s/step - loss: 1.1773 - R2: 0.5302 - val_loss: 1.9657 - val_R2: 0.2698\n",
      "Epoch 33/100\n",
      "71/71 [==============================] - 76s 1s/step - loss: 1.1227 - R2: 0.5504 - val_loss: 1.5204 - val_R2: 0.4543\n",
      "Epoch 34/100\n",
      "71/71 [==============================] - 75s 1s/step - loss: 1.1036 - R2: 0.5551 - val_loss: 1.4576 - val_R2: 0.4694\n",
      "Epoch 35/100\n",
      "71/71 [==============================] - 68s 960ms/step - loss: 1.0627 - R2: 0.5700 - val_loss: 1.2699 - val_R2: 0.5375\n",
      "Epoch 36/100\n",
      "71/71 [==============================] - 77s 1s/step - loss: 1.0036 - R2: 0.6010 - val_loss: 1.3379 - val_R2: 0.5047\n",
      "Epoch 37/100\n",
      "71/71 [==============================] - 76s 1s/step - loss: 1.0000 - R2: 0.5990 - val_loss: 1.1788 - val_R2: 0.5660\n",
      "Epoch 38/100\n",
      "71/71 [==============================] - 75s 1s/step - loss: 0.9868 - R2: 0.6077 - val_loss: 2.1175 - val_R2: 0.2093\n",
      "Epoch 39/100\n",
      "71/71 [==============================] - 73s 1s/step - loss: 0.9123 - R2: 0.6377 - val_loss: 1.2833 - val_R2: 0.5192\n",
      "Epoch 40/100\n",
      "71/71 [==============================] - 78s 1s/step - loss: 0.8919 - R2: 0.6453 - val_loss: 1.4721 - val_R2: 0.4581\n",
      "Epoch 41/100\n",
      "71/71 [==============================] - 73s 1s/step - loss: 0.8622 - R2: 0.6565 - val_loss: 1.4659 - val_R2: 0.4502\n",
      "Epoch 42/100\n",
      "71/71 [==============================] - 70s 981ms/step - loss: 0.8112 - R2: 0.6737 - val_loss: 1.2785 - val_R2: 0.5251\n",
      "Epoch 43/100\n",
      "71/71 [==============================] - 57s 815ms/step - loss: 0.8749 - R2: 0.6477 - val_loss: 1.4866 - val_R2: 0.4485\n",
      "Epoch 44/100\n",
      "71/71 [==============================] - 79s 1s/step - loss: 0.8081 - R2: 0.6795 - val_loss: 1.1284 - val_R2: 0.5909\n",
      "Epoch 45/100\n",
      "71/71 [==============================] - 76s 1s/step - loss: 0.8320 - R2: 0.6711 - val_loss: 1.2340 - val_R2: 0.5375\n",
      "Epoch 46/100\n",
      "71/71 [==============================] - 80s 1s/step - loss: 0.8013 - R2: 0.6740 - val_loss: 1.3741 - val_R2: 0.4842\n",
      "Epoch 47/100\n",
      "71/71 [==============================] - 74s 1s/step - loss: 0.7499 - R2: 0.6994 - val_loss: 1.2549 - val_R2: 0.5396\n",
      "Epoch 48/100\n",
      "71/71 [==============================] - 78s 1s/step - loss: 0.7226 - R2: 0.7124 - val_loss: 1.0909 - val_R2: 0.5947\n",
      "Epoch 49/100\n",
      "71/71 [==============================] - 73s 1s/step - loss: 0.6919 - R2: 0.7262 - val_loss: 1.5653 - val_R2: 0.4281\n",
      "Epoch 50/100\n",
      "71/71 [==============================] - 78s 1s/step - loss: 0.7007 - R2: 0.7200 - val_loss: 1.2062 - val_R2: 0.5556\n",
      "Epoch 51/100\n",
      "71/71 [==============================] - 79s 1s/step - loss: 0.7007 - R2: 0.7217 - val_loss: 1.8548 - val_R2: 0.3144\n",
      "Epoch 52/100\n",
      "71/71 [==============================] - 79s 1s/step - loss: 0.6723 - R2: 0.7341 - val_loss: 1.6494 - val_R2: 0.3697\n",
      "Epoch 53/100\n",
      "71/71 [==============================] - 77s 1s/step - loss: 0.6380 - R2: 0.7472 - val_loss: 1.3048 - val_R2: 0.5127\n",
      "Epoch 54/100\n",
      "71/71 [==============================] - 72s 1s/step - loss: 0.6341 - R2: 0.7417 - val_loss: 1.1444 - val_R2: 0.5706\n",
      "Epoch 55/100\n",
      "71/71 [==============================] - 112s 2s/step - loss: 0.6391 - R2: 0.7442 - val_loss: 1.0907 - val_R2: 0.5989\n",
      "Epoch 56/100\n",
      "71/71 [==============================] - 80s 1s/step - loss: 0.5973 - R2: 0.7633 - val_loss: 1.0739 - val_R2: 0.6012\n",
      "Epoch 57/100\n",
      "71/71 [==============================] - 88s 1s/step - loss: 0.5619 - R2: 0.7734 - val_loss: 1.1163 - val_R2: 0.5793\n",
      "Epoch 58/100\n",
      "71/71 [==============================] - 71s 1s/step - loss: 0.5603 - R2: 0.7755 - val_loss: 1.1482 - val_R2: 0.5708\n",
      "Epoch 59/100\n",
      "71/71 [==============================] - 95s 1s/step - loss: 0.5679 - R2: 0.7730 - val_loss: 1.0590 - val_R2: 0.6120\n",
      "Epoch 60/100\n",
      "71/71 [==============================] - 71s 1s/step - loss: 0.5379 - R2: 0.7848 - val_loss: 1.3887 - val_R2: 0.4733\n",
      "Epoch 61/100\n",
      "71/71 [==============================] - 72s 1s/step - loss: 0.5128 - R2: 0.7931 - val_loss: 2.2780 - val_R2: 0.1321\n",
      "Epoch 62/100\n",
      "71/71 [==============================] - 75s 1s/step - loss: 0.5236 - R2: 0.7897 - val_loss: 1.0384 - val_R2: 0.6131\n",
      "Epoch 63/100\n",
      "71/71 [==============================] - 84s 1s/step - loss: 0.4810 - R2: 0.8073 - val_loss: 1.0260 - val_R2: 0.6204\n",
      "Epoch 64/100\n",
      "71/71 [==============================] - 82s 1s/step - loss: 0.5059 - R2: 0.8018 - val_loss: 1.1997 - val_R2: 0.5529\n",
      "Epoch 65/100\n",
      "71/71 [==============================] - 74s 1s/step - loss: 0.4911 - R2: 0.8049 - val_loss: 1.2268 - val_R2: 0.5483\n",
      "Epoch 66/100\n",
      "71/71 [==============================] - 81s 1s/step - loss: 0.4716 - R2: 0.8160 - val_loss: 1.0948 - val_R2: 0.5892\n",
      "Epoch 67/100\n",
      "71/71 [==============================] - 85s 1s/step - loss: 0.4658 - R2: 0.8154 - val_loss: 0.9985 - val_R2: 0.6271\n",
      "Epoch 68/100\n",
      "71/71 [==============================] - 79s 1s/step - loss: 0.4488 - R2: 0.8197 - val_loss: 1.1932 - val_R2: 0.5497\n",
      "Epoch 69/100\n",
      "71/71 [==============================] - 79s 1s/step - loss: 0.4380 - R2: 0.8267 - val_loss: 1.2634 - val_R2: 0.5352\n",
      "Epoch 70/100\n",
      "71/71 [==============================] - 71s 1000ms/step - loss: 0.4534 - R2: 0.8194 - val_loss: 2.3162 - val_R2: 0.1259\n",
      "Epoch 71/100\n",
      "71/71 [==============================] - 89s 1s/step - loss: 0.4508 - R2: 0.8240 - val_loss: 1.6488 - val_R2: 0.3949\n",
      "Epoch 72/100\n",
      "71/71 [==============================] - 74s 1s/step - loss: 0.4380 - R2: 0.8266 - val_loss: 1.8717 - val_R2: 0.3039\n",
      "Epoch 73/100\n",
      "71/71 [==============================] - 75s 1s/step - loss: 0.4119 - R2: 0.8371 - val_loss: 1.2923 - val_R2: 0.5198\n",
      "Epoch 74/100\n",
      "71/71 [==============================] - 78s 1s/step - loss: 0.4111 - R2: 0.8376 - val_loss: 1.0572 - val_R2: 0.5987\n",
      "Epoch 75/100\n",
      "71/71 [==============================] - 79s 1s/step - loss: 0.4147 - R2: 0.8331 - val_loss: 1.0507 - val_R2: 0.6105\n",
      "Epoch 76/100\n",
      "71/71 [==============================] - 65s 921ms/step - loss: 0.3678 - R2: 0.8555 - val_loss: 1.1035 - val_R2: 0.5821\n",
      "Epoch 77/100\n",
      "71/71 [==============================] - 72s 1s/step - loss: 0.4068 - R2: 0.8360 - val_loss: 1.0866 - val_R2: 0.5904\n"
     ]
    }
   ],
   "source": [
    "history = model.fit(X_train, y_train, epochs=100, batch_size=64, validation_data=(X_test, y_test), callbacks=[early_stopping])"
   ]
  },
  {
   "cell_type": "code",
   "execution_count": 83,
   "id": "0084fbb1-e83e-4808-99bf-1458f3ea3076",
   "metadata": {},
   "outputs": [],
   "source": [
    "y_pred = model.predict(X_test)"
   ]
  },
  {
   "cell_type": "markdown",
   "id": "382979a3-f299-4762-8b6d-10a6ea4d3c70",
   "metadata": {},
   "source": [
    "# Score"
   ]
  },
  {
   "cell_type": "code",
   "execution_count": 84,
   "id": "f9fd5d60-841f-46c3-94b6-5755b4d548cd",
   "metadata": {},
   "outputs": [],
   "source": [
    "r2 = 1 - ((y_test.values - y_pred.reshape(-1)) ** 2).sum() / ((y_test - y_test.mean()) ** 2).sum()"
   ]
  },
  {
   "cell_type": "code",
   "execution_count": 85,
   "id": "4d2bfabe-2e3e-40cf-a1e8-2d458ee7f328",
   "metadata": {},
   "outputs": [
    {
     "data": {
      "text/plain": [
       "0.6675838195169012"
      ]
     },
     "execution_count": 85,
     "metadata": {},
     "output_type": "execute_result"
    }
   ],
   "source": [
    "r2\n",
    "# 0.4984533246797399"
   ]
  },
  {
   "cell_type": "code",
   "execution_count": 86,
   "id": "85262541-e04a-4ff2-b3e6-a47643db66f6",
   "metadata": {},
   "outputs": [],
   "source": [
    "model.save('models/embed_128_bi_lstm_100_dense_50_bn_77_epohs.h5')"
   ]
  },
  {
   "cell_type": "markdown",
   "id": "5f683e18-c876-4f7c-93ea-a33d495dcdaa",
   "metadata": {},
   "source": [
    "# Load model (solo si se grabo el modelo)"
   ]
  },
  {
   "cell_type": "code",
   "execution_count": 87,
   "id": "285c8740-f0bb-4237-8593-ff9b815de0e3",
   "metadata": {},
   "outputs": [],
   "source": [
    "from tensorflow.keras.models import load_model"
   ]
  },
  {
   "cell_type": "code",
   "execution_count": 88,
   "id": "2168984f-770c-436e-92da-c1344b1d3abc",
   "metadata": {},
   "outputs": [],
   "source": [
    "model_loaded = load_model('models\\embed_128_bi_lstm_100_dense_50_bn_77_epohs.h5', custom_objects={'R2': R2})"
   ]
  },
  {
   "cell_type": "code",
   "execution_count": 89,
   "id": "13a9d7d8-41e0-44a0-a8b9-02157a11f8f2",
   "metadata": {},
   "outputs": [],
   "source": [
    "y_pred = model_loaded.predict(X_test)"
   ]
  },
  {
   "cell_type": "code",
   "execution_count": 90,
   "id": "26c63493-3f25-4383-9654-58ee62aa3ae5",
   "metadata": {},
   "outputs": [
    {
     "data": {
      "text/plain": [
       "0.6675838195169012"
      ]
     },
     "execution_count": 90,
     "metadata": {},
     "output_type": "execute_result"
    }
   ],
   "source": [
    "r2 = 1 - ((y_test.values - y_pred.reshape(-1)) ** 2).sum() / ((y_test - y_test.mean()) ** 2).sum()\n",
    "r2"
   ]
  },
  {
   "cell_type": "markdown",
   "id": "c8ab60bf-7b98-4f46-b1dd-b08b5fbf8bed",
   "metadata": {},
   "source": [
    "¿Hasta que valores de r2 logró?"
   ]
  },
  {
   "cell_type": "markdown",
   "id": "cd252895-4430-4dd2-ae47-7f6a76cd2be6",
   "metadata": {},
   "source": [
    "0.66758"
   ]
  },
  {
   "cell_type": "markdown",
   "id": "7f1a6260-e31f-4e5e-a923-ce67bf31152f",
   "metadata": {},
   "source": [
    "# Evaluación"
   ]
  },
  {
   "cell_type": "code",
   "execution_count": 91,
   "id": "7dd9d7e6-2789-459e-b9dd-593e10847fc4",
   "metadata": {},
   "outputs": [
    {
     "data": {
      "text/plain": [
       "<function matplotlib.pyplot.show(close=None, block=None)>"
      ]
     },
     "execution_count": 91,
     "metadata": {},
     "output_type": "execute_result"
    },
    {
     "data": {
      "image/png": "[encoded data removed]",
      "text/plain": [
       "<Figure size 360x360 with 1 Axes>"
      ]
     },
     "metadata": {},
     "output_type": "display_data"
    }
   ],
   "source": [
    "import seaborn as sns\n",
    "import matplotlib.pyplot as plt\n",
    "\n",
    "sns.set(color_codes=True)\n",
    "sns.set_style(\"white\")\n",
    "\n",
    "ax = sns.regplot(x=y_test, y=y_pred, scatter_kws={'alpha':0.4})\n",
    "ax.set_xlabel('Experimental pIC50', fontsize='large', fontweight='bold')\n",
    "ax.set_ylabel('Predicted pIC50', fontsize='large', fontweight='bold')\n",
    "ax.set_xlim(0, 12)\n",
    "ax.set_ylim(0, 12)\n",
    "ax.figure.set_size_inches(5, 5)\n",
    "plt.show"
   ]
  }
 ],
 "metadata": {
  "kernelspec": {
   "display_name": "Python 3.9.13 ('final_project_bioinformatics')",
   "language": "python",
   "name": "python3"
  },
  "language_info": {
   "codemirror_mode": {
    "name": "ipython",
    "version": 3
   },
   "file_extension": ".py",
   "mimetype": "text/x-python",
   "name": "python",
   "nbconvert_exporter": "python",
   "pygments_lexer": "ipython3",
   "version": "3.9.13"
  },
  "vscode": {
   "interpreter": {
    "hash": "0c1c819bf5c658a6f1dc770ae4d100477099cd777ed42a621215178ec7cfa3b7"
   }
  }
 },
 "nbformat": 4,
 "nbformat_minor": 5
}
